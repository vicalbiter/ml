{
 "cells": [
  {
   "cell_type": "code",
   "execution_count": 21,
   "metadata": {},
   "outputs": [],
   "source": [
    "from pgmpy.models import BayesianModel\n",
    "from pgmpy.factors.discrete import TabularCPD\n",
    "from pgmpy.inference import VariableElimination"
   ]
  },
  {
   "cell_type": "code",
   "execution_count": 16,
   "metadata": {},
   "outputs": [
    {
     "data": {
      "text/plain": [
       "True"
      ]
     },
     "execution_count": 16,
     "metadata": {},
     "output_type": "execute_result"
    }
   ],
   "source": [
    "# Model definition\n",
    "model = BayesianModel([('E', 'F'), ('E', 'S'), ('F', 'V'), ('S', 'V'), ('V', 'D'), ('S', 'C')])\n",
    "\n",
    "# CPDs definition\n",
    "cpd_e = TabularCPD(variable='E', variable_card=2, values=[[0.99],[0.01]])\n",
    "cpd_f = TabularCPD(variable='F', variable_card=2, values=[[0.9, 0.4],[0.1, 0.6]], evidence=['E'], evidence_card=[2])\n",
    "cpd_s = TabularCPD(variable='S', variable_card=2, values=[[0.95, 0.2],[0.05, 0.8]], evidence=['E'], evidence_card=[2])\n",
    "cpd_d = TabularCPD(variable='D', variable_card=2, values=[[1.0, 0.4],[0.0, 0.6]], evidence=['V'], evidence_card=[2])\n",
    "cpd_c = TabularCPD(variable='C', variable_card=2, values=[[0.9, 0.25],[0.1, 0.75]], evidence=['S'], evidence_card=[2])\n",
    "cpd_v = TabularCPD(variable='V', variable_card=2, values=[[1.0, 0.3, 0.5, 0.2],[0.0, 0.7, 0.5, 0.8]], evidence=['F', 'S'], evidence_card=[2, 2])\n",
    "\n",
    "# Adding the CPDs to the model\n",
    "model.add_cpds(cpd_e, cpd_f, cpd_s, cpd_d, cpd_c, cpd_v)\n",
    "\n",
    "# Model check\n",
    "model.check_model()"
   ]
  },
  {
   "cell_type": "code",
   "execution_count": 20,
   "metadata": {},
   "outputs": [
    {
     "name": "stdout",
     "output_type": "stream",
     "text": [
      "+-----+----------+\n",
      "| E   |   phi(E) |\n",
      "|-----+----------|\n",
      "| E_0 |   0.9248 |\n",
      "| E_1 |   0.0752 |\n",
      "+-----+----------+\n"
     ]
    }
   ],
   "source": [
    "# Variable elimination\n",
    "inf = VariableElimination(model)\n",
    "\n",
    "# Perform the query\n",
    "query = inf.query(variables=['E'], evidence={'D':1})\n",
    "print(query['E'])"
   ]
  },
  {
   "cell_type": "markdown",
   "metadata": {},
   "source": [
    "Por lo tanto, la probabilidad de que, dado que un paciente es llevado al doctor, éste no tenga ébola ($P(E=Falso|D=Verdadero)$) es de **0.9248**."
   ]
  }
 ],
 "metadata": {
  "kernelspec": {
   "display_name": "Python 2",
   "language": "python",
   "name": "python2"
  },
  "language_info": {
   "codemirror_mode": {
    "name": "ipython",
    "version": 2
   },
   "file_extension": ".py",
   "mimetype": "text/x-python",
   "name": "python",
   "nbconvert_exporter": "python",
   "pygments_lexer": "ipython2",
   "version": "2.7.15"
  }
 },
 "nbformat": 4,
 "nbformat_minor": 2
}

{
 "cells": [
  {
   "cell_type": "markdown",
   "metadata": {},
   "source": [
    "<div style=\"text-align: right\"> Albíter Alpízar Vicente </div>\n",
    "<div style=\"text-align: right\"> Aprendizaje Computacional: Tarea 2 </div>\n",
    "<div style=\"text-align: right\"> 13/03/2019 </div>\n"
   ]
  },
  {
   "cell_type": "markdown",
   "metadata": {},
   "source": [
    "## Problema 1\n",
    "\n",
    "### EMV\n",
    "\n",
    "Primero, construiremos el clasificador usando el estimador de máxima verosimilitud. Asumimos que nuestro modelo sigue una distribución de probabilidad de Bernoulli.\n",
    "\n",
    "Comenzaremos por calcular, dada la tabla descrita en el problema, las probabilidades a priori siguientes:\n",
    "\n",
    "- $P(JA=Joven)=\\frac{6}{13}$\n",
    "- $P(JA=Adulto)=\\frac{7}{13}$\n",
    "\n",
    "Ahora bien, sea X = (Pink Floyd, The Beatles, REM, Nirvana, Queen, Oasis), asumiendo que las variables son condicionalmente independientes, calculamos las probabilidades de verosimilitud para la clase Joven:\n",
    "\n",
    "- $P(Pink Floyd = 1|JA = Joven) = \\frac{6}{6}$\n",
    "- $P(The Beatles = 1 | JA = Joven) = \\frac{3}{6}$\n",
    "- $P(REM = 1 | JA = Joven) = \\frac{3}{6}$\n",
    "- $P(Nirvana = 1 | JA = Joven) = \\frac{2}{6}$\n",
    "- $P(Queen = 1 | JA = Joven) = \\frac{3}{6}$\n",
    "- $P(Oasis= 1 | JA = Joven) = \\frac{3}{6}$\n",
    "\n",
    "Hacemos lo mismo para la clase Adulto:\n",
    "\n",
    "- $P(Pink Floyd = 1 | JA = Adulto) = \\frac{7}{7}$\n",
    "- $P(The Beatles = 1 | JA = Adulto) = \\frac{7}{7}$\n",
    "- $P(REM = 1 | JA = Adulto) = \\frac{4}{7}$\n",
    "- $P(Nirvana = 1 | JA = Adulto) = \\frac{3}{7}$\n",
    "- $P(Queen = 1 | JA = Adulto) = \\frac{5}{7}$\n",
    "- $P(Oasis = 1 | JA = Adulto) = \\frac{3}{7}$\n",
    "\n"
   ]
  },
  {
   "cell_type": "markdown",
   "metadata": {},
   "source": [
    "Con los parámetros anteriores, clasificamos a cada uno de los vectores dados:\n",
    "\n",
    "- $x_1 = (1, 1, 0, 1, 1, 0)$\n",
    "\n",
    "$P(Joven|x_1)\\ \\alpha\\ P(Joven) \\times\\ (P(PinkFloyd=1|Joven) \\times P(TheBeatles=1|Joven) \\times (1 - P(REM=1|Joven)) \\times P(Nirvana=1|Joven) \\times P(Queen=1|Joven) \\times (1 - P(Oasis=1|Joven)))$\n",
    "\n",
    "$$P(Joven|x_1)\\ \\alpha\\ \\frac{6}{13} \\times\\ (\\frac{6}{6} \\times \\frac{3}{6} \\times (1 - \\frac{3}{6}) \\times \\frac{2}{6} \\times \\frac{3}{6} \\times (1 - \\frac{3}{6}))$$"
   ]
  },
  {
   "cell_type": "code",
   "execution_count": 1,
   "metadata": {},
   "outputs": [
    {
     "data": {
      "text/plain": [
       "0.009615384615384616"
      ]
     },
     "execution_count": 1,
     "metadata": {},
     "output_type": "execute_result"
    }
   ],
   "source": [
    "(6.0/13)*(6.0/6)*(3.0/6)*(1 - (3.0/6))*(2.0/6)*(3.0/6)*(1-(3.0/6))"
   ]
  },
  {
   "cell_type": "markdown",
   "metadata": {},
   "source": [
    "$$P(Joven|x_1) = 0.0096$$"
   ]
  },
  {
   "cell_type": "markdown",
   "metadata": {},
   "source": [
    "$P(Adulto|x_1)\\ \\alpha\\ P(Adulto) \\times\\ (P(PinkFloyd=1|Adulto) \\times P(TheBeatles=1|Adulto) \\times (1 - P(REM=1|Adulto)) \\times P(Nirvana=1|Adulto) \\times P(Queen=1|Adulto) \\times (1 - P(Oasis=1|Adulto)))$\n",
    "\n",
    "$$P(Adulto|x_1)\\ \\alpha\\ \\frac{7}{13} \\times\\ (\\frac{7}{7} \\times \\frac{7}{7} \\times (1 - \\frac{4}{7}) \\times \\frac{3}{7} \\times \\frac{5}{7} \\times (1 - \\frac{3}{7}))$$"
   ]
  },
  {
   "cell_type": "code",
   "execution_count": 2,
   "metadata": {},
   "outputs": [
    {
     "data": {
      "text/plain": [
       "0.040367795469836286"
      ]
     },
     "execution_count": 2,
     "metadata": {},
     "output_type": "execute_result"
    }
   ],
   "source": [
    "(7.0/13)*(7.0/7)*(7.0/7)*(1 - (4.0/7))*(3.0/7)*(5.0/7)*(1-(3.0/7))"
   ]
  },
  {
   "cell_type": "markdown",
   "metadata": {},
   "source": [
    "$$P(Adulto|x_1) = 0.0404$$"
   ]
  },
  {
   "cell_type": "markdown",
   "metadata": {},
   "source": [
    "Ya que $P(Adulto|x_1)\\ >\\ P(Joven|x_1)$, concluimos que el vector $x_1$ corresponde a la clase Adulto.\n",
    "\n",
    "---"
   ]
  },
  {
   "cell_type": "markdown",
   "metadata": {},
   "source": [
    "- $x_2 = (1,0,1,1,1,1)$\n",
    "\n",
    "$$P(Joven|x_2)\\ \\alpha\\ \\frac{6}{13} \\times\\ (\\frac{6}{6} \\times (1 - \\frac{3}{6}) \\times \\frac{3}{6} \\times \\frac{2}{6} \\times \\frac{3}{6} \\times \\frac{3}{6})$$\n",
    "\n"
   ]
  },
  {
   "cell_type": "code",
   "execution_count": 3,
   "metadata": {},
   "outputs": [
    {
     "data": {
      "text/plain": [
       "0.009615384615384616"
      ]
     },
     "execution_count": 3,
     "metadata": {},
     "output_type": "execute_result"
    }
   ],
   "source": [
    "(6.0/13)*(6.0/6)*(1 - (3.0/6))*(3.0/6)*(2.0/6)*(3.0/6)*(3.0/6)"
   ]
  },
  {
   "cell_type": "markdown",
   "metadata": {},
   "source": [
    "$$P(Joven|x_2) = 0.0096$$"
   ]
  },
  {
   "cell_type": "markdown",
   "metadata": {},
   "source": [
    "$$P(Adulto|x_2)\\ \\alpha\\ \\frac{7}{13} \\times\\ (\\frac{7}{7} \\times (1 - \\frac{7}{7}) \\times \\frac{4}{7} \\times \\frac{3}{7} \\times \\frac{5}{7} \\times \\frac{3}{7})$$"
   ]
  },
  {
   "cell_type": "markdown",
   "metadata": {},
   "source": [
    "$$P(Adulto|x_2) = 0$$"
   ]
  },
  {
   "cell_type": "markdown",
   "metadata": {},
   "source": [
    "Ya que $P(Joven|x_2) > P(Adulto|x_2)$, concluimos que el vector $x_2$ corresponde a la clase Joven.\n",
    "\n",
    "---"
   ]
  },
  {
   "cell_type": "markdown",
   "metadata": {},
   "source": [
    "- $x_3 = (1, 1, 0, 0, 0, 0)$"
   ]
  },
  {
   "cell_type": "markdown",
   "metadata": {},
   "source": [
    "$$P(Joven|x_3)\\ \\alpha\\ \\frac{6}{13} \\times\\ (\\frac{6}{6} \\times \\frac{3}{6} \\times (1-\\frac{3}{6}) \\times (1-\\frac{2}{6}) \\times (1-\\frac{3}{6}) \\times (1-\\frac{3}{6}))$$"
   ]
  },
  {
   "cell_type": "code",
   "execution_count": 4,
   "metadata": {},
   "outputs": [
    {
     "data": {
      "text/plain": [
       "0.019230769230769235"
      ]
     },
     "execution_count": 4,
     "metadata": {},
     "output_type": "execute_result"
    }
   ],
   "source": [
    "(6.0/13)*(6.0/6)*(3.0/6)*(1 - (3.0/6))*(1-(2.0/6))*(1-(3.0/6))*(1-(3.0/6))"
   ]
  },
  {
   "cell_type": "markdown",
   "metadata": {},
   "source": [
    "$$P(Joven|x_3) = 0.0192$$"
   ]
  },
  {
   "cell_type": "markdown",
   "metadata": {},
   "source": [
    "$$P(Adulto|x_3)\\ \\alpha\\ \\frac{7}{13} \\times\\ (\\frac{7}{7} \\times \\frac{7}{7} \\times (1-\\frac{4}{7}) \\times (1-\\frac{3}{7}) \\times (1-\\frac{5}{7}) \\times (1-\\frac{3}{7}))$$"
   ]
  },
  {
   "cell_type": "code",
   "execution_count": 5,
   "metadata": {},
   "outputs": [
    {
     "data": {
      "text/plain": [
       "0.021529490917246017"
      ]
     },
     "execution_count": 5,
     "metadata": {},
     "output_type": "execute_result"
    }
   ],
   "source": [
    "(7.0/13)*(7.0/7)*(7.0/7)*(1 - (4.0/7))*(1-(3.0/7))*(1-(5.0/7))*(1-(3.0/7))"
   ]
  },
  {
   "cell_type": "markdown",
   "metadata": {},
   "source": [
    "$$P(Adulto|x_3) = 0.0215$$"
   ]
  },
  {
   "cell_type": "markdown",
   "metadata": {},
   "source": [
    "Ya que $P(Adulto|x_3) > P(Joven|x_3)$, concluimos que el vector $x_3$ corresponde a la clase Adulto.\n",
    "\n",
    "---"
   ]
  },
  {
   "cell_type": "markdown",
   "metadata": {},
   "source": [
    "- $x_4 = (1, 1, 1, 1, 1, 1)$"
   ]
  },
  {
   "cell_type": "markdown",
   "metadata": {},
   "source": [
    "$$P(Joven|x_4)\\ \\alpha\\ \\frac{6}{13} \\times\\ (\\frac{6}{6} \\times \\frac{3}{6} \\times \\frac{3}{6} \\times \\frac{2}{6} \\times \\frac{3}{6} \\times \\frac{3}{6})$$"
   ]
  },
  {
   "cell_type": "code",
   "execution_count": 6,
   "metadata": {},
   "outputs": [
    {
     "data": {
      "text/plain": [
       "0.009615384615384616"
      ]
     },
     "execution_count": 6,
     "metadata": {},
     "output_type": "execute_result"
    }
   ],
   "source": [
    "(6.0/13)*(6.0/6)*(3.0/6)*(3.0/6)*(2.0/6)*(3.0/6)*(3.0/6)"
   ]
  },
  {
   "cell_type": "markdown",
   "metadata": {},
   "source": [
    "$$P(Joven|x_4) = 0.0096$$"
   ]
  },
  {
   "cell_type": "markdown",
   "metadata": {},
   "source": [
    "$$P(Adulto|x_4)\\ \\alpha\\ \\frac{7}{13} \\times\\ (\\frac{7}{7} \\times \\frac{7}{7} \\times \\frac{4}{7} \\times \\frac{3}{7} \\times \\frac{5}{7} \\times \\frac{3}{7})$$"
   ]
  },
  {
   "cell_type": "code",
   "execution_count": 7,
   "metadata": {},
   "outputs": [
    {
     "data": {
      "text/plain": [
       "0.04036779546983627"
      ]
     },
     "execution_count": 7,
     "metadata": {},
     "output_type": "execute_result"
    }
   ],
   "source": [
    "(7.0/13)*(7.0/7)*(7.0/7)*(4.0/7)*(3.0/7)*(5.0/7)*(3.0/7)"
   ]
  },
  {
   "cell_type": "markdown",
   "metadata": {},
   "source": [
    "$$P(Adulto|x_4) = 0.0404$$"
   ]
  },
  {
   "cell_type": "markdown",
   "metadata": {},
   "source": [
    "Ya que $P(Adulto|x_4) > P(Joven|x_4)$, concluimos que el vector $x_4$ corresponde a la clase Adulto.\n",
    "\n",
    "---"
   ]
  },
  {
   "cell_type": "markdown",
   "metadata": {},
   "source": [
    "- $x_5 = (0, 1, 1, 1, 1, 1)$"
   ]
  },
  {
   "cell_type": "markdown",
   "metadata": {},
   "source": [
    "$$P(Joven|x_5)\\ \\alpha\\ \\frac{6}{13} \\times\\ ((1-\\frac{6}{6}) \\times \\frac{3}{6} \\times \\frac{3}{6} \\times \\frac{2}{6} \\times \\frac{3}{6} \\times \\frac{3}{6})$$"
   ]
  },
  {
   "cell_type": "markdown",
   "metadata": {},
   "source": [
    "$$P(Joven|x_5) = 0$$"
   ]
  },
  {
   "cell_type": "markdown",
   "metadata": {},
   "source": [
    "$$P(Adulto|x_5)\\ \\alpha\\ \\frac{7}{13} \\times\\ ((1-\\frac{7}{7}) \\times \\frac{7}{7} \\times \\frac{4}{7} \\times \\frac{3}{7} \\times \\frac{5}{7} \\times \\frac{3}{7})$$"
   ]
  },
  {
   "cell_type": "markdown",
   "metadata": {},
   "source": [
    "$$P(Adulto|x_5) = 0$$"
   ]
  },
  {
   "cell_type": "markdown",
   "metadata": {},
   "source": [
    "Ya que $P(Joven|x_5) = P(Adulto|x_5)$ no es posible clasificar al vector $x_5$ usando el estimador de máxima verosimilitud planteado.\n",
    "\n",
    "---"
   ]
  },
  {
   "cell_type": "markdown",
   "metadata": {},
   "source": [
    "### MAP\n",
    "\n",
    "A continuación, realizaremos la clasificación de los vectores anteriores usando un estimador de máximo a posteriori para calcular todos los parámetros de los atributos definidos por X y la clase C. Nuevamente asumiremos una distribución de probabilidad de Bernoulli, y para calcular los parámetros con MAP, usaremos usaremos:\n",
    "\n",
    "$$q_{C} = \\frac{N_C+ \\alpha - 1}{N + \\beta + \\alpha - 2}$$\n",
    "\n",
    "$$q_{x|C} = \\frac{n_c(x)+ \\alpha - 1}{N + \\beta + \\alpha - 2}$$\n",
    "\n",
    "Donde asumiremos que:\n",
    "\n",
    "- Para los parámetros de los atributos, $\\alpha = 2$ y $\\beta=|V|$ (donde |V| representa el número de valores que puede tomar el atributo en cuestión). En todos los casos $\\beta = 2$.\n",
    "- Para los parámetros de la clase, $\\alpha = 2$ y $\\beta=|C|$ (donde C representa el número de valores que puede tomar la clase en cuestión). En todos los casos $\\beta = 2$.\n",
    "\n",
    "Calculamos pues los parámetros de clase:\n",
    "\n",
    "- $q_{Joven} = \\frac{6+2-1}{13+2+2-2} = \\frac{7}{15}$\n",
    "- $q_{Adulto} = \\frac{7+2-1}{13+2+2-2} = \\frac{8}{15}$\n",
    "\n",
    "Para la parte restante de este inciso, y en adelante, automatizaremos el cálculo de cada uno de los parámetros de clase y de atributos. Para hacerlo, importaremos la tabla mostrada en el problema a un arreglo que pueda ser manipulado por NumPy.\n",
    "\n"
   ]
  },
  {
   "cell_type": "code",
   "execution_count": 8,
   "metadata": {},
   "outputs": [],
   "source": [
    "qj = 7.0/15\n",
    "qa = 8.0/15"
   ]
  },
  {
   "cell_type": "markdown",
   "metadata": {},
   "source": [
    "Para la parte restante de este inciso, y en adelante, automatizaremos el cálculo de cada uno de los parámetros de clase y de atributos. Para hacerlo, importaremos la tabla mostrada en el problema a un arreglo que pueda ser manipulado por NumPy.\n"
   ]
  },
  {
   "cell_type": "code",
   "execution_count": 9,
   "metadata": {},
   "outputs": [],
   "source": [
    "import pandas"
   ]
  },
  {
   "cell_type": "code",
   "execution_count": 10,
   "metadata": {},
   "outputs": [],
   "source": [
    "bandas = pandas.read_csv('bandas.csv')"
   ]
  },
  {
   "cell_type": "code",
   "execution_count": 11,
   "metadata": {},
   "outputs": [
    {
     "data": {
      "text/html": [
       "<div>\n",
       "<style scoped>\n",
       "    .dataframe tbody tr th:only-of-type {\n",
       "        vertical-align: middle;\n",
       "    }\n",
       "\n",
       "    .dataframe tbody tr th {\n",
       "        vertical-align: top;\n",
       "    }\n",
       "\n",
       "    .dataframe thead th {\n",
       "        text-align: right;\n",
       "    }\n",
       "</style>\n",
       "<table border=\"1\" class=\"dataframe\">\n",
       "  <thead>\n",
       "    <tr style=\"text-align: right;\">\n",
       "      <th></th>\n",
       "      <th>Pink Floyd</th>\n",
       "      <th>The Beatles</th>\n",
       "      <th>REM</th>\n",
       "      <th>Nirvana</th>\n",
       "      <th>Queen</th>\n",
       "      <th>Oasis</th>\n",
       "      <th>JA</th>\n",
       "    </tr>\n",
       "  </thead>\n",
       "  <tbody>\n",
       "    <tr>\n",
       "      <th>0</th>\n",
       "      <td>1</td>\n",
       "      <td>0</td>\n",
       "      <td>0</td>\n",
       "      <td>1</td>\n",
       "      <td>1</td>\n",
       "      <td>1</td>\n",
       "      <td>J</td>\n",
       "    </tr>\n",
       "    <tr>\n",
       "      <th>1</th>\n",
       "      <td>1</td>\n",
       "      <td>1</td>\n",
       "      <td>0</td>\n",
       "      <td>1</td>\n",
       "      <td>1</td>\n",
       "      <td>0</td>\n",
       "      <td>J</td>\n",
       "    </tr>\n",
       "    <tr>\n",
       "      <th>2</th>\n",
       "      <td>1</td>\n",
       "      <td>1</td>\n",
       "      <td>1</td>\n",
       "      <td>0</td>\n",
       "      <td>0</td>\n",
       "      <td>1</td>\n",
       "      <td>J</td>\n",
       "    </tr>\n",
       "    <tr>\n",
       "      <th>3</th>\n",
       "      <td>1</td>\n",
       "      <td>0</td>\n",
       "      <td>1</td>\n",
       "      <td>0</td>\n",
       "      <td>0</td>\n",
       "      <td>1</td>\n",
       "      <td>J</td>\n",
       "    </tr>\n",
       "    <tr>\n",
       "      <th>4</th>\n",
       "      <td>1</td>\n",
       "      <td>0</td>\n",
       "      <td>0</td>\n",
       "      <td>0</td>\n",
       "      <td>1</td>\n",
       "      <td>0</td>\n",
       "      <td>J</td>\n",
       "    </tr>\n",
       "    <tr>\n",
       "      <th>5</th>\n",
       "      <td>1</td>\n",
       "      <td>1</td>\n",
       "      <td>1</td>\n",
       "      <td>0</td>\n",
       "      <td>0</td>\n",
       "      <td>0</td>\n",
       "      <td>J</td>\n",
       "    </tr>\n",
       "    <tr>\n",
       "      <th>6</th>\n",
       "      <td>1</td>\n",
       "      <td>1</td>\n",
       "      <td>0</td>\n",
       "      <td>0</td>\n",
       "      <td>1</td>\n",
       "      <td>1</td>\n",
       "      <td>A</td>\n",
       "    </tr>\n",
       "    <tr>\n",
       "      <th>7</th>\n",
       "      <td>1</td>\n",
       "      <td>1</td>\n",
       "      <td>1</td>\n",
       "      <td>0</td>\n",
       "      <td>0</td>\n",
       "      <td>1</td>\n",
       "      <td>A</td>\n",
       "    </tr>\n",
       "    <tr>\n",
       "      <th>8</th>\n",
       "      <td>1</td>\n",
       "      <td>1</td>\n",
       "      <td>1</td>\n",
       "      <td>1</td>\n",
       "      <td>1</td>\n",
       "      <td>0</td>\n",
       "      <td>A</td>\n",
       "    </tr>\n",
       "    <tr>\n",
       "      <th>9</th>\n",
       "      <td>1</td>\n",
       "      <td>1</td>\n",
       "      <td>1</td>\n",
       "      <td>0</td>\n",
       "      <td>1</td>\n",
       "      <td>0</td>\n",
       "      <td>A</td>\n",
       "    </tr>\n",
       "    <tr>\n",
       "      <th>10</th>\n",
       "      <td>1</td>\n",
       "      <td>1</td>\n",
       "      <td>1</td>\n",
       "      <td>0</td>\n",
       "      <td>1</td>\n",
       "      <td>1</td>\n",
       "      <td>A</td>\n",
       "    </tr>\n",
       "    <tr>\n",
       "      <th>11</th>\n",
       "      <td>1</td>\n",
       "      <td>1</td>\n",
       "      <td>0</td>\n",
       "      <td>1</td>\n",
       "      <td>1</td>\n",
       "      <td>0</td>\n",
       "      <td>A</td>\n",
       "    </tr>\n",
       "    <tr>\n",
       "      <th>12</th>\n",
       "      <td>1</td>\n",
       "      <td>1</td>\n",
       "      <td>0</td>\n",
       "      <td>1</td>\n",
       "      <td>0</td>\n",
       "      <td>0</td>\n",
       "      <td>A</td>\n",
       "    </tr>\n",
       "  </tbody>\n",
       "</table>\n",
       "</div>"
      ],
      "text/plain": [
       "    Pink Floyd  The Beatles  REM  Nirvana  Queen  Oasis JA\n",
       "0            1            0    0        1      1      1  J\n",
       "1            1            1    0        1      1      0  J\n",
       "2            1            1    1        0      0      1  J\n",
       "3            1            0    1        0      0      1  J\n",
       "4            1            0    0        0      1      0  J\n",
       "5            1            1    1        0      0      0  J\n",
       "6            1            1    0        0      1      1  A\n",
       "7            1            1    1        0      0      1  A\n",
       "8            1            1    1        1      1      0  A\n",
       "9            1            1    1        0      1      0  A\n",
       "10           1            1    1        0      1      1  A\n",
       "11           1            1    0        1      1      0  A\n",
       "12           1            1    0        1      0      0  A"
      ]
     },
     "execution_count": 11,
     "metadata": {},
     "output_type": "execute_result"
    }
   ],
   "source": [
    "bandas"
   ]
  },
  {
   "cell_type": "markdown",
   "metadata": {},
   "source": [
    "Primero, dividimos a la tabla anterior en un arreglo \"v\" donde esté contenida la información de las bandas, y un vector \"c\" que tenga la información de las clases. Esto con la intención de poder manejar los datos más fácilmente en un programa."
   ]
  },
  {
   "cell_type": "code",
   "execution_count": 12,
   "metadata": {},
   "outputs": [],
   "source": [
    "b = bandas.values\n",
    "v = b[:,:-1]\n",
    "c = b[:,-1]"
   ]
  },
  {
   "cell_type": "markdown",
   "metadata": {},
   "source": [
    "Ahora, para calcular los parámetros $q_{a|C}$, usamos la siguiente función, que toma como entradas el nombre de la clase en cuestión (_C_),  y los valores de $\\alpha$ y $\\beta$ definidos previamente."
   ]
  },
  {
   "cell_type": "code",
   "execution_count": 13,
   "metadata": {},
   "outputs": [],
   "source": [
    "def getParamsForClass(name, alpha, beta):\n",
    "    n = 0\n",
    "    nc = 0\n",
    "    params = []\n",
    "    for i in range(len(c)):\n",
    "        if c[i] == name:\n",
    "            n = n + 1\n",
    "    for i in range(len(v[0])):\n",
    "        for j in range(len(v)):\n",
    "            if c[j] == name:\n",
    "                nc = nc + v[j][i]\n",
    "        params.append(1.0*(nc + alpha - 1)/(n + beta + alpha - 2))\n",
    "        nc = 0\n",
    "\n",
    "    return params"
   ]
  },
  {
   "cell_type": "code",
   "execution_count": 14,
   "metadata": {},
   "outputs": [
    {
     "data": {
      "text/plain": [
       "[0.875, 0.5, 0.5, 0.375, 0.5, 0.5]"
      ]
     },
     "execution_count": 14,
     "metadata": {},
     "output_type": "execute_result"
    }
   ],
   "source": [
    "jparams = getParamsForClass('J', 2, 2)\n",
    "jparams"
   ]
  },
  {
   "cell_type": "markdown",
   "metadata": {},
   "source": [
    "Esto es, para la clase Joven, tenemos:\n",
    "\n",
    "- $P_{PinkFloyd|Joven}=0.875$\n",
    "- $P_{TheBeatles|Joven}=0.5$\n",
    "- $P_{REM|Joven}=0.5$\n",
    "- $P_{Nirvana|Joven}=0.375$\n",
    "- $P_{Queen|Joven}=0.5$\n",
    "- $P_{Oasis|Joven}=0.5$"
   ]
  },
  {
   "cell_type": "code",
   "execution_count": 15,
   "metadata": {},
   "outputs": [
    {
     "data": {
      "text/plain": [
       "[0.8888888888888888,\n",
       " 0.8888888888888888,\n",
       " 0.5555555555555556,\n",
       " 0.4444444444444444,\n",
       " 0.6666666666666666,\n",
       " 0.4444444444444444]"
      ]
     },
     "execution_count": 15,
     "metadata": {},
     "output_type": "execute_result"
    }
   ],
   "source": [
    "aparams = getParamsForClass('A', 2, 2)\n",
    "aparams"
   ]
  },
  {
   "cell_type": "markdown",
   "metadata": {},
   "source": [
    "Por su parte, para la clase Adulto, tenemos:\n",
    "\n",
    "- $P_{PinkFloyd|Adulto}=0.8889$\n",
    "- $P_{TheBeatles|Adulto}=0.8889$\n",
    "- $P_{REM|Adulto}=0.5556$\n",
    "- $P_{Nirvana|Adulto}=0.4444$\n",
    "- $P_{Queen|Adulto}=0.6667$\n",
    "- $P_{Oasis|Adulto}=0.4444$"
   ]
  },
  {
   "cell_type": "markdown",
   "metadata": {},
   "source": [
    "Con los parámetros obtenidos, obtenemos las probabilidades de pertenencia a cada una de las clases para cada uno de los vectores de prueba, usando la siguiente función. Esta función toma como entradas el parámetro de la clase en cuestión (\"cls\"), el vector de prueba (\"testvector\") y los parámetros asociados a la clase (\"params\"), y regresa la probabilidad estimada $P(C|X)$."
   ]
  },
  {
   "cell_type": "code",
   "execution_count": 16,
   "metadata": {},
   "outputs": [],
   "source": [
    "def getProbabilities(cls, testvector, params):\n",
    "    prob = 1\n",
    "    for i in range(len(testvector)):\n",
    "        if testvector[i] == 1:\n",
    "            prob = prob * params[i]\n",
    "        else:\n",
    "            prob = prob * (1 - params[i])\n",
    "    return cls * prob"
   ]
  },
  {
   "cell_type": "markdown",
   "metadata": {},
   "source": [
    "Así pues, clasificamos a cada vector según la máxima probabilidad obtenida.\n",
    "\n",
    "- $x_1 = (1,1,0,1,1,0)$"
   ]
  },
  {
   "cell_type": "code",
   "execution_count": 17,
   "metadata": {},
   "outputs": [
    {
     "data": {
      "text/plain": [
       "0.0095703125"
      ]
     },
     "execution_count": 17,
     "metadata": {},
     "output_type": "execute_result"
    }
   ],
   "source": [
    "getProbabilities(qj, [1,1,0,1,1,0], jparams) "
   ]
  },
  {
   "cell_type": "code",
   "execution_count": 18,
   "metadata": {},
   "outputs": [
    {
     "data": {
      "text/plain": [
       "0.030829386517035755"
      ]
     },
     "execution_count": 18,
     "metadata": {},
     "output_type": "execute_result"
    }
   ],
   "source": [
    "getProbabilities(qa, [1,1,0,1,1,0], aparams) "
   ]
  },
  {
   "cell_type": "markdown",
   "metadata": {},
   "source": [
    "Tenemos entonces que:\n",
    "\n",
    "$$P(Joven|x_1) = 0.0096$$\n",
    "$$P(Adulto|x_1) = 0.0309$$\n",
    "\n",
    "Por lo tanto, concluimos que $x_1$ pertenece a la clase Adulto.\n",
    "\n",
    "---\n",
    "\n",
    "- $x_2 = (1, 0, 1, 1, 1, 1)$"
   ]
  },
  {
   "cell_type": "code",
   "execution_count": 19,
   "metadata": {},
   "outputs": [
    {
     "data": {
      "text/plain": [
       "0.0095703125"
      ]
     },
     "execution_count": 19,
     "metadata": {},
     "output_type": "execute_result"
    }
   ],
   "source": [
    "getProbabilities(qj, [1,0,1,1,1,1], jparams) "
   ]
  },
  {
   "cell_type": "code",
   "execution_count": 20,
   "metadata": {},
   "outputs": [
    {
     "data": {
      "text/plain": [
       "0.003853673314629471"
      ]
     },
     "execution_count": 20,
     "metadata": {},
     "output_type": "execute_result"
    }
   ],
   "source": [
    "getProbabilities(qa, [1,0,1,1,1,1], aparams) "
   ]
  },
  {
   "cell_type": "markdown",
   "metadata": {},
   "source": [
    "Tenemos entonces que :\n",
    "\n",
    "$$P(Joven|x_2) = 0.0096$$\n",
    "$$P(Adulto|x_2) = 0.0038$$\n",
    "\n",
    "Por lo tanto, concluimos que $x_2$ pertenece a la clase Joven.\n",
    "\n",
    "---\n",
    "\n",
    "- $x_3 = (1, 1, 0, 0, 0, 0)$\n"
   ]
  },
  {
   "cell_type": "code",
   "execution_count": 21,
   "metadata": {},
   "outputs": [
    {
     "data": {
      "text/plain": [
       "0.015950520833333332"
      ]
     },
     "execution_count": 21,
     "metadata": {},
     "output_type": "execute_result"
    }
   ],
   "source": [
    "getProbabilities(qj, [1,1,0,0,0,0], jparams) "
   ]
  },
  {
   "cell_type": "code",
   "execution_count": 22,
   "metadata": {},
   "outputs": [
    {
     "data": {
      "text/plain": [
       "0.01926836657314735"
      ]
     },
     "execution_count": 22,
     "metadata": {},
     "output_type": "execute_result"
    }
   ],
   "source": [
    "getProbabilities(qa, [1,1,0,0,0,0], aparams) "
   ]
  },
  {
   "cell_type": "markdown",
   "metadata": {},
   "source": [
    "Tenemos entonces que :\n",
    "\n",
    "$$P(Joven|x_3) = 0.0159$$\n",
    "$$P(Adulto|x_3) = 0.0192$$\n",
    "\n",
    "Por lo tanto, concluimos que $x_3$ pertenece a la clase Adulto.\n",
    "\n",
    "---\n",
    "\n",
    "- $x_4 = (1, 1, 1, 1, 1, 1)$"
   ]
  },
  {
   "cell_type": "code",
   "execution_count": 23,
   "metadata": {},
   "outputs": [
    {
     "data": {
      "text/plain": [
       "0.0095703125"
      ]
     },
     "execution_count": 23,
     "metadata": {},
     "output_type": "execute_result"
    }
   ],
   "source": [
    "getProbabilities(qj, [1,1,1,1,1,1], jparams) "
   ]
  },
  {
   "cell_type": "code",
   "execution_count": 24,
   "metadata": {},
   "outputs": [
    {
     "data": {
      "text/plain": [
       "0.03082938651703575"
      ]
     },
     "execution_count": 24,
     "metadata": {},
     "output_type": "execute_result"
    }
   ],
   "source": [
    "getProbabilities(qa, [1,1,1,1,1,1], aparams) "
   ]
  },
  {
   "cell_type": "markdown",
   "metadata": {},
   "source": [
    "Tenemos entonces que :\n",
    "\n",
    "$$P(Joven|x_4) = 0.0096$$\n",
    "$$P(Adulto|x_4) = 0.0308$$\n",
    "\n",
    "Por lo tanto, concluimos que $x_4$ pertenece a la clase Adulto.\n",
    "\n",
    "---\n",
    "\n",
    "- $x_5 = (0, 1, 1, 1, 1, 1)$"
   ]
  },
  {
   "cell_type": "code",
   "execution_count": 25,
   "metadata": {},
   "outputs": [
    {
     "data": {
      "text/plain": [
       "0.0013671875"
      ]
     },
     "execution_count": 25,
     "metadata": {},
     "output_type": "execute_result"
    }
   ],
   "source": [
    "getProbabilities(qj, [0,1,1,1,1,1], jparams) "
   ]
  },
  {
   "cell_type": "code",
   "execution_count": 26,
   "metadata": {},
   "outputs": [
    {
     "data": {
      "text/plain": [
       "0.003853673314629471"
      ]
     },
     "execution_count": 26,
     "metadata": {},
     "output_type": "execute_result"
    }
   ],
   "source": [
    "getProbabilities(qa, [0,1,1,1,1,1], aparams) "
   ]
  },
  {
   "cell_type": "markdown",
   "metadata": {},
   "source": [
    "Tenemos entonces que :\n",
    "\n",
    "$$P(Joven|x_5) = 0.0014$$\n",
    "$$P(Adulto|x_5) = 0.0039$$\n",
    "\n",
    "Por lo tanto, concluimos que $x_5$ pertenece a la clase Adulto."
   ]
  },
  {
   "cell_type": "markdown",
   "metadata": {},
   "source": [
    "## Problema 2"
   ]
  },
  {
   "cell_type": "markdown",
   "metadata": {},
   "source": [
    "### Preparación de los datos y elección del modelo\n",
    "\n",
    "Para construir a nuestro clasificador bayesiano ingenuo (más adelante se explicará que se usará un estimador de máxima verosimilitud para hacerlo), primero debemos cómo están distribuidas nuestras variables de entrenamiento. Esto con la intención de determinar el modelo a utilizar a la hora de entrenar al clasificador."
   ]
  },
  {
   "cell_type": "code",
   "execution_count": 27,
   "metadata": {},
   "outputs": [],
   "source": [
    "import matplotlib.pyplot as plt\n",
    "bact = pandas.read_csv('bacterias.csv')"
   ]
  },
  {
   "cell_type": "code",
   "execution_count": 28,
   "metadata": {
    "scrolled": true
   },
   "outputs": [],
   "source": [
    "b = bact.values"
   ]
  },
  {
   "cell_type": "code",
   "execution_count": 29,
   "metadata": {
    "scrolled": true
   },
   "outputs": [
    {
     "data": {
      "image/png": "[encoded data removed]",
      "text/plain": [
       "<Figure size 432x288 with 1 Axes>"
      ]
     },
     "metadata": {
      "needs_background": "light"
     },
     "output_type": "display_data"
    }
   ],
   "source": [
    "n, bins, patches = plt.hist(b[:,0], 15, facecolor='red', alpha=0.5)"
   ]
  },
  {
   "cell_type": "code",
   "execution_count": 30,
   "metadata": {},
   "outputs": [
    {
     "data": {
      "image/png": "[encoded data removed]",
      "text/plain": [
       "<Figure size 432x288 with 1 Axes>"
      ]
     },
     "metadata": {
      "needs_background": "light"
     },
     "output_type": "display_data"
    }
   ],
   "source": [
    "n, bins, patches = plt.hist(b[:,1], 15, facecolor='blue', alpha=0.5)"
   ]
  },
  {
   "cell_type": "markdown",
   "metadata": {},
   "source": [
    "Observamos que tanto las variables $X_1$ y $X_2$ parecen estar normalmente distribuidas. Por lo tanto, asumiremos para nuestro modelo que $P(X_1|C)$ y $P(X_2|C)$ siguen distribuciones Gaussianas. Ya que la clase C sólo puede tomar valores de 0 y 1, asumiremos que $P(C)$ sigue una distribución binomial.\n",
    "\n",
    "Para construir el clasificador, haremos uso de sci-kitlearn. Específicamente, utilizaremos la clase _GaussianNB_ para entrenar al clasificador. Según la documentación de la clase _GaussianNB_, los parámetros de los atributos son estimados usando un estimador de máxima verosimilitud (EMP).\n",
    "\n",
    "Así pues, importamos la clase mencionada, y le damos como entrada los datos de las variables $X_1$ y $X_2$, y su clase asociada $C$.\n",
    "\n"
   ]
  },
  {
   "cell_type": "code",
   "execution_count": 31,
   "metadata": {},
   "outputs": [],
   "source": [
    "import numpy as np\n",
    "from sklearn.naive_bayes import GaussianNB\n",
    "gnb = GaussianNB()\n",
    "data = b[:, :-1]\n",
    "labels = np.transpose(b[:, 2:].flatten())"
   ]
  },
  {
   "cell_type": "markdown",
   "metadata": {},
   "source": [
    "---\n",
    "\n",
    "### Predicciones\n",
    "\n",
    "Con lo anterior, entrenamos a nuestro clasificador (usando el método _fit_ de la clase GaussianNB), y realizamos las predicciones de clase sobre los mismos datos de entrenamiento (usando el método _predict_):"
   ]
  },
  {
   "cell_type": "code",
   "execution_count": 32,
   "metadata": {},
   "outputs": [],
   "source": [
    "predictions = gnb.fit(data, labels).predict(data)"
   ]
  },
  {
   "cell_type": "markdown",
   "metadata": {},
   "source": [
    "Observamos que las predicciones sobre los datos de entrenamiento son las siguientes:"
   ]
  },
  {
   "cell_type": "code",
   "execution_count": 33,
   "metadata": {},
   "outputs": [
    {
     "data": {
      "text/plain": [
       "array([1., 1., 1., 0., 0., 1., 0., 0., 1., 1., 0., 1., 1., 0., 1., 0., 1.,\n",
       "       1., 1., 1., 1., 1., 0., 1., 0., 1., 0., 1., 1., 1., 1., 1., 0., 0.,\n",
       "       1., 1., 1., 1., 0., 1., 0., 0., 1., 0., 1., 1., 1., 1., 0., 0., 1.,\n",
       "       0., 1., 0., 1., 1., 0., 0., 1., 0., 1., 0., 1., 1., 0., 0., 1., 0.,\n",
       "       1., 0., 1., 1., 1., 1., 1., 0., 1., 1., 1., 1., 1., 0., 1., 1., 1.,\n",
       "       0., 1., 0., 0., 1., 0., 1., 0., 1., 1., 1., 1., 1., 0., 0., 1., 1.,\n",
       "       0., 1., 1., 1., 1., 1., 1., 1., 1., 0., 1., 1., 0., 0., 1., 1., 0.,\n",
       "       0., 1., 0., 0., 0., 1., 0., 0., 1., 0., 0., 1., 0., 0., 0., 1., 1.,\n",
       "       1., 0., 1., 1., 1., 0., 0., 0., 0., 0., 1., 1., 1., 1., 0., 0., 0.,\n",
       "       1., 1., 1., 1., 1., 1., 0., 1., 0., 1., 0., 1., 0., 1., 0., 1., 1.,\n",
       "       0., 0., 1., 1., 1., 0., 1., 1., 0., 0., 0., 0., 1., 1., 1., 1., 1.,\n",
       "       0., 1., 1., 1., 0., 0., 0., 1., 1., 0., 1., 1., 1., 0., 0., 0., 0.,\n",
       "       1., 0., 1., 1., 1., 1., 1., 1., 1., 1., 1., 0., 0., 1., 1., 0., 0.,\n",
       "       1., 1., 1., 1., 1., 1., 1., 1., 1., 1., 1., 1., 1., 0., 1., 0., 1.,\n",
       "       1., 0., 0., 1., 0., 1., 1., 1., 0., 1., 1., 0., 1., 1., 0., 1., 0.,\n",
       "       1., 1., 1., 0., 1., 1., 1., 1., 0., 1., 1., 1., 1., 1., 0., 0., 0.,\n",
       "       1., 1., 1., 1., 1., 0., 1., 1., 1., 1., 1., 1., 1., 1., 1., 1., 1.,\n",
       "       1., 1., 0., 1., 1., 1., 1., 1., 1., 0., 1., 0., 1., 1., 1., 0., 0.,\n",
       "       1., 1., 1., 0., 1., 1., 0., 0., 0., 1., 1., 1., 1., 1., 0., 1., 1.,\n",
       "       0., 0., 0., 1., 1., 0., 1., 0., 1., 0., 1., 1., 1., 1., 1., 1., 1.,\n",
       "       1., 0., 0., 1., 0., 0., 1., 0., 1., 1., 1., 1., 0., 1., 0., 1., 0.,\n",
       "       1., 1., 1., 1., 1., 1., 1., 1., 1., 0., 0., 0., 0., 0., 1., 0., 0.,\n",
       "       1., 1., 1., 1., 1., 1., 1., 1., 1., 0., 1., 0., 1., 1., 1., 1., 1.,\n",
       "       0., 1., 1., 1., 1., 1., 0., 1.])"
      ]
     },
     "execution_count": 33,
     "metadata": {},
     "output_type": "execute_result"
    }
   ],
   "source": [
    "predictions"
   ]
  },
  {
   "cell_type": "markdown",
   "metadata": {},
   "source": [
    "Para calcular el número de errores que nuestro clasificador cometió a la hora de predecir las etiquedas de los datos que le dimos, usamos la siguiente función:"
   ]
  },
  {
   "cell_type": "code",
   "execution_count": 34,
   "metadata": {},
   "outputs": [],
   "source": [
    "def countCorrectPredictions(expected_labels, predicted_labels):\n",
    "    count = 0\n",
    "    for i in range(len(predicted_labels)):\n",
    "        if expected_labels[i] == predicted_labels[i]:\n",
    "            count = count + 1\n",
    "    return count"
   ]
  },
  {
   "cell_type": "markdown",
   "metadata": {},
   "source": [
    "Así pues, le damos como entrada a nuestra función las etiquetas esperadas (o sea, las etiquetas asociadas a los datos de entrenamiento) y las etiquedas arrojadas por el clasificador. Ya que hay 400 datos de entrenamiento, calculamos también el porcentaje de predicciones correctas:"
   ]
  },
  {
   "cell_type": "code",
   "execution_count": 35,
   "metadata": {},
   "outputs": [
    {
     "name": "stdout",
     "output_type": "stream",
     "text": [
      "Predicciones correctas: 220\n",
      "% de predicciones correctas: 0.55\n"
     ]
    }
   ],
   "source": [
    "count = countCorrectPredictions(labels, predictions)\n",
    "print 'Predicciones correctas: ' + str(count)\n",
    "print '% de predicciones correctas: ' + str(count / 400.0)"
   ]
  },
  {
   "cell_type": "markdown",
   "metadata": {},
   "source": [
    "Es decir, se realizaron **220** predicciones correctas sobre los datos de entrenamiento, o sea, un **55%** de predicciones correctas (sólo 5% arriba del valor esperado respecto a si se estuvieran haciendo las predicciones de manera aleatoria).\n",
    "\n",
    "---\n",
    "\n",
    "### Conclusiones\n",
    "\n",
    "Para entender por qué a nuestro clasificador le cuesta tanto trabajo predecir correctamente los datos, observemos la distribución de los datos de entrenamiento, vistos de manera gráfica, donde los puntos rojos corresponden a los datos clasificados como '0', y los puntos azules corresponden a los datos clasificados como '1'."
   ]
  },
  {
   "cell_type": "code",
   "execution_count": 36,
   "metadata": {},
   "outputs": [
    {
     "data": {
      "image/png": "[encoded data removed]",
      "text/plain": [
       "<Figure size 432x288 with 1 Axes>"
      ]
     },
     "metadata": {
      "needs_background": "light"
     },
     "output_type": "display_data"
    }
   ],
   "source": [
    "x0 = b[:-200, 0]\n",
    "y0 = b[:-200, 1]\n",
    "x1 = b[199:,0]\n",
    "y1 = b[199:,1]\n",
    "plt.plot(x0, y0, 'rs', x1, y1, 'bs')\n",
    "plt.show()"
   ]
  },
  {
   "cell_type": "markdown",
   "metadata": {},
   "source": [
    "Se observa claramente cómo, ya que tanto $X_1$ y $X_2$ están distribuidos normalmente, la mayor parte de las concentraciones de químicos usadas en el cultivo de bacterias se encuetran entre los valores intermedios de $X_1$ y $X_2$ (aproximadamente entre 8 y 12 unidades de concentración). Para estos valores (que representan a la mayoría), no es claro cómo las concentraciones de los químicos determinan si una bacteria vive o muere. Por otro lado, se observa que para los valores extremos de las distribuciones, sí hay un mecanismo claro de supervivencia de las bacterias. Esto es, las bacterias viven más cuando:\n",
    "\n",
    "- Hay una alta concentración del químico $X_1$ combinada con una baja concentración del químico $X_2$.\n",
    "- Hay una alta concentración del químico $X_2$, combinada con una baja concentración del químico $X_1$.\n",
    "\n",
    "Podemos suponer que nuestro clasificador puede funcionar bien para estos casos extremos (de ahí que el número de predicciones correctas sea ligeramente superior a una predicción aleatoria). No obstante, para el resto de ellos, donde no hay una clara influencia de las variables sobre la clase de pertenencia, el clasificador bayesiano ingenuo parece funcionar sólo tan bien como una predicción aleatoria. "
   ]
  },
  {
   "cell_type": "markdown",
   "metadata": {},
   "source": [
    "---\n",
    "\n",
    "## Problema 3"
   ]
  },
  {
   "cell_type": "markdown",
   "metadata": {},
   "source": [
    "### Preparación de los datos y elección del modelo\n",
    "\n",
    "En primer lugar, sacamos los datos del archivo proporcionado:"
   ]
  },
  {
   "cell_type": "code",
   "execution_count": 37,
   "metadata": {},
   "outputs": [],
   "source": [
    "spam = pandas.read_csv('spam.csv', header=None, delimiter=\" \")"
   ]
  },
  {
   "cell_type": "code",
   "execution_count": 38,
   "metadata": {
    "scrolled": false
   },
   "outputs": [
    {
     "data": {
      "text/html": [
       "<div>\n",
       "<style scoped>\n",
       "    .dataframe tbody tr th:only-of-type {\n",
       "        vertical-align: middle;\n",
       "    }\n",
       "\n",
       "    .dataframe tbody tr th {\n",
       "        vertical-align: top;\n",
       "    }\n",
       "\n",
       "    .dataframe thead th {\n",
       "        text-align: right;\n",
       "    }\n",
       "</style>\n",
       "<table border=\"1\" class=\"dataframe\">\n",
       "  <thead>\n",
       "    <tr style=\"text-align: right;\">\n",
       "      <th></th>\n",
       "      <th>0</th>\n",
       "      <th>1</th>\n",
       "      <th>2</th>\n",
       "      <th>3</th>\n",
       "      <th>4</th>\n",
       "      <th>5</th>\n",
       "      <th>6</th>\n",
       "      <th>7</th>\n",
       "      <th>8</th>\n",
       "      <th>9</th>\n",
       "      <th>...</th>\n",
       "      <th>1991</th>\n",
       "      <th>1992</th>\n",
       "      <th>1993</th>\n",
       "      <th>1994</th>\n",
       "      <th>1995</th>\n",
       "      <th>1996</th>\n",
       "      <th>1997</th>\n",
       "      <th>1998</th>\n",
       "      <th>1999</th>\n",
       "      <th>2000</th>\n",
       "    </tr>\n",
       "  </thead>\n",
       "  <tbody>\n",
       "    <tr>\n",
       "      <th>0</th>\n",
       "      <td>0</td>\n",
       "      <td>0</td>\n",
       "      <td>0</td>\n",
       "      <td>0</td>\n",
       "      <td>0</td>\n",
       "      <td>0</td>\n",
       "      <td>0</td>\n",
       "      <td>0</td>\n",
       "      <td>0</td>\n",
       "      <td>0</td>\n",
       "      <td>...</td>\n",
       "      <td>0</td>\n",
       "      <td>0</td>\n",
       "      <td>0</td>\n",
       "      <td>0</td>\n",
       "      <td>0</td>\n",
       "      <td>0</td>\n",
       "      <td>0</td>\n",
       "      <td>0</td>\n",
       "      <td>0</td>\n",
       "      <td>1</td>\n",
       "    </tr>\n",
       "    <tr>\n",
       "      <th>1</th>\n",
       "      <td>1</td>\n",
       "      <td>0</td>\n",
       "      <td>0</td>\n",
       "      <td>0</td>\n",
       "      <td>0</td>\n",
       "      <td>0</td>\n",
       "      <td>0</td>\n",
       "      <td>0</td>\n",
       "      <td>0</td>\n",
       "      <td>0</td>\n",
       "      <td>...</td>\n",
       "      <td>0</td>\n",
       "      <td>0</td>\n",
       "      <td>0</td>\n",
       "      <td>0</td>\n",
       "      <td>0</td>\n",
       "      <td>0</td>\n",
       "      <td>0</td>\n",
       "      <td>0</td>\n",
       "      <td>1</td>\n",
       "      <td>1</td>\n",
       "    </tr>\n",
       "    <tr>\n",
       "      <th>2</th>\n",
       "      <td>1</td>\n",
       "      <td>0</td>\n",
       "      <td>0</td>\n",
       "      <td>0</td>\n",
       "      <td>0</td>\n",
       "      <td>0</td>\n",
       "      <td>0</td>\n",
       "      <td>0</td>\n",
       "      <td>0</td>\n",
       "      <td>0</td>\n",
       "      <td>...</td>\n",
       "      <td>0</td>\n",
       "      <td>0</td>\n",
       "      <td>0</td>\n",
       "      <td>0</td>\n",
       "      <td>0</td>\n",
       "      <td>0</td>\n",
       "      <td>0</td>\n",
       "      <td>0</td>\n",
       "      <td>0</td>\n",
       "      <td>1</td>\n",
       "    </tr>\n",
       "    <tr>\n",
       "      <th>3</th>\n",
       "      <td>0</td>\n",
       "      <td>0</td>\n",
       "      <td>0</td>\n",
       "      <td>0</td>\n",
       "      <td>0</td>\n",
       "      <td>0</td>\n",
       "      <td>0</td>\n",
       "      <td>0</td>\n",
       "      <td>0</td>\n",
       "      <td>0</td>\n",
       "      <td>...</td>\n",
       "      <td>0</td>\n",
       "      <td>1</td>\n",
       "      <td>0</td>\n",
       "      <td>0</td>\n",
       "      <td>0</td>\n",
       "      <td>0</td>\n",
       "      <td>0</td>\n",
       "      <td>0</td>\n",
       "      <td>0</td>\n",
       "      <td>1</td>\n",
       "    </tr>\n",
       "    <tr>\n",
       "      <th>4</th>\n",
       "      <td>1</td>\n",
       "      <td>0</td>\n",
       "      <td>0</td>\n",
       "      <td>0</td>\n",
       "      <td>0</td>\n",
       "      <td>0</td>\n",
       "      <td>0</td>\n",
       "      <td>0</td>\n",
       "      <td>0</td>\n",
       "      <td>0</td>\n",
       "      <td>...</td>\n",
       "      <td>0</td>\n",
       "      <td>0</td>\n",
       "      <td>0</td>\n",
       "      <td>0</td>\n",
       "      <td>0</td>\n",
       "      <td>0</td>\n",
       "      <td>0</td>\n",
       "      <td>0</td>\n",
       "      <td>0</td>\n",
       "      <td>1</td>\n",
       "    </tr>\n",
       "  </tbody>\n",
       "</table>\n",
       "<p>5 rows × 2001 columns</p>\n",
       "</div>"
      ],
      "text/plain": [
       "   0     1     2     3     4     5     6     7     8     9     ...   1991  \\\n",
       "0     0     0     0     0     0     0     0     0     0     0  ...      0   \n",
       "1     1     0     0     0     0     0     0     0     0     0  ...      0   \n",
       "2     1     0     0     0     0     0     0     0     0     0  ...      0   \n",
       "3     0     0     0     0     0     0     0     0     0     0  ...      0   \n",
       "4     1     0     0     0     0     0     0     0     0     0  ...      0   \n",
       "\n",
       "   1992  1993  1994  1995  1996  1997  1998  1999  2000  \n",
       "0     0     0     0     0     0     0     0     0     1  \n",
       "1     0     0     0     0     0     0     0     1     1  \n",
       "2     0     0     0     0     0     0     0     0     1  \n",
       "3     1     0     0     0     0     0     0     0     1  \n",
       "4     0     0     0     0     0     0     0     0     1  \n",
       "\n",
       "[5 rows x 2001 columns]"
      ]
     },
     "execution_count": 38,
     "metadata": {},
     "output_type": "execute_result"
    }
   ],
   "source": [
    "spam.head()"
   ]
  },
  {
   "cell_type": "markdown",
   "metadata": {},
   "source": [
    "Ahora, con la ayuda de la función _traintestsplit_, separamos los datos en datos de entrenamiento (_trainingdata_) y de prueba (_testdata_) a razón de 70-30."
   ]
  },
  {
   "cell_type": "code",
   "execution_count": 39,
   "metadata": {},
   "outputs": [],
   "source": [
    "from sklearn.model_selection import train_test_split as tts\n",
    "sval = spam.values\n",
    "training_data, test_data = tts(sval, test_size=0.30)"
   ]
  },
  {
   "cell_type": "markdown",
   "metadata": {},
   "source": [
    "Ahora bien, de manera que las 2000 columnas con información de las palabras y la columna con la información de las etiquetas queden almacenadas en dos arreglos de NumPy distintos (a los que pondremos el sufijo de _words_ y _labels_, respectivamente), aplicamos los siguientes operadores de slice sobre los arreglos de NumPy:"
   ]
  },
  {
   "cell_type": "code",
   "execution_count": 237,
   "metadata": {},
   "outputs": [],
   "source": [
    "training_data_words = training_data[:, :-1]\n",
    "training_data_labels = np.transpose(training_data[:, 2000:]).flatten()\n",
    "test_data_words = test_data[:, :-1]\n",
    "test_data_labels = np.transpose(test_data[:, 2000:]).flatten()"
   ]
  },
  {
   "cell_type": "markdown",
   "metadata": {},
   "source": [
    "---\n",
    "\n",
    "### Entrenamiento"
   ]
  },
  {
   "cell_type": "markdown",
   "metadata": {},
   "source": [
    "Con los datos anteriores, entrenaremos dos clasificadores: uno asumiendo distribución Bernoulli de las palabras, y otro asumiendo distribución multinomial de las mismas. Nuevamente, para hacer esto, haremos uso de sci-kitlearn. En particular, usaremos las clases _BernoulliNB_ y _MultinomialNB_. Los clasificadores arrojados por ambas funciones son entrenados con un estimador de máxima verosimilitud."
   ]
  },
  {
   "cell_type": "code",
   "execution_count": 41,
   "metadata": {},
   "outputs": [],
   "source": [
    "from sklearn.naive_bayes import BernoulliNB\n",
    "from sklearn.naive_bayes import MultinomialNB\n",
    "\n",
    "bnb = BernoulliNB()\n",
    "mnb = MultinomialNB()"
   ]
  },
  {
   "cell_type": "markdown",
   "metadata": {},
   "source": [
    "La distribución de Bernoulli trabaja con variables binarias. En el caso específico donde la variable es la ocurrencia de una palabra, \"0\" significa que la palabra no ocurre en un correo dado, y \"1\" que sí aparece. Ya que la información contenida en nuestros datos actuales es de frecuencia de palabras, y no de ocurrencia, antes de entrenar a nuestro clasificador de Bernoulli, debemos \"binarizar\" nuestro arreglo de variables de entrenamiento. Es decir, transformaremos dicho arreglo de manera que, si una variable tiene un valor superior a \"0\", lo convertiremos en \"1\"."
   ]
  },
  {
   "cell_type": "code",
   "execution_count": 42,
   "metadata": {},
   "outputs": [],
   "source": [
    "from sklearn.preprocessing import binarize\n",
    "training_data_words_binary = binarize(training_data_words)\n",
    "test_data_words_binary = binarize(test_data_words)"
   ]
  },
  {
   "cell_type": "markdown",
   "metadata": {},
   "source": [
    "Procedemos pues al entrenamiento de ambos clasificadores."
   ]
  },
  {
   "cell_type": "code",
   "execution_count": 43,
   "metadata": {},
   "outputs": [],
   "source": [
    "bernoulli_nb = bnb.fit(training_data_words_binary, training_data_labels)\n",
    "multinomial_nb = mnb.fit(training_data_words, training_data_labels)"
   ]
  },
  {
   "cell_type": "markdown",
   "metadata": {},
   "source": [
    "### Predicciones"
   ]
  },
  {
   "cell_type": "markdown",
   "metadata": {},
   "source": [
    "A continuación, realizamos las predicciones usando nuestros clasificadores sobre los datos de entrenamiento y los datos de prueba. Para contar el número de predicciones correctas, hacemos uso de la función _countCorrectPredictions_ definida en el Problema 2."
   ]
  },
  {
   "cell_type": "markdown",
   "metadata": {},
   "source": [
    "#### Bernoulli NB"
   ]
  },
  {
   "cell_type": "code",
   "execution_count": 44,
   "metadata": {},
   "outputs": [
    {
     "name": "stdout",
     "output_type": "stream",
     "text": [
      "Bernoulli NB - Predicción sobre datos de Entrenamiento\n",
      "Predicciones correctas: 3278\n",
      "% de predicciones correctas: 0.905524861878\n",
      "\n",
      "Bernoulli NB - Predicción sobre datos de Prueba\n",
      "Predicciones correctas: 1400\n",
      "% de predicciones correctas: 0.90206185567\n"
     ]
    }
   ],
   "source": [
    "pred_bernoulli_training = bernoulli_nb.predict(training_data_words_binary)\n",
    "reference = len(training_data_words_binary)\n",
    "count = countCorrectPredictions(training_data_labels, pred_bernoulli_training)\n",
    "print 'Bernoulli NB - Predicción sobre datos de Entrenamiento'\n",
    "print 'Predicciones correctas: ' + str(count)\n",
    "print '% de predicciones correctas: ' + str(1.0*count / reference)\n",
    "\n",
    "print ''\n",
    "\n",
    "pred_bernoulli_test = bernoulli_nb.predict(test_data_words_binary)\n",
    "reference = len(test_data_words_binary)\n",
    "count = countCorrectPredictions(test_data_labels, pred_bernoulli_test)\n",
    "print 'Bernoulli NB - Predicción sobre datos de Prueba'\n",
    "print 'Predicciones correctas: ' + str(count)\n",
    "print '% de predicciones correctas: ' + str(1.0*count / reference)\n"
   ]
  },
  {
   "cell_type": "markdown",
   "metadata": {},
   "source": [
    "Esto es, con el clasificador NB que asume distribución de Bernoulli:\n",
    "\n",
    "- Se hicieron **3276** predicciones correctas sobre los datos de entrenamiento, o bien, un **90.49%** de predicciones correctas sobre de los datos de entrenamiento totales.\n",
    "- Se hicieron **1408** predicciones correctas sobre los datos de prueba, o bien, un **90.72%** de predicciones correctas sobre de los datos de prueba totales.\n",
    "\n",
    "---\n",
    "\n",
    "#### Multinomial NB"
   ]
  },
  {
   "cell_type": "code",
   "execution_count": 45,
   "metadata": {},
   "outputs": [
    {
     "name": "stdout",
     "output_type": "stream",
     "text": [
      "Multinomial NB - Predicción sobre datos de Entrenamiento\n",
      "Predicciones correctas: 3460\n",
      "% de predicciones correctas: 0.955801104972\n",
      "\n",
      "Multinomial NB - Predicción sobre datos de Prueba\n",
      "Predicciones correctas: 1471\n",
      "% de predicciones correctas: 0.947809278351\n"
     ]
    }
   ],
   "source": [
    "pred_multinomial_training = multinomial_nb.predict(training_data_words)\n",
    "reference = len(training_data_words)\n",
    "count = countCorrectPredictions(training_data_labels, pred_multinomial_training)\n",
    "print 'Multinomial NB - Predicción sobre datos de Entrenamiento'\n",
    "print 'Predicciones correctas: ' + str(count)\n",
    "print '% de predicciones correctas: ' + str(1.0*count / reference)\n",
    "\n",
    "print ''\n",
    "\n",
    "pred_multinomial_test = multinomial_nb.predict(test_data_words)\n",
    "reference = len(test_data_words)\n",
    "count = countCorrectPredictions(test_data_labels, pred_multinomial_test)\n",
    "print 'Multinomial NB - Predicción sobre datos de Prueba'\n",
    "print 'Predicciones correctas: ' + str(count)\n",
    "print '% de predicciones correctas: ' + str(1.0*count / reference)"
   ]
  },
  {
   "cell_type": "markdown",
   "metadata": {},
   "source": [
    "Esto es, con el clasificador NB que asume distribución Multinomial:\n",
    "\n",
    "- Se hicieron **3453** predicciones correctas sobre los datos de entrenamiento, o bien, un **95.39%** de predicciones correctas sobre de los datos de entrenamiento totales.\n",
    "- Se hicieron **1477** predicciones correctas sobre los datos de prueba, o bien, un **95.17%** de predicciones correctas sobre de los datos de prueba totales.\n",
    "\n",
    "---"
   ]
  },
  {
   "cell_type": "markdown",
   "metadata": {},
   "source": [
    "### Conclusiones\n",
    "\n",
    "En lo general, se observa que ambos clasificadores hicieron más del 90% de predicciones correctas sobre los datos de entrenamiento y de prueba. No obstante, el clasificador que asumió distribución multinomial tuvo un mejor desempeño en ambos casos. Para clasificación de textos, este resultado concuerda con la intuición: existen ciertas palabras que no sólo tienden a \"aparecer\", sino también a \"predominar\" en correos de spam (pues muchos de estos correos son de índole de ventas, donde ciertas _buzzwords_ se repiten con mucha frecuencia).\n",
    "\n",
    "---"
   ]
  },
  {
   "cell_type": "markdown",
   "metadata": {},
   "source": [
    "## Problema 4"
   ]
  },
  {
   "cell_type": "markdown",
   "metadata": {},
   "source": [
    "### Preparación de los datos y elección del modelo\n",
    "\n",
    "Primero, extraemos los datos de la base de datos."
   ]
  },
  {
   "cell_type": "code",
   "execution_count": 218,
   "metadata": {},
   "outputs": [
    {
     "data": {
      "text/html": [
       "<div>\n",
       "<style scoped>\n",
       "    .dataframe tbody tr th:only-of-type {\n",
       "        vertical-align: middle;\n",
       "    }\n",
       "\n",
       "    .dataframe tbody tr th {\n",
       "        vertical-align: top;\n",
       "    }\n",
       "\n",
       "    .dataframe thead th {\n",
       "        text-align: right;\n",
       "    }\n",
       "</style>\n",
       "<table border=\"1\" class=\"dataframe\">\n",
       "  <thead>\n",
       "    <tr style=\"text-align: right;\">\n",
       "      <th></th>\n",
       "      <th>0</th>\n",
       "      <th>1</th>\n",
       "      <th>2</th>\n",
       "      <th>3</th>\n",
       "      <th>4</th>\n",
       "      <th>5</th>\n",
       "      <th>6</th>\n",
       "      <th>7</th>\n",
       "      <th>8</th>\n",
       "      <th>9</th>\n",
       "      <th>10</th>\n",
       "    </tr>\n",
       "  </thead>\n",
       "  <tbody>\n",
       "    <tr>\n",
       "      <th>0</th>\n",
       "      <td>1000025</td>\n",
       "      <td>5</td>\n",
       "      <td>1</td>\n",
       "      <td>1</td>\n",
       "      <td>1</td>\n",
       "      <td>2</td>\n",
       "      <td>1</td>\n",
       "      <td>3</td>\n",
       "      <td>1</td>\n",
       "      <td>1</td>\n",
       "      <td>2</td>\n",
       "    </tr>\n",
       "    <tr>\n",
       "      <th>1</th>\n",
       "      <td>1002945</td>\n",
       "      <td>5</td>\n",
       "      <td>4</td>\n",
       "      <td>4</td>\n",
       "      <td>5</td>\n",
       "      <td>7</td>\n",
       "      <td>10</td>\n",
       "      <td>3</td>\n",
       "      <td>2</td>\n",
       "      <td>1</td>\n",
       "      <td>2</td>\n",
       "    </tr>\n",
       "    <tr>\n",
       "      <th>2</th>\n",
       "      <td>1015425</td>\n",
       "      <td>3</td>\n",
       "      <td>1</td>\n",
       "      <td>1</td>\n",
       "      <td>1</td>\n",
       "      <td>2</td>\n",
       "      <td>2</td>\n",
       "      <td>3</td>\n",
       "      <td>1</td>\n",
       "      <td>1</td>\n",
       "      <td>2</td>\n",
       "    </tr>\n",
       "    <tr>\n",
       "      <th>3</th>\n",
       "      <td>1016277</td>\n",
       "      <td>6</td>\n",
       "      <td>8</td>\n",
       "      <td>8</td>\n",
       "      <td>1</td>\n",
       "      <td>3</td>\n",
       "      <td>4</td>\n",
       "      <td>3</td>\n",
       "      <td>7</td>\n",
       "      <td>1</td>\n",
       "      <td>2</td>\n",
       "    </tr>\n",
       "    <tr>\n",
       "      <th>4</th>\n",
       "      <td>1017023</td>\n",
       "      <td>4</td>\n",
       "      <td>1</td>\n",
       "      <td>1</td>\n",
       "      <td>3</td>\n",
       "      <td>2</td>\n",
       "      <td>1</td>\n",
       "      <td>3</td>\n",
       "      <td>1</td>\n",
       "      <td>1</td>\n",
       "      <td>2</td>\n",
       "    </tr>\n",
       "  </tbody>\n",
       "</table>\n",
       "</div>"
      ],
      "text/plain": [
       "        0   1   2   3   4   5   6   7   8   9   10\n",
       "0  1000025   5   1   1   1   2   1   3   1   1   2\n",
       "1  1002945   5   4   4   5   7  10   3   2   1   2\n",
       "2  1015425   3   1   1   1   2   2   3   1   1   2\n",
       "3  1016277   6   8   8   1   3   4   3   7   1   2\n",
       "4  1017023   4   1   1   3   2   1   3   1   1   2"
      ]
     },
     "execution_count": 218,
     "metadata": {},
     "output_type": "execute_result"
    }
   ],
   "source": [
    "cancer = pandas.read_csv('cancer.csv', header=None)\n",
    "c = cancer.values\n",
    "cancer.head()"
   ]
  },
  {
   "cell_type": "markdown",
   "metadata": {},
   "source": [
    "Ya que tenemos algunos datos faltantes dentro de la base de datos, utilizaremos la función _fixMissingValues_, mostrada a continuación, para tratar de \"arreglar\" dichos datos faltantes, sustituyéndolos por el promedio de los otros valores de la misma columna. Alternativamente, la función tiene incorporado un método distinto de \"arreglo\" de los datos: si se pone como parámetro _method_ la cadena 'zero', se sustituirá a los datos faltantes con un 0. Otro método no explorado fue el de la eliminación completa de la muestra. No obstante, se utilizó el primer método mencionado para arreglar los datos. "
   ]
  },
  {
   "cell_type": "code",
   "execution_count": 219,
   "metadata": {},
   "outputs": [],
   "source": [
    "def fixMissingValues(array, method):\n",
    "    \n",
    "    arr = np.copy(array)\n",
    "    \n",
    "    if method == 'mean':\n",
    "        means = []\n",
    "\n",
    "        sumv = 0\n",
    "        count = 0\n",
    "        for j in range(len(arr[0])):\n",
    "            for i in range(len(arr)):\n",
    "                if arr[i][j] == '?':\n",
    "                    continue\n",
    "                else:\n",
    "                    sumv = sumv + int(arr[i][j])\n",
    "                    count = count + 1  \n",
    "            means.append(int(1.0*sumv/count))\n",
    "            sumv = 0\n",
    "            count = 0\n",
    "\n",
    "        for i in range(len(arr)):\n",
    "            for j in range(len(arr[0])):\n",
    "                if arr[i][j] == '?':\n",
    "                    arr[i][j] = means[j]\n",
    "                else:\n",
    "                    arr[i][j] = int(arr[i][j])\n",
    "        return arr\n",
    "    \n",
    "    elif method == 'zero':\n",
    "        for i in range(len(arr)):\n",
    "            for j in range(len(arr[0])):\n",
    "                if arr[i][j] == '?':\n",
    "                    arr[i][j] = 0\n",
    "                else:\n",
    "                    arr[i][j] = int(arr[i][j])\n",
    "        return arr\n",
    "\n",
    "    return None"
   ]
  },
  {
   "cell_type": "markdown",
   "metadata": {},
   "source": [
    "A continuación, procedemos a explorar los datos, con el fin de ver cómo están distribuidos los valores de cada una de las variables."
   ]
  },
  {
   "cell_type": "code",
   "execution_count": 224,
   "metadata": {},
   "outputs": [
    {
     "data": {
      "image/png": "[encoded data removed]",
      "text/plain": [
       "<Figure size 432x288 with 1 Axes>"
      ]
     },
     "metadata": {
      "needs_background": "light"
     },
     "output_type": "display_data"
    }
   ],
   "source": [
    "cnmv = fixMissingValues(c, 'mean')\n",
    "ce = np.transpose(list(cnmv[:,1]))\n",
    "n, bins, patches = plt.hist(ce, 10, facecolor='red', alpha=0.5)"
   ]
  },
  {
   "cell_type": "code",
   "execution_count": 225,
   "metadata": {
    "scrolled": true
   },
   "outputs": [
    {
     "data": {
      "image/png": "[encoded data removed]",
      "text/plain": [
       "<Figure size 432x288 with 1 Axes>"
      ]
     },
     "metadata": {
      "needs_background": "light"
     },
     "output_type": "display_data"
    }
   ],
   "source": [
    "ce = np.transpose(list(cnmv[:,2]))\n",
    "n, bins, patches = plt.hist(ce, 10, facecolor='red', alpha=0.5)"
   ]
  },
  {
   "cell_type": "code",
   "execution_count": 226,
   "metadata": {},
   "outputs": [
    {
     "data": {
      "image/png": "[encoded data removed]",
      "text/plain": [
       "<Figure size 432x288 with 1 Axes>"
      ]
     },
     "metadata": {
      "needs_background": "light"
     },
     "output_type": "display_data"
    }
   ],
   "source": [
    "ce = np.transpose(list(cnmv[:,3]))\n",
    "n, bins, patches = plt.hist(ce, 10, facecolor='red', alpha=0.5)"
   ]
  },
  {
   "cell_type": "code",
   "execution_count": 227,
   "metadata": {},
   "outputs": [
    {
     "data": {
      "image/png": "[encoded data removed]",
      "text/plain": [
       "<Figure size 432x288 with 1 Axes>"
      ]
     },
     "metadata": {
      "needs_background": "light"
     },
     "output_type": "display_data"
    }
   ],
   "source": [
    "ce = np.transpose(list(cnmv[:,4]))\n",
    "n, bins, patches = plt.hist(ce, 10, facecolor='red', alpha=0.5)"
   ]
  },
  {
   "cell_type": "code",
   "execution_count": 228,
   "metadata": {},
   "outputs": [
    {
     "data": {
      "image/png": "[encoded data removed]",
      "text/plain": [
       "<Figure size 432x288 with 1 Axes>"
      ]
     },
     "metadata": {
      "needs_background": "light"
     },
     "output_type": "display_data"
    }
   ],
   "source": [
    "ce = np.transpose(list(cnmv[:,5]))\n",
    "n, bins, patches = plt.hist(ce, 10, facecolor='red', alpha=0.5)"
   ]
  },
  {
   "cell_type": "code",
   "execution_count": 229,
   "metadata": {},
   "outputs": [
    {
     "data": {
      "image/png": "[encoded data removed]",
      "text/plain": [
       "<Figure size 432x288 with 1 Axes>"
      ]
     },
     "metadata": {
      "needs_background": "light"
     },
     "output_type": "display_data"
    }
   ],
   "source": [
    "ce = np.transpose(list(cnmv[:,6]))\n",
    "n, bins, patches = plt.hist(ce, 10, facecolor='red', alpha=0.5)"
   ]
  },
  {
   "cell_type": "code",
   "execution_count": 230,
   "metadata": {},
   "outputs": [
    {
     "data": {
      "image/png": "[encoded data removed]",
      "text/plain": [
       "<Figure size 432x288 with 1 Axes>"
      ]
     },
     "metadata": {
      "needs_background": "light"
     },
     "output_type": "display_data"
    }
   ],
   "source": [
    "ce = np.transpose(list(cnmv[:,7]))\n",
    "n, bins, patches = plt.hist(ce, 10, facecolor='red', alpha=0.5)"
   ]
  },
  {
   "cell_type": "code",
   "execution_count": 231,
   "metadata": {},
   "outputs": [
    {
     "data": {
      "image/png": "[encoded data removed]",
      "text/plain": [
       "<Figure size 432x288 with 1 Axes>"
      ]
     },
     "metadata": {
      "needs_background": "light"
     },
     "output_type": "display_data"
    }
   ],
   "source": [
    "ce = np.transpose(list(cnmv[:,8]))\n",
    "n, bins, patches = plt.hist(ce, 10, facecolor='red', alpha=0.5)"
   ]
  },
  {
   "cell_type": "code",
   "execution_count": 232,
   "metadata": {},
   "outputs": [
    {
     "data": {
      "image/png": "[encoded data removed]",
      "text/plain": [
       "<Figure size 432x288 with 1 Axes>"
      ]
     },
     "metadata": {
      "needs_background": "light"
     },
     "output_type": "display_data"
    }
   ],
   "source": [
    "ce = np.transpose(list(cnmv[:,9]))\n",
    "n, bins, patches = plt.hist(ce, 10, facecolor='red', alpha=0.5)"
   ]
  },
  {
   "cell_type": "markdown",
   "metadata": {},
   "source": [
    "Se observa que los datos pertenecen a múltiples categorías, y que posiblemente algunas de éstas sigan distribuciones Gaussianas (la mayoría de ellas con mucho sesgo hacia la izquierda o derecha de la distribución). Para efectos de comparación, entrenaremos a un clasificador NB asumiendo **distribución multinomial** de las variables, y otro asumiendo **distribución Gaussiana**.\n",
    "\n",
    "Antes de proceder al entrenamiento de los clasificadores, dividimos los datos entre datos de entrenamiento y datos de prueba, usando un procedimiento similar al del Problema 3. Ya que los números de la primera columna son sólo identificadores de las muestras (y no un atributo del cáncer en sí), descartaremos a toda la primera columna de los datos de entrenamiento y prueba."
   ]
  },
  {
   "cell_type": "code",
   "execution_count": 247,
   "metadata": {},
   "outputs": [],
   "source": [
    "training_data, test_data = tts(cnmv, test_size=0.30)"
   ]
  },
  {
   "cell_type": "code",
   "execution_count": 288,
   "metadata": {},
   "outputs": [],
   "source": [
    "training_data_var = training_data[:, 1:-1]\n",
    "training_data_labels = np.transpose(training_data[:, 10:]).flatten()\n",
    "test_data_var = test_data[:, 1:-1]\n",
    "test_data_labels = np.transpose(test_data[:, 10:]).flatten()"
   ]
  },
  {
   "cell_type": "markdown",
   "metadata": {},
   "source": [
    "Además, ya que el tumor sólo puede ser benigno o maligno, reemplazaremos los valores de la última columna, 2 y 4, con 0 y 1, respectivamente."
   ]
  },
  {
   "cell_type": "code",
   "execution_count": 289,
   "metadata": {},
   "outputs": [],
   "source": [
    "training_data_labels_binary = list((training_data_labels - 2)/2)\n",
    "test_data_labels_binary = list((test_data_labels - 2)/2)"
   ]
  },
  {
   "cell_type": "markdown",
   "metadata": {},
   "source": [
    "---\n",
    "\n",
    "### Entrenamiento\n",
    "\n",
    "Con los datos anteriores, entrenaremos dos clasificadores: uno asumiendo distribución multinomial de las palabras, y otro asumiendo distribución Gaussiana de las mismas. Nuevamente, para hacer esto, haremos uso de sci-kitlearn. En particular, usaremos las clases _MultinomialNB_ y _GaussianNB_. Los clasificadores arrojados por ambas funciones son entrenados con un estimador de máxima verosimilitud."
   ]
  },
  {
   "cell_type": "code",
   "execution_count": 300,
   "metadata": {},
   "outputs": [],
   "source": [
    "from sklearn.naive_bayes import GaussianNB\n",
    "\n",
    "mnb = MultinomialNB()\n",
    "gnb = GaussianNB()\n",
    "multinomial_nb = mnb.fit(training_data_var, training_data_labels_binary)\n",
    "gaussian_nb = gnb.fit(training_data_var, training_data_labels_binary)"
   ]
  },
  {
   "cell_type": "markdown",
   "metadata": {},
   "source": [
    "---\n",
    "\n",
    "### Predicciones\n",
    "\n",
    "A continuación, realizamos las predicciones usando nuestros clasificadores sobre los datos de entrenamiento y los datos de prueba. Para contar el número de predicciones correctas, hacemos uso de la función _countCorrectPredictions_ definida en el Problema 2."
   ]
  },
  {
   "cell_type": "markdown",
   "metadata": {},
   "source": [
    "#### Multinomial NB"
   ]
  },
  {
   "cell_type": "code",
   "execution_count": 301,
   "metadata": {},
   "outputs": [
    {
     "name": "stdout",
     "output_type": "stream",
     "text": [
      "Multinomial NB - Predicción sobre datos de Entrenamiento\n",
      "Predicciones correctas: 434\n",
      "% de predicciones correctas: 0.887525562372\n",
      "\n",
      "Multinomial NB - Predicción sobre datos de Prueba\n",
      "Predicciones correctas: 194\n",
      "% de predicciones correctas: 0.92380952381\n",
      "\n"
     ]
    }
   ],
   "source": [
    "pred_training = multinomial_nb.predict(training_data_var)\n",
    "reference = len(training_data_var)\n",
    "count = countCorrectPredictions(training_data_labels_binary, pred_training)\n",
    "print 'Multinomial NB - Predicción sobre datos de Entrenamiento'\n",
    "print 'Predicciones correctas: ' + str(count)\n",
    "print '% de predicciones correctas: ' + str(1.0*count / reference)\n",
    "\n",
    "print ''\n",
    "\n",
    "pred_test = multinomial_nb.predict(test_data_var)\n",
    "reference = len(test_data_var)\n",
    "count = countCorrectPredictions(test_data_labels_binary, pred_test)\n",
    "print 'Multinomial NB - Predicción sobre datos de Prueba'\n",
    "print 'Predicciones correctas: ' + str(count)\n",
    "print '% de predicciones correctas: ' + str(1.0*count / reference)\n",
    "\n",
    "print ''"
   ]
  },
  {
   "cell_type": "markdown",
   "metadata": {},
   "source": [
    "Esto es, con el clasificador NB que asume distribución Multinomial:\n",
    "\n",
    "- Se hicieron **434** predicciones correctas sobre los datos de entrenamiento, o bien, un **88.75%** de predicciones correctas sobre de los datos de entrenamiento totales.\n",
    "- Se hicieron **194** predicciones correctas sobre los datos de prueba, o bien, un **92.38%** de predicciones correctas sobre de los datos de prueba totales.\n",
    "\n",
    "---"
   ]
  },
  {
   "cell_type": "markdown",
   "metadata": {},
   "source": [
    "#### Gaussian NB"
   ]
  },
  {
   "cell_type": "code",
   "execution_count": 304,
   "metadata": {
    "scrolled": true
   },
   "outputs": [
    {
     "name": "stdout",
     "output_type": "stream",
     "text": [
      "Gaussian NB - Predicción sobre datos de Entrenamiento\n",
      "Predicciones correctas: 470\n",
      "% de predicciones correctas: 0.961145194274\n",
      "\n",
      "Gaussian NB - Predicción sobre datos de Prueba\n",
      "Predicciones correctas: 202\n",
      "% de predicciones correctas: 0.961904761905\n",
      "\n"
     ]
    }
   ],
   "source": [
    "pred_training = gaussian_nb.predict(training_data_var)\n",
    "reference = len(training_data_var)\n",
    "count = countCorrectPredictions(training_data_labels_binary, pred_training)\n",
    "print 'Gaussian NB - Predicción sobre datos de Entrenamiento'\n",
    "print 'Predicciones correctas: ' + str(count)\n",
    "print '% de predicciones correctas: ' + str(1.0*count / reference)\n",
    "\n",
    "print ''\n",
    "\n",
    "pred_test = gaussian_nb.predict(test_data_var)\n",
    "reference = len(test_data_var)\n",
    "count = countCorrectPredictions(test_data_labels_binary, pred_test)\n",
    "print 'Gaussian NB - Predicción sobre datos de Prueba'\n",
    "print 'Predicciones correctas: ' + str(count)\n",
    "print '% de predicciones correctas: ' + str(1.0*count / reference)\n",
    "\n",
    "print ''"
   ]
  },
  {
   "cell_type": "markdown",
   "metadata": {},
   "source": [
    "Esto es, con el clasificador NB que asume distribución Multinomial:\n",
    "\n",
    "- Se hicieron **470** predicciones correctas sobre los datos de entrenamiento, o bien, un **96.11%** de predicciones correctas sobre de los datos de entrenamiento totales.\n",
    "- Se hicieron **202** predicciones correctas sobre los datos de prueba, o bien, un **96.19%** de predicciones correctas sobre de los datos de prueba totales.\n",
    "\n",
    "---"
   ]
  },
  {
   "cell_type": "markdown",
   "metadata": {},
   "source": [
    "### Conclusiones\n",
    "\n",
    "Se observa que el clasificador NB que asumió una distribución Gaussiana es el que mejor realizó las predicciones de tumores, tanto para los datos de entrenamiento como para los datos de prueba. De cierto modo, esto concuerda con la intuición que habíamos generado al explorar los datos: parece que éstos siguen distribuciones normales con sesgos hacia la izquierda o hacia la derecha. \n",
    "\n",
    "Por el lado de los datos faltantes, se decidió no usar los otros métodos que se habían planteado (sustituir los datos faltantes por 0, o eliminar la muestra completa de los datos), ya que por la forma en que estaban distribuidos los datos, en ningún caso la sustitución que utilizamos pareció sesgar las distribuciones más de lo que ya estaban.\n",
    "\n",
    "---"
   ]
  }
 ],
 "metadata": {
  "kernelspec": {
   "display_name": "Python 2",
   "language": "python",
   "name": "python2"
  },
  "language_info": {
   "codemirror_mode": {
    "name": "ipython",
    "version": 2
   },
   "file_extension": ".py",
   "mimetype": "text/x-python",
   "name": "python",
   "nbconvert_exporter": "python",
   "pygments_lexer": "ipython2",
   "version": "2.7.15"
  }
 },
 "nbformat": 4,
 "nbformat_minor": 2
}

{
 "cells": [
  {
   "cell_type": "markdown",
   "metadata": {},
   "source": [
    "## Problema 3"
   ]
  },
  {
   "cell_type": "code",
   "execution_count": 307,
   "metadata": {},
   "outputs": [],
   "source": [
    "import pandas as pd\n",
    "import numpy as np\n",
    "import matplotlib.pyplot as plt\n",
    "from sklearn.preprocessing import OneHotEncoder"
   ]
  },
  {
   "cell_type": "code",
   "execution_count": 421,
   "metadata": {},
   "outputs": [],
   "source": [
    "training = pd.read_csv('juegos_entrenamiento.csv', header=None)\n",
    "validation = pd.read_csv('juegos_validacion.csv', header=None)\n",
    "training_values = training.values\n",
    "validation_values = validation.values\n",
    "Xt = training_values[:,:-1]\n",
    "Yt = training_values[:, -1]\n",
    "Xv = validation_values[:, :-1]\n",
    "Yv = validation_values[:, -1]"
   ]
  },
  {
   "cell_type": "markdown",
   "metadata": {},
   "source": [
    "#### Clasificador bayesiano ingenuo"
   ]
  },
  {
   "cell_type": "markdown",
   "metadata": {},
   "source": [
    "#### Clasificador por regresión Logística"
   ]
  },
  {
   "cell_type": "code",
   "execution_count": 387,
   "metadata": {},
   "outputs": [],
   "source": [
    "def logistic_regression(Xt, Yt, rate, n):\n",
    "    # Create design matrix\n",
    "    phi_Xt = np.column_stack((np.ones(Xt.shape[0]), Xt))\n",
    "    # Initialize theta\n",
    "    theta = np.ones(Xt.shape[1] + 1)\n",
    "    # Return vector of parameters theta\n",
    "    return fit(phi_Xt, Yt, theta, rate, n)\n",
    "    \n",
    "# Perform a gradient descent in order to find, given a set of inputs Xt and labels Yt, the\n",
    "# parameters theta. This gradient descent uses a learning rate \"rate\", through n iterations\n",
    "def fit(Xt, Yt, theta, rate, n):\n",
    "    for i in range(n):\n",
    "        theta = update_theta(Xt, Yt, theta, rate)\n",
    "    return theta\n",
    "\n",
    "# Helper function for gradient descent\n",
    "def update_theta(Xt, Yt, theta, rate):\n",
    "    Yh = predict(Xt, theta)\n",
    "    # Calculate the gradient descent\n",
    "    gradient = (1.0/Xt.shape[0])*np.dot(Xt.T, Yh - Yt)\n",
    "    gradient *= rate\n",
    "    theta -= gradient\n",
    "    return theta\n",
    "\n",
    "# Make predictions over X inputs with parameters theta\n",
    "def predict(X, theta):\n",
    "    z = np.dot(X, theta)\n",
    "    return sigmoid(z)\n",
    "\n",
    "# Calculate the sigmoid of z (where z is a vector)\n",
    "def sigmoid(z):\n",
    "    return 1 / (1 + np.exp(-1*z))\n",
    "\n",
    "# Classify the probabilities vector Y (if Y(i)>0.5, then Y'(i)=1)\n",
    "def classify(Y):\n",
    "    Yc = []\n",
    "    for p in Y:\n",
    "        if p > 0.5:\n",
    "            Yc.append(1)\n",
    "        else:\n",
    "            Yc.append(0)\n",
    "    return Yc\n",
    "\n",
    "# Calculate the % of correct predictions given a set of actual labels Y, and a set of\n",
    "# predicted labels Yc\n",
    "def error(Y, Yc):\n",
    "    diff = Y - Yc\n",
    "    return 1.0 - np.count_nonzero(diff) / float(len(diff))"
   ]
  },
  {
   "cell_type": "code",
   "execution_count": 418,
   "metadata": {},
   "outputs": [
    {
     "data": {
      "text/plain": [
       "0.9216300940438872"
      ]
     },
     "execution_count": 418,
     "metadata": {},
     "output_type": "execute_result"
    }
   ],
   "source": [
    "theta = logistic_regression(Xte, Yt, 0.1, 10000)\n",
    "Yth = predict(np.column_stack((np.ones(Xte.shape[0]), Xte)), theta)\n",
    "Ytc = classify(Yth)\n",
    "error(Yt, Ytc)"
   ]
  },
  {
   "cell_type": "code",
   "execution_count": 419,
   "metadata": {},
   "outputs": [
    {
     "data": {
      "text/plain": [
       "0.7130434782608696"
      ]
     },
     "execution_count": 419,
     "metadata": {},
     "output_type": "execute_result"
    }
   ],
   "source": [
    "Yvh = predict(np.column_stack((np.ones(Xve.shape[0]), Xve)), theta)\n",
    "Yvc = classify(Yvh)\n",
    "error(Yv, Yvc)"
   ]
  }
 ],
 "metadata": {
  "kernelspec": {
   "display_name": "Python 2",
   "language": "python",
   "name": "python2"
  },
  "language_info": {
   "codemirror_mode": {
    "name": "ipython",
    "version": 2
   },
   "file_extension": ".py",
   "mimetype": "text/x-python",
   "name": "python",
   "nbconvert_exporter": "python",
   "pygments_lexer": "ipython2",
   "version": "2.7.15"
  }
 },
 "nbformat": 4,
 "nbformat_minor": 2
}

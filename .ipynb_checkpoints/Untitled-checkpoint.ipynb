{
 "cells": [
  {
   "cell_type": "markdown",
   "metadata": {},
   "source": [
    "## Problema 1\n",
    "\n",
    "### EMV\n",
    "\n",
    "Primero, construiremos el clasificador usando el estimador de máxima verosimilitud. \n",
    "\n",
    "_Asumimos que nuestro modelo sigue una distribución de probabilidad de Bernoulli(...)_\n",
    "\n",
    "Comenzaremos por calcular, dada la tabla descrita en el problema, las probabilidades a priori siguientes:\n",
    "\n",
    "- $P(JA=Joven)=\\frac{6}{13}$\n",
    "- $P(JA=Adulto)=\\frac{7}{13}$\n",
    "\n",
    "Ahora bien, sea X = (Pink Floyd, The Beatles, REM, Nirvana, Queen, Oasis), asumiendo que las variables son condicionalmente independientes, calculamos las probabilidades de verosimilitud para la clase Joven:\n",
    "\n",
    "- $P(Pink Floyd = 1|JA = Joven) = \\frac{6}{6}$\n",
    "- $P(The Beatles = 1 | JA = Joven) = \\frac{3}{6}$\n",
    "- $P(REM = 1 | JA = Joven) = \\frac{3}{6}$\n",
    "- $P(Nirvana = 1 | JA = Joven) = \\frac{2}{6}$\n",
    "- $P(Queen = 1 | JA = Joven) = \\frac{3}{6}$\n",
    "- $P(Oasis= 1 | JA = Joven) = \\frac{3}{6}$\n",
    "\n",
    "Hacemos lo mismo para la clase Adulto:\n",
    "\n",
    "- $P(Pink Floyd = 1 | JA = Adulto) = \\frac{7}{7}$\n",
    "- $P(The Beatles = 1 | JA = Adulto) = \\frac{7}{7}$\n",
    "- $P(REM = 1 | JA = Adulto) = \\frac{4}{7}$\n",
    "- $P(Nirvana = 1 | JA = Adulto) = \\frac{3}{7}$\n",
    "- $P(Queen = 1 | JA = Adulto) = \\frac{5}{7}$\n",
    "- $P(Oasis = 1 | JA = Adulto) = \\frac{3}{7}$\n",
    "\n"
   ]
  },
  {
   "cell_type": "markdown",
   "metadata": {},
   "source": [
    "Con los parámetros anteriores, clasificamos a cada uno de los vectores dados:\n",
    "\n",
    "- $x_1 = (1, 1, 0, 1, 1, 0)$\n",
    "\n",
    "$P(Joven|x_1)\\ \\alpha\\ P(Joven) \\times\\ (P(PinkFloyd=1|Joven) \\times P(TheBeatles=1|Joven) \\times (1 - P(REM=1|Joven)) \\times P(Nirvana=1|Joven) \\times P(Queen=1|Joven) \\times (1 - P(Oasis=1|Joven)))$\n",
    "\n",
    "$$P(Joven|x_1)\\ \\alpha\\ \\frac{6}{13} \\times\\ (\\frac{6}{6} \\times \\frac{3}{6} \\times (1 - \\frac{3}{6}) \\times \\frac{2}{6} \\times \\frac{3}{6} \\times (1 - \\frac{3}{6}))$$"
   ]
  },
  {
   "cell_type": "code",
   "execution_count": 20,
   "metadata": {},
   "outputs": [
    {
     "data": {
      "text/plain": [
       "0.009615384615384616"
      ]
     },
     "execution_count": 20,
     "metadata": {},
     "output_type": "execute_result"
    }
   ],
   "source": [
    "(6.0/13)*(6.0/6)*(3.0/6)*(1 - (3.0/6))*(2.0/6)*(3.0/6)*(1-(3.0/6))"
   ]
  },
  {
   "cell_type": "markdown",
   "metadata": {},
   "source": [
    "$$P(Joven|x_1) = 0.0096$$"
   ]
  },
  {
   "cell_type": "markdown",
   "metadata": {},
   "source": [
    "$P(Adulto|x_1)\\ \\alpha\\ P(Adulto) \\times\\ (P(PinkFloyd=1|Adulto) \\times P(TheBeatles=1|Adulto) \\times (1 - P(REM=1|Adulto)) \\times P(Nirvana=1|Adulto) \\times P(Queen=1|Adulto) \\times (1 - P(Oasis=1|Adulto)))$\n",
    "\n",
    "$$P(Adulto|x_1)\\ \\alpha\\ \\frac{7}{13} \\times\\ (\\frac{7}{7} \\times \\frac{7}{7} \\times (1 - \\frac{4}{7}) \\times \\frac{3}{7} \\times \\frac{5}{7} \\times (1 - \\frac{3}{7}))$$"
   ]
  },
  {
   "cell_type": "code",
   "execution_count": 24,
   "metadata": {},
   "outputs": [
    {
     "data": {
      "text/plain": [
       "0.040367795469836286"
      ]
     },
     "execution_count": 24,
     "metadata": {},
     "output_type": "execute_result"
    }
   ],
   "source": [
    "(7.0/13)*(7.0/7)*(7.0/7)*(1 - (4.0/7))*(3.0/7)*(5.0/7)*(1-(3.0/7))"
   ]
  },
  {
   "cell_type": "markdown",
   "metadata": {},
   "source": [
    "$$P(Adulto|x_1) = 0.0404$$"
   ]
  },
  {
   "cell_type": "markdown",
   "metadata": {},
   "source": [
    "Ya que $P(Adulto|x_1)\\ >\\ P(Joven|x_1)$, concluimos que el vector $x_1$ corresponde a la clase Adulto.\n",
    "\n",
    "---"
   ]
  },
  {
   "cell_type": "markdown",
   "metadata": {},
   "source": [
    "- $x_2 = (1,0,1,1,1,1)$\n",
    "\n",
    "$$P(Joven|x_2)\\ \\alpha\\ \\frac{6}{13} \\times\\ (\\frac{6}{6} \\times (1 - \\frac{3}{6}) \\times \\frac{3}{6} \\times \\frac{2}{6} \\times \\frac{3}{6} \\times \\frac{3}{6})$$\n",
    "\n"
   ]
  },
  {
   "cell_type": "code",
   "execution_count": 22,
   "metadata": {},
   "outputs": [
    {
     "data": {
      "text/plain": [
       "0.009615384615384616"
      ]
     },
     "execution_count": 22,
     "metadata": {},
     "output_type": "execute_result"
    }
   ],
   "source": [
    "(6.0/13)*(6.0/6)*(1 - (3.0/6))*(3.0/6)*(2.0/6)*(3.0/6)*(3.0/6)"
   ]
  },
  {
   "cell_type": "markdown",
   "metadata": {},
   "source": [
    "$$P(Joven|x_2) = 0.0096$$"
   ]
  },
  {
   "cell_type": "markdown",
   "metadata": {},
   "source": [
    "$$P(Adulto|x_2)\\ \\alpha\\ \\frac{7}{13} \\times\\ (\\frac{7}{7} \\times (1 - \\frac{7}{7}) \\times \\frac{4}{7} \\times \\frac{3}{7} \\times \\frac{5}{7} \\times \\frac{3}{7})$$"
   ]
  },
  {
   "cell_type": "markdown",
   "metadata": {},
   "source": [
    "$$P(Adulto|x_2) = 0$$"
   ]
  },
  {
   "cell_type": "markdown",
   "metadata": {},
   "source": [
    "Ya que $P(Joven|x_2) > P(Adulto|x_2)$, concluimos que el vector $x_2$ corresponde a la clase Joven.\n",
    "\n",
    "---"
   ]
  },
  {
   "cell_type": "markdown",
   "metadata": {},
   "source": [
    "- $x_3 = (1, 1, 0, 0, 0, 0)$"
   ]
  },
  {
   "cell_type": "markdown",
   "metadata": {},
   "source": [
    "$$P(Joven|x_3)\\ \\alpha\\ \\frac{6}{13} \\times\\ (\\frac{6}{6} \\times \\frac{3}{6} \\times (1-\\frac{3}{6}) \\times (1-\\frac{2}{6}) \\times (1-\\frac{3}{6}) \\times (1-\\frac{3}{6}))$$"
   ]
  },
  {
   "cell_type": "code",
   "execution_count": 26,
   "metadata": {},
   "outputs": [
    {
     "data": {
      "text/plain": [
       "0.019230769230769235"
      ]
     },
     "execution_count": 26,
     "metadata": {},
     "output_type": "execute_result"
    }
   ],
   "source": [
    "(6.0/13)*(6.0/6)*(3.0/6)*(1 - (3.0/6))*(1-(2.0/6))*(1-(3.0/6))*(1-(3.0/6))"
   ]
  },
  {
   "cell_type": "markdown",
   "metadata": {},
   "source": [
    "$$P(Joven|x_3) = 0.0192$$"
   ]
  },
  {
   "cell_type": "markdown",
   "metadata": {},
   "source": [
    "$$P(Adulto|x_3)\\ \\alpha\\ \\frac{7}{13} \\times\\ (\\frac{7}{7} \\times \\frac{7}{7} \\times (1-\\frac{4}{7}) \\times (1-\\frac{3}{7}) \\times (1-\\frac{5}{7}) \\times (1-\\frac{3}{7}))$$"
   ]
  },
  {
   "cell_type": "code",
   "execution_count": 30,
   "metadata": {},
   "outputs": [
    {
     "data": {
      "text/plain": [
       "0.021529490917246017"
      ]
     },
     "execution_count": 30,
     "metadata": {},
     "output_type": "execute_result"
    }
   ],
   "source": [
    "(7.0/13)*(7.0/7)*(7.0/7)*(1 - (4.0/7))*(1-(3.0/7))*(1-(5.0/7))*(1-(3.0/7))"
   ]
  },
  {
   "cell_type": "markdown",
   "metadata": {},
   "source": [
    "$$P(Adulto|x_3) = 0.0215$$"
   ]
  },
  {
   "cell_type": "markdown",
   "metadata": {},
   "source": [
    "Ya que $P(Adulto|x_3) > P(Joven|x_3)$, concluimos que el vector $x_3$ corresponde a la clase Adulto.\n",
    "\n",
    "---"
   ]
  },
  {
   "cell_type": "markdown",
   "metadata": {},
   "source": [
    "- $x_4 = (1, 1, 1, 1, 1, 1)$"
   ]
  },
  {
   "cell_type": "markdown",
   "metadata": {},
   "source": [
    "$$P(Joven|x_4)\\ \\alpha\\ \\frac{6}{13} \\times\\ (\\frac{6}{6} \\times \\frac{3}{6} \\times \\frac{3}{6} \\times \\frac{2}{6} \\times \\frac{3}{6} \\times \\frac{3}{6})$$"
   ]
  },
  {
   "cell_type": "code",
   "execution_count": 28,
   "metadata": {},
   "outputs": [
    {
     "data": {
      "text/plain": [
       "0.009615384615384616"
      ]
     },
     "execution_count": 28,
     "metadata": {},
     "output_type": "execute_result"
    }
   ],
   "source": [
    "(6.0/13)*(6.0/6)*(3.0/6)*(3.0/6)*(2.0/6)*(3.0/6)*(3.0/6)"
   ]
  },
  {
   "cell_type": "markdown",
   "metadata": {},
   "source": [
    "$$P(Joven|x_4) = 0.0096$$"
   ]
  },
  {
   "cell_type": "markdown",
   "metadata": {},
   "source": [
    "$$P(Adulto|x_4)\\ \\alpha\\ \\frac{7}{13} \\times\\ (\\frac{7}{7} \\times \\frac{7}{7} \\times \\frac{4}{7} \\times \\frac{3}{7} \\times \\frac{5}{7} \\times \\frac{3}{7})$$"
   ]
  },
  {
   "cell_type": "code",
   "execution_count": 29,
   "metadata": {},
   "outputs": [
    {
     "data": {
      "text/plain": [
       "0.04036779546983627"
      ]
     },
     "execution_count": 29,
     "metadata": {},
     "output_type": "execute_result"
    }
   ],
   "source": [
    "(7.0/13)*(7.0/7)*(7.0/7)*(4.0/7)*(3.0/7)*(5.0/7)*(3.0/7)"
   ]
  },
  {
   "cell_type": "markdown",
   "metadata": {},
   "source": [
    "$$P(Adulto|x_4) = 0.0404$$"
   ]
  },
  {
   "cell_type": "markdown",
   "metadata": {},
   "source": [
    "Ya que $P(Adulto|x_4) > P(Joven|x_4)$, concluimos que el vector $x_4$ corresponde a la clase Adulto.\n",
    "\n",
    "---"
   ]
  },
  {
   "cell_type": "markdown",
   "metadata": {},
   "source": [
    "- $x_5 = (0, 1, 1, 1, 1, 1)$"
   ]
  },
  {
   "cell_type": "markdown",
   "metadata": {},
   "source": [
    "$$P(Joven|x_5)\\ \\alpha\\ \\frac{6}{13} \\times\\ ((1-\\frac{6}{6}) \\times \\frac{3}{6} \\times \\frac{3}{6} \\times \\frac{2}{6} \\times \\frac{3}{6} \\times \\frac{3}{6})$$"
   ]
  },
  {
   "cell_type": "markdown",
   "metadata": {},
   "source": [
    "$$P(Joven|x_5) = 0$$"
   ]
  },
  {
   "cell_type": "markdown",
   "metadata": {},
   "source": [
    "$$P(Adulto|x_5)\\ \\alpha\\ \\frac{7}{13} \\times\\ ((1-\\frac{7}{7}) \\times \\frac{7}{7} \\times \\frac{4}{7} \\times \\frac{3}{7} \\times \\frac{5}{7} \\times \\frac{3}{7})$$"
   ]
  },
  {
   "cell_type": "markdown",
   "metadata": {},
   "source": [
    "$$P(Adulto|x_5) = 0$$"
   ]
  },
  {
   "cell_type": "markdown",
   "metadata": {},
   "source": [
    "Ya que $P(Joven|x_5) = P(Adulto|x_5)$ no es posible clasificar al vector $x_5$ usando el estimador de máxima verosimilitud planteado.\n",
    "\n",
    "---"
   ]
  },
  {
   "cell_type": "markdown",
   "metadata": {},
   "source": [
    "### MAP\n",
    "\n",
    "A continuación, realizaremos la clasificación de los vectores anteriores usando un estimador de máximo a posteriori para calcular todos los parámetros de los atributos definidos por X y la clase C. Nuevamente asumiremos una distribución de probabilidad de Bernoulli, y para calcular los parámetros con MAP, usaremos usaremos:\n",
    "\n",
    "$$q_{C} = \\frac{N_C+ \\alpha - 1}{N + \\beta + \\alpha - 2}$$\n",
    "\n",
    "$$q_{x|C} = \\frac{n_c(x)+ \\alpha - 1}{N + \\beta + \\alpha - 2}$$\n",
    "\n",
    "Donde asumiremos que:\n",
    "\n",
    "- Para los parámetros de los atributos, $\\alpha = 2$ y $\\beta=|V|$ (donde |V| representa el número de valores que puede tomar el atributo en cuestión). En todos los casos $\\beta = 2$.\n",
    "- Para los parámetros de la clase, $\\alpha = 2$ y $\\beta=|C|$ (donde C representa el número de valores que puede tomar la clase en cuestión). En todos los casos $\\beta = 2$.\n",
    "\n",
    "Calculamos pues los parámetros de clase:\n",
    "\n",
    "- $q_{Joven} = \\frac{6+2-1}{13+2+2-2} = \\frac{7}{15}$\n",
    "- $q_{Adulto} = \\frac{7+2-1}{13+2+2-2} = \\frac{8}{15}$\n",
    "\n",
    "Para la parte restante de este inciso, y en adelante, automatizaremos el cálculo de cada uno de los parámetros de clase y de atributos. Para hacerlo, importaremos la tabla mostrada en el problema a un arreglo que pueda ser manipulado por NumPy.\n",
    "\n"
   ]
  },
  {
   "cell_type": "code",
   "execution_count": 129,
   "metadata": {},
   "outputs": [],
   "source": [
    "qj = 7.0/15\n",
    "qa = 8.0/15"
   ]
  },
  {
   "cell_type": "markdown",
   "metadata": {},
   "source": [
    "Para la parte restante de este inciso, y en adelante, automatizaremos el cálculo de cada uno de los parámetros de clase y de atributos. Para hacerlo, importaremos la tabla mostrada en el problema a un arreglo que pueda ser manipulado por NumPy.\n"
   ]
  },
  {
   "cell_type": "code",
   "execution_count": 34,
   "metadata": {},
   "outputs": [],
   "source": [
    "import pandas"
   ]
  },
  {
   "cell_type": "code",
   "execution_count": 35,
   "metadata": {},
   "outputs": [],
   "source": [
    "bandas = pandas.read_csv('bandas.csv')"
   ]
  },
  {
   "cell_type": "code",
   "execution_count": 119,
   "metadata": {},
   "outputs": [
    {
     "data": {
      "text/html": [
       "<div>\n",
       "<style scoped>\n",
       "    .dataframe tbody tr th:only-of-type {\n",
       "        vertical-align: middle;\n",
       "    }\n",
       "\n",
       "    .dataframe tbody tr th {\n",
       "        vertical-align: top;\n",
       "    }\n",
       "\n",
       "    .dataframe thead th {\n",
       "        text-align: right;\n",
       "    }\n",
       "</style>\n",
       "<table border=\"1\" class=\"dataframe\">\n",
       "  <thead>\n",
       "    <tr style=\"text-align: right;\">\n",
       "      <th></th>\n",
       "      <th>Pink Floyd</th>\n",
       "      <th>The Beatles</th>\n",
       "      <th>REM</th>\n",
       "      <th>Nirvana</th>\n",
       "      <th>Queen</th>\n",
       "      <th>Oasis</th>\n",
       "      <th>JA</th>\n",
       "    </tr>\n",
       "  </thead>\n",
       "  <tbody>\n",
       "    <tr>\n",
       "      <th>0</th>\n",
       "      <td>1</td>\n",
       "      <td>0</td>\n",
       "      <td>0</td>\n",
       "      <td>1</td>\n",
       "      <td>1</td>\n",
       "      <td>1</td>\n",
       "      <td>J</td>\n",
       "    </tr>\n",
       "    <tr>\n",
       "      <th>1</th>\n",
       "      <td>1</td>\n",
       "      <td>1</td>\n",
       "      <td>0</td>\n",
       "      <td>1</td>\n",
       "      <td>1</td>\n",
       "      <td>0</td>\n",
       "      <td>J</td>\n",
       "    </tr>\n",
       "    <tr>\n",
       "      <th>2</th>\n",
       "      <td>1</td>\n",
       "      <td>1</td>\n",
       "      <td>1</td>\n",
       "      <td>0</td>\n",
       "      <td>0</td>\n",
       "      <td>1</td>\n",
       "      <td>J</td>\n",
       "    </tr>\n",
       "    <tr>\n",
       "      <th>3</th>\n",
       "      <td>1</td>\n",
       "      <td>0</td>\n",
       "      <td>1</td>\n",
       "      <td>0</td>\n",
       "      <td>0</td>\n",
       "      <td>1</td>\n",
       "      <td>J</td>\n",
       "    </tr>\n",
       "    <tr>\n",
       "      <th>4</th>\n",
       "      <td>1</td>\n",
       "      <td>0</td>\n",
       "      <td>0</td>\n",
       "      <td>0</td>\n",
       "      <td>1</td>\n",
       "      <td>0</td>\n",
       "      <td>J</td>\n",
       "    </tr>\n",
       "    <tr>\n",
       "      <th>5</th>\n",
       "      <td>1</td>\n",
       "      <td>1</td>\n",
       "      <td>1</td>\n",
       "      <td>0</td>\n",
       "      <td>0</td>\n",
       "      <td>0</td>\n",
       "      <td>J</td>\n",
       "    </tr>\n",
       "    <tr>\n",
       "      <th>6</th>\n",
       "      <td>1</td>\n",
       "      <td>1</td>\n",
       "      <td>0</td>\n",
       "      <td>0</td>\n",
       "      <td>1</td>\n",
       "      <td>1</td>\n",
       "      <td>A</td>\n",
       "    </tr>\n",
       "    <tr>\n",
       "      <th>7</th>\n",
       "      <td>1</td>\n",
       "      <td>1</td>\n",
       "      <td>1</td>\n",
       "      <td>0</td>\n",
       "      <td>0</td>\n",
       "      <td>1</td>\n",
       "      <td>A</td>\n",
       "    </tr>\n",
       "    <tr>\n",
       "      <th>8</th>\n",
       "      <td>1</td>\n",
       "      <td>1</td>\n",
       "      <td>1</td>\n",
       "      <td>1</td>\n",
       "      <td>1</td>\n",
       "      <td>0</td>\n",
       "      <td>A</td>\n",
       "    </tr>\n",
       "    <tr>\n",
       "      <th>9</th>\n",
       "      <td>1</td>\n",
       "      <td>1</td>\n",
       "      <td>1</td>\n",
       "      <td>0</td>\n",
       "      <td>1</td>\n",
       "      <td>0</td>\n",
       "      <td>A</td>\n",
       "    </tr>\n",
       "    <tr>\n",
       "      <th>10</th>\n",
       "      <td>1</td>\n",
       "      <td>1</td>\n",
       "      <td>1</td>\n",
       "      <td>0</td>\n",
       "      <td>1</td>\n",
       "      <td>1</td>\n",
       "      <td>A</td>\n",
       "    </tr>\n",
       "    <tr>\n",
       "      <th>11</th>\n",
       "      <td>1</td>\n",
       "      <td>1</td>\n",
       "      <td>0</td>\n",
       "      <td>1</td>\n",
       "      <td>1</td>\n",
       "      <td>0</td>\n",
       "      <td>A</td>\n",
       "    </tr>\n",
       "    <tr>\n",
       "      <th>12</th>\n",
       "      <td>1</td>\n",
       "      <td>1</td>\n",
       "      <td>0</td>\n",
       "      <td>1</td>\n",
       "      <td>0</td>\n",
       "      <td>0</td>\n",
       "      <td>A</td>\n",
       "    </tr>\n",
       "  </tbody>\n",
       "</table>\n",
       "</div>"
      ],
      "text/plain": [
       "    Pink Floyd  The Beatles  REM  Nirvana  Queen  Oasis JA\n",
       "0            1            0    0        1      1      1  J\n",
       "1            1            1    0        1      1      0  J\n",
       "2            1            1    1        0      0      1  J\n",
       "3            1            0    1        0      0      1  J\n",
       "4            1            0    0        0      1      0  J\n",
       "5            1            1    1        0      0      0  J\n",
       "6            1            1    0        0      1      1  A\n",
       "7            1            1    1        0      0      1  A\n",
       "8            1            1    1        1      1      0  A\n",
       "9            1            1    1        0      1      0  A\n",
       "10           1            1    1        0      1      1  A\n",
       "11           1            1    0        1      1      0  A\n",
       "12           1            1    0        1      0      0  A"
      ]
     },
     "execution_count": 119,
     "metadata": {},
     "output_type": "execute_result"
    }
   ],
   "source": [
    "bandas"
   ]
  },
  {
   "cell_type": "markdown",
   "metadata": {},
   "source": [
    "Primero, dividimos a la tabla anterior en un arreglo \"v\" donde esté contenida la información de las bandas, y un vector \"c\" que tenga la información de las clases. Esto con la intención de poder manejar los datos más fácilmente en un programa."
   ]
  },
  {
   "cell_type": "code",
   "execution_count": 118,
   "metadata": {},
   "outputs": [],
   "source": [
    "b = bandas.values\n",
    "v = b[:,:-1]\n",
    "c = b[:,-1]"
   ]
  },
  {
   "cell_type": "markdown",
   "metadata": {},
   "source": [
    "Ahora, para calcular los parámetros $q_{a|C}$, usamos la siguiente función, que toma como entradas el nombre de la clase en cuestión (_C_),  y los valores de $\\alpha$ y $\\beta$ definidos previamente."
   ]
  },
  {
   "cell_type": "code",
   "execution_count": 110,
   "metadata": {},
   "outputs": [],
   "source": [
    "def getParamsForClass(name, alpha, beta):\n",
    "    n = 0\n",
    "    nc = 0\n",
    "    params = []\n",
    "    for i in range(len(c)):\n",
    "        if c[i] == name:\n",
    "            n = n + 1\n",
    "    for i in range(len(v[0])):\n",
    "        for j in range(len(v)):\n",
    "            if c[j] == name:\n",
    "                nc = nc + v[j][i]\n",
    "        params.append(1.0*(nc + alpha - 1)/(n + beta + alpha - 2))\n",
    "        nc = 0\n",
    "\n",
    "    return params"
   ]
  },
  {
   "cell_type": "code",
   "execution_count": 124,
   "metadata": {},
   "outputs": [
    {
     "data": {
      "text/plain": [
       "[0.875, 0.5, 0.5, 0.375, 0.5, 0.5]"
      ]
     },
     "execution_count": 124,
     "metadata": {},
     "output_type": "execute_result"
    }
   ],
   "source": [
    "jparams = getParamsForClass('J', 2, 2)\n",
    "jparams"
   ]
  },
  {
   "cell_type": "markdown",
   "metadata": {},
   "source": [
    "Esto es, para la clase Joven, tenemos:\n",
    "\n",
    "- $P_{PinkFloyd|Joven}=0.875$\n",
    "- $P_{TheBeatles|Joven}=0.5$\n",
    "- $P_{REM|Joven}=0.5$\n",
    "- $P_{Nirvana|Joven}=0.375$\n",
    "- $P_{Queen|Joven}=0.5$\n",
    "- $P_{Oasis|Joven}=0.5$"
   ]
  },
  {
   "cell_type": "code",
   "execution_count": 126,
   "metadata": {},
   "outputs": [
    {
     "data": {
      "text/plain": [
       "[0.8888888888888888,\n",
       " 0.8888888888888888,\n",
       " 0.5555555555555556,\n",
       " 0.4444444444444444,\n",
       " 0.6666666666666666,\n",
       " 0.4444444444444444]"
      ]
     },
     "execution_count": 126,
     "metadata": {},
     "output_type": "execute_result"
    }
   ],
   "source": [
    "aparams = getParamsForClass('A', 2, 2)\n",
    "aparams"
   ]
  },
  {
   "cell_type": "markdown",
   "metadata": {},
   "source": [
    "Por su parte, para la clase Adulto, tenemos:\n",
    "\n",
    "- $P_{PinkFloyd|Adulto}=0.8889$\n",
    "- $P_{TheBeatles|Adulto}=0.8889$\n",
    "- $P_{REM|Adulto}=0.5556$\n",
    "- $P_{Nirvana|Adulto}=0.4444$\n",
    "- $P_{Queen|Adulto}=0.6667$\n",
    "- $P_{Oasis|Adulto}=0.4444$"
   ]
  },
  {
   "cell_type": "markdown",
   "metadata": {},
   "source": [
    "Con los parámetros obtenidos, obtenemos las probabilidades de pertenencia a cada una de las clases para cada uno de los vectores de prueba, usando la siguiente función. Esta función toma como entradas el parámetro de la clase en cuestión (\"cls\"), el vector de prueba (\"testvector\") y los parámetros asociados a la clase (\"params\"), y regresa la probabilidad estimada $P(C|X)$."
   ]
  },
  {
   "cell_type": "code",
   "execution_count": 135,
   "metadata": {},
   "outputs": [],
   "source": [
    "def getProbabilities(cls, testvector, params):\n",
    "    prob = 1\n",
    "    for i in range(len(testvector)):\n",
    "        if testvector[i] == 1:\n",
    "            prob = prob * params[i]\n",
    "        else:\n",
    "            prob = prob * (1 - params[i])\n",
    "    return cls * prob"
   ]
  },
  {
   "cell_type": "markdown",
   "metadata": {},
   "source": [
    "Así pues, clasificamos a cada vector según la máxima probabilidad obtenida.\n",
    "\n",
    "- $x_1 = (1,1,0,1,1,0)$"
   ]
  },
  {
   "cell_type": "code",
   "execution_count": 133,
   "metadata": {},
   "outputs": [
    {
     "data": {
      "text/plain": [
       "0.0095703125"
      ]
     },
     "execution_count": 133,
     "metadata": {},
     "output_type": "execute_result"
    }
   ],
   "source": [
    "getProbabilities(qj, [1,1,0,1,1,0], jparams) "
   ]
  },
  {
   "cell_type": "code",
   "execution_count": 137,
   "metadata": {},
   "outputs": [
    {
     "data": {
      "text/plain": [
       "0.030829386517035755"
      ]
     },
     "execution_count": 137,
     "metadata": {},
     "output_type": "execute_result"
    }
   ],
   "source": [
    "getProbabilities(qa, [1,1,0,1,1,0], aparams) "
   ]
  },
  {
   "cell_type": "markdown",
   "metadata": {},
   "source": [
    "Tenemos entonces que:\n",
    "\n",
    "$$P(Joven|x_1) = 0.0096$$\n",
    "$$P(Adulto|x_1) = 0.0309$$\n",
    "\n",
    "Por lo tanto, concluimos que $x_1$ pertenece a la clase Adulto.\n",
    "\n",
    "---\n",
    "\n",
    "- $x_2 = (1, 0, 1, 1, 1, 1)$"
   ]
  },
  {
   "cell_type": "code",
   "execution_count": 139,
   "metadata": {},
   "outputs": [
    {
     "data": {
      "text/plain": [
       "0.0095703125"
      ]
     },
     "execution_count": 139,
     "metadata": {},
     "output_type": "execute_result"
    }
   ],
   "source": [
    "getProbabilities(qj, [1,0,1,1,1,1], jparams) "
   ]
  },
  {
   "cell_type": "code",
   "execution_count": 148,
   "metadata": {},
   "outputs": [
    {
     "data": {
      "text/plain": [
       "0.003853673314629471"
      ]
     },
     "execution_count": 148,
     "metadata": {},
     "output_type": "execute_result"
    }
   ],
   "source": [
    "getProbabilities(qa, [1,0,1,1,1,1], aparams) "
   ]
  },
  {
   "cell_type": "markdown",
   "metadata": {},
   "source": [
    "Tenemos entonces que :\n",
    "\n",
    "$$P(Joven|x_2) = 0.0096$$\n",
    "$$P(Adulto|x_2) = 0.0038$$\n",
    "\n",
    "Por lo tanto, concluimos que $x_2$ pertenece a la clase Joven.\n",
    "\n",
    "---\n",
    "\n",
    "- $x_3 = (1, 1, 0, 0, 0, 0)$\n"
   ]
  },
  {
   "cell_type": "code",
   "execution_count": 143,
   "metadata": {},
   "outputs": [
    {
     "data": {
      "text/plain": [
       "0.015950520833333332"
      ]
     },
     "execution_count": 143,
     "metadata": {},
     "output_type": "execute_result"
    }
   ],
   "source": [
    "getProbabilities(qj, [1,1,0,0,0,0], jparams) "
   ]
  },
  {
   "cell_type": "code",
   "execution_count": 145,
   "metadata": {},
   "outputs": [
    {
     "data": {
      "text/plain": [
       "0.01926836657314735"
      ]
     },
     "execution_count": 145,
     "metadata": {},
     "output_type": "execute_result"
    }
   ],
   "source": [
    "getProbabilities(qa, [1,1,0,0,0,0], aparams) "
   ]
  },
  {
   "cell_type": "markdown",
   "metadata": {},
   "source": [
    "Tenemos entonces que :\n",
    "\n",
    "$$P(Joven|x_3) = 0.0159$$\n",
    "$$P(Adulto|x_3) = 0.0192$$\n",
    "\n",
    "Por lo tanto, concluimos que $x_3$ pertenece a la clase Adulto.\n",
    "\n",
    "---\n",
    "\n",
    "- $x_4 = (1, 1, 1, 1, 1, 1)$"
   ]
  },
  {
   "cell_type": "code",
   "execution_count": 146,
   "metadata": {},
   "outputs": [
    {
     "data": {
      "text/plain": [
       "0.0095703125"
      ]
     },
     "execution_count": 146,
     "metadata": {},
     "output_type": "execute_result"
    }
   ],
   "source": [
    "getProbabilities(qj, [1,1,1,1,1,1], jparams) "
   ]
  },
  {
   "cell_type": "code",
   "execution_count": 149,
   "metadata": {},
   "outputs": [
    {
     "data": {
      "text/plain": [
       "0.03082938651703575"
      ]
     },
     "execution_count": 149,
     "metadata": {},
     "output_type": "execute_result"
    }
   ],
   "source": [
    "getProbabilities(qa, [1,1,1,1,1,1], aparams) "
   ]
  },
  {
   "cell_type": "markdown",
   "metadata": {},
   "source": [
    "Tenemos entonces que :\n",
    "\n",
    "$$P(Joven|x_4) = 0.0096$$\n",
    "$$P(Adulto|x_4) = 0.0308$$\n",
    "\n",
    "Por lo tanto, concluimos que $x_4$ pertenece a la clase Adulto.\n",
    "\n",
    "---\n",
    "\n",
    "- $x_5 = (0, 1, 1, 1, 1, 1)$"
   ]
  },
  {
   "cell_type": "code",
   "execution_count": 154,
   "metadata": {},
   "outputs": [
    {
     "data": {
      "text/plain": [
       "0.0013671875"
      ]
     },
     "execution_count": 154,
     "metadata": {},
     "output_type": "execute_result"
    }
   ],
   "source": [
    "getProbabilities(qj, [0,1,1,1,1,1], jparams) "
   ]
  },
  {
   "cell_type": "code",
   "execution_count": 153,
   "metadata": {},
   "outputs": [
    {
     "data": {
      "text/plain": [
       "0.003853673314629471"
      ]
     },
     "execution_count": 153,
     "metadata": {},
     "output_type": "execute_result"
    }
   ],
   "source": [
    "getProbabilities(qa, [0,1,1,1,1,1], aparams) "
   ]
  },
  {
   "cell_type": "markdown",
   "metadata": {},
   "source": [
    "Tenemos entonces que :\n",
    "\n",
    "$$P(Joven|x_5) = 0.0014$$\n",
    "$$P(Adulto|x_5) = 0.0039$$\n",
    "\n",
    "Por lo tanto, concluimos que $x_5$ pertenece a la clase Adulto."
   ]
  }
 ],
 "metadata": {
  "kernelspec": {
   "display_name": "Python 2",
   "language": "python",
   "name": "python2"
  },
  "language_info": {
   "codemirror_mode": {
    "name": "ipython",
    "version": 2
   },
   "file_extension": ".py",
   "mimetype": "text/x-python",
   "name": "python",
   "nbconvert_exporter": "python",
   "pygments_lexer": "ipython2",
   "version": "2.7.15"
  }
 },
 "nbformat": 4,
 "nbformat_minor": 2
}

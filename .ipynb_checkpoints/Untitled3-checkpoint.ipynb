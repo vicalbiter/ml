{
 "cells": [
  {
   "cell_type": "markdown",
   "metadata": {},
   "source": [
    "## Problema 3"
   ]
  },
  {
   "cell_type": "code",
   "execution_count": 307,
   "metadata": {},
   "outputs": [],
   "source": [
    "import pandas as pd\n",
    "import numpy as np\n",
    "import matplotlib.pyplot as plt\n",
    "from sklearn.preprocessing import OneHotEncoder"
   ]
  },
  {
   "cell_type": "code",
   "execution_count": 372,
   "metadata": {},
   "outputs": [],
   "source": [
    "training = pd.read_csv('juegos_entrenamiento.csv', header=None)\n",
    "validation = pd.read_csv('juegos_validacion.csv', header=None)\n",
    "training_values = training.values\n",
    "validation_values = validation.values\n",
    "Xt = training_values[:,:-1]\n",
    "Yt = training_values[:, -1]\n",
    "Xv = validation_values[:, :-1]\n",
    "Yv = validation_values[:, -1]"
   ]
  },
  {
   "cell_type": "markdown",
   "metadata": {},
   "source": [
    "#### Clasificador por regresión Logística"
   ]
  },
  {
   "cell_type": "code",
   "execution_count": 381,
   "metadata": {},
   "outputs": [],
   "source": [
    "def logistic_regression(Xt, Yt, rate, n):\n",
    "    # Create design matrix\n",
    "    phi_Xt = np.column_stack((np.ones(Xt.shape[0]), Xt))\n",
    "    theta = np.ones(Xte.shape[1] + 1)\n",
    "    rtheta = fit(phi_Xt, Yt, theta, rate, n)\n",
    "    \n",
    "# Perform a gradient descent in order to find, given a set of inputs Xt and labels Yt, the\n",
    "# parameters theta. This gradient descent uses a learning rate \"rate\", through n iterations\n",
    "def fit(Xt, Yt, theta, rate, n):\n",
    "    for i in range(n):\n",
    "        theta = update_theta(phi_Xt, Yt, theta, rate)\n",
    "    return theta\n",
    "\n",
    "# Helper function for gradient descent\n",
    "def update_theta(Xt, Yt, theta, rate):\n",
    "    Yh = predict(Xt, theta)\n",
    "    # Calculate the gradient descent\n",
    "    gradient = (1.0/Xt.shape[0])*np.dot(Xt.T, Yh - Yt)\n",
    "    gradient *= rate\n",
    "    theta -= gradient\n",
    "    return theta\n",
    "\n",
    "# Make predictions over X inputs with parameters theta\n",
    "def predict(X, theta):\n",
    "    z = np.dot(X, theta)\n",
    "    return sigmoid(z)\n",
    "\n",
    "# Calculate the sigmoid of z (where z is a vector)\n",
    "def sigmoid(z):\n",
    "    return 1 / (1 + np.exp(-1*z))\n",
    "\n",
    "# Classify the probabilities vector Y (if Y(i)>0.5, then Y'(i)=1)\n",
    "def classify(Y):\n",
    "    Yc = []\n",
    "    for p in Y:\n",
    "        if p > 0.5:\n",
    "            Yc.append(1)\n",
    "        else:\n",
    "            Yc.append(0)\n",
    "    return Yc\n",
    "\n",
    "# Calculate the % of correct predictions given a set of actual labels Y, and a set of\n",
    "# predicted labels Yc\n",
    "def error(Y, Yc):\n",
    "    diff = Y - Yc\n",
    "    return 1.0 - np.count_nonzero(diff) / float(len(diff))"
   ]
  },
  {
   "cell_type": "markdown",
   "metadata": {},
   "source": [
    "#### Reparametrización de los vectores de entrada"
   ]
  },
  {
   "cell_type": "code",
   "execution_count": 378,
   "metadata": {},
   "outputs": [],
   "source": [
    "enct = OneHotEncoder(categories='auto')\n",
    "encv = OneHotEncoder(categories='auto')\n",
    "# Training set\n",
    "enct.fit(Xt)\n",
    "Xte = enct.transform(Xt).toarray()\n",
    "# Validation set\n",
    "encv.fit(Xv)\n",
    "Xve = encv.transform(Xv).toarray() "
   ]
  },
  {
   "cell_type": "code",
   "execution_count": 376,
   "metadata": {},
   "outputs": [
    {
     "data": {
      "text/plain": [
       "0.9216300940438872"
      ]
     },
     "execution_count": 376,
     "metadata": {},
     "output_type": "execute_result"
    }
   ],
   "source": [
    "theta = \n",
    "Yh = predict(np.column_stack((np.ones(Xte.shape[0]), Xte)), theta)\n",
    "Yc = classify(Yh)\n",
    "error(Yt, Yc)"
   ]
  }
 ],
 "metadata": {
  "kernelspec": {
   "display_name": "Python 2",
   "language": "python",
   "name": "python2"
  },
  "language_info": {
   "codemirror_mode": {
    "name": "ipython",
    "version": 2
   },
   "file_extension": ".py",
   "mimetype": "text/x-python",
   "name": "python",
   "nbconvert_exporter": "python",
   "pygments_lexer": "ipython2",
   "version": "2.7.15"
  }
 },
 "nbformat": 4,
 "nbformat_minor": 2
}

{
 "cells": [
  {
   "cell_type": "markdown",
   "metadata": {},
   "source": [
    "## Problema 4"
   ]
  },
  {
   "cell_type": "code",
   "execution_count": 1,
   "metadata": {},
   "outputs": [],
   "source": [
    "import pandas as pd\n",
    "import numpy as np\n",
    "import matplotlib.pyplot as plt\n",
    "from sklearn.preprocessing import OneHotEncoder\n",
    "from sklearn.model_selection import train_test_split as tts\n",
    "from sklearn import metrics\n",
    "from sklearn.utils.fixes import signature"
   ]
  },
  {
   "cell_type": "code",
   "execution_count": 2,
   "metadata": {},
   "outputs": [],
   "source": [
    "spam = pd.read_csv('spam.csv', header=None, delimiter=\" \")\n",
    "sval = spam.values\n",
    "training_data, test_data = tts(sval, test_size=0.30)\n",
    "Xt = training_data[:, :-1]\n",
    "Yt = training_data[:, -1]\n",
    "Xv = test_data[:, :-1]\n",
    "Yv = test_data[:, -1]"
   ]
  },
  {
   "cell_type": "markdown",
   "metadata": {},
   "source": [
    "### SPAM"
   ]
  },
  {
   "cell_type": "markdown",
   "metadata": {},
   "source": [
    "#### Clasificador bayesiano ingenuo"
   ]
  },
  {
   "cell_type": "code",
   "execution_count": 3,
   "metadata": {},
   "outputs": [
    {
     "name": "stdout",
     "output_type": "stream",
     "text": [
      "0.9544198895027625\n",
      "0.9452319587628866\n"
     ]
    }
   ],
   "source": [
    "from sklearn.naive_bayes import MultinomialNB\n",
    "mnb = MultinomialNB()\n",
    "mnb.fit(Xt, Yt)\n",
    "print mnb.score(Xt, Yt)\n",
    "print mnb.score(Xv, Yv)"
   ]
  },
  {
   "cell_type": "markdown",
   "metadata": {},
   "source": [
    "#### Regresión Logística"
   ]
  },
  {
   "cell_type": "markdown",
   "metadata": {},
   "source": [
    "Metemos regularización a la función de gradiente definida en el problema anterior:"
   ]
  },
  {
   "cell_type": "code",
   "execution_count": 4,
   "metadata": {},
   "outputs": [],
   "source": [
    "def logistic_regression(Xt, Yt, lambda_val, rate, n):\n",
    "    # Create design matrix\n",
    "    phi_Xt = np.column_stack((np.ones(Xt.shape[0]), Xt))\n",
    "    # Initialize theta\n",
    "    theta = np.ones(Xt.shape[1] + 1)\n",
    "    # Return vector of parameters theta\n",
    "    return fit(phi_Xt, Yt, theta, lambda_val, rate, n)\n",
    "    \n",
    "# Perform a gradient descent in order to find, given a set of inputs Xt and labels Yt, the\n",
    "# parameters theta. This gradient descent uses a learning rate \"rate\", through n iterations\n",
    "def fit(Xt, Yt, theta, lambda_val, rate, n):\n",
    "    for i in range(n):\n",
    "        theta = update_theta(Xt, Yt, theta, lambda_val, rate)\n",
    "    return theta\n",
    "\n",
    "# Helper function for gradient descent\n",
    "def update_theta(Xt, Yt, theta, lambda_val, rate):\n",
    "    Yh = predict(Xt, theta)\n",
    "    # Calculate the gradient descent\n",
    "    gradient = (1.0/Xt.shape[0])*np.dot(Xt.T, Yh - Yt) + 2*lambda_val*theta\n",
    "    gradient *= rate\n",
    "    theta -= gradient\n",
    "    return theta\n",
    "\n",
    "# Make predictions over X inputs with parameters theta\n",
    "def predict(X, theta):\n",
    "    z = np.dot(X, theta)\n",
    "    return sigmoid(z)\n",
    "\n",
    "def get_probabilities(X, theta):\n",
    "    phi_X = np.column_stack((np.ones(X.shape[0]), X))\n",
    "    z = np.dot(phi_X, theta)\n",
    "    return sigmoid(z)\n",
    "\n",
    "# Calculate the sigmoid of z (where z is a vector)\n",
    "def sigmoid(z):\n",
    "    return 1 / (1 + np.exp(-1*z))\n",
    "\n",
    "# Classify the probabilities vector Y (if Y(i)>0.5, then Y'(i)=1)\n",
    "def classify(Y):\n",
    "    Yc = []\n",
    "    for p in Y:\n",
    "        if p > 0.5:\n",
    "            Yc.append(1)\n",
    "        else:\n",
    "            Yc.append(0)\n",
    "    return Yc\n",
    "\n",
    "# Calculate the % of correct predictions given a set of actual labels Y, and a set of\n",
    "# predicted labels Yc\n",
    "def error(Y, Yc):\n",
    "    diff = Y - Yc\n",
    "    return 1.0 - np.count_nonzero(diff) / float(len(diff))\n",
    "\n",
    "# Calculate the performace of the parameteres theta with the set X/Y\n",
    "def performance(X, Y, theta):\n",
    "    Yh = predict(np.column_stack((np.ones(X.shape[0]), X)), theta)\n",
    "    Yc = classify(Yh)\n",
    "    return error(Y, Yc)"
   ]
  },
  {
   "cell_type": "code",
   "execution_count": 9,
   "metadata": {},
   "outputs": [],
   "source": [
    "# Perform several logistic regressions with different values for the regularization paramenter \"lambda\"\n",
    "# This function performs a LR with lambda = min_lambda and then it subsequently begins increasing lambda\n",
    "# by a factor of 10, n times\n",
    "def test_lambdas_logistic_regression(Xt, Yt, Xv, Yv, n, min_lambda):\n",
    "    print 'Performance (% of correct predictions) of the logistic regression for: '\n",
    "    for i in range(n):\n",
    "        current_lambda = min_lambda*pow(10, i)\n",
    "        theta = logistic_regression(Xt, Yt, current_lambda, 0.1, 1000)\n",
    "        print 'lambda = %0.4f' % current_lambda\n",
    "        print 'T. set - %0.4f' % performance(Xt, Yt, theta)\n",
    "        print 'V. set - %0.4f' % performance(Xv, Yv, theta)"
   ]
  },
  {
   "cell_type": "markdown",
   "metadata": {},
   "source": [
    "#### Lambdas pequeñas"
   ]
  },
  {
   "cell_type": "code",
   "execution_count": 10,
   "metadata": {
    "scrolled": false
   },
   "outputs": [
    {
     "name": "stdout",
     "output_type": "stream",
     "text": [
      "Performance (% of correct predictions) of the logistic regression for: \n",
      "lambda = 0.0001\n",
      "T. set - 0.9213\n",
      "V. set - 0.9053\n",
      "lambda = 0.0010\n",
      "T. set - 0.9246\n",
      "V. set - 0.9072\n",
      "lambda = 0.0100\n",
      "T. set - 0.9550\n",
      "V. set - 0.9497\n",
      "lambda = 0.1000\n",
      "T. set - 0.8633\n",
      "V. set - 0.8640\n",
      "lambda = 1.0000\n",
      "T. set - 0.7530\n",
      "V. set - 0.7545\n"
     ]
    }
   ],
   "source": [
    "test_lambdas_logistic_regression(Xt, Yt, Xv, Yv, 5, 0.0001)"
   ]
  },
  {
   "cell_type": "markdown",
   "metadata": {},
   "source": [
    "#### Lambdas grandes"
   ]
  },
  {
   "cell_type": "code",
   "execution_count": 11,
   "metadata": {
    "scrolled": true
   },
   "outputs": [
    {
     "name": "stdout",
     "output_type": "stream",
     "text": [
      "Performance (% of correct predictions) of the logistic regression for: \n"
     ]
    },
    {
     "name": "stderr",
     "output_type": "stream",
     "text": [
      "/home/vicente/anaconda2/lib/python2.7/site-packages/ipykernel_launcher.py:37: RuntimeWarning: overflow encountered in exp\n"
     ]
    },
    {
     "name": "stdout",
     "output_type": "stream",
     "text": [
      "lambda = 10.0000\n",
      "T. set - 0.2914\n",
      "V. set - 0.2867\n"
     ]
    },
    {
     "name": "stderr",
     "output_type": "stream",
     "text": [
      "/home/vicente/anaconda2/lib/python2.7/site-packages/ipykernel_launcher.py:20: RuntimeWarning: overflow encountered in multiply\n"
     ]
    },
    {
     "name": "stdout",
     "output_type": "stream",
     "text": [
      "lambda = 100.0000\n",
      "T. set - 0.7086\n",
      "V. set - 0.7133\n",
      "lambda = 1000.0000\n",
      "T. set - 0.7086\n",
      "V. set - 0.7133\n",
      "lambda = 10000.0000\n",
      "T. set - 0.7086\n",
      "V. set - 0.7133\n",
      "lambda = 100000.0000\n",
      "T. set - 0.7086\n",
      "V. set - 0.7133\n"
     ]
    }
   ],
   "source": [
    "test_lambdas_logistic_regression(Xt, Yt, Xv, Yv, 5, 10)"
   ]
  },
  {
   "cell_type": "markdown",
   "metadata": {},
   "source": [
    "### ROC/Precisión Exhaustividad"
   ]
  },
  {
   "cell_type": "code",
   "execution_count": 37,
   "metadata": {},
   "outputs": [],
   "source": [
    "def plot_ROC(Y, YProb):\n",
    "    fpr, tpr, thresholds = metrics.roc_curve(Y, YProb)\n",
    "    auc = metrics.roc_auc_score(Y, YProb)\n",
    "    plt.plot(fpr, tpr)\n",
    "    plt.title('Curva ROC (AUC = %0.2f)' % auc)\n",
    "    plt.plot(np.arange(0, 1, 0.01), np.arange(0, 1, 0.01),linestyle='--', color='g')\n",
    "    plt.legend(loc=\"lower right\")\n",
    "    plt.xlabel('Tasa de falsos positivos')\n",
    "    plt.ylabel('Tasa de verdaderos positivos')\n",
    "    plt.show()\n",
    "\n",
    "def plot_PE(Y, YProb):\n",
    "    pr, ex, thresholds = metrics.precision_recall_curve(Y, YProb)\n",
    "    aps = metrics.average_precision_score(Y, YProb)\n",
    "    step_kwargs = ({'step': 'post'}\n",
    "               if 'step' in signature(plt.fill_between).parameters\n",
    "               else {})\n",
    "    plt.step(ex, pr, color='b',alpha=0.2, where='post')\n",
    "    plt.fill_between(ex, pr, alpha=0.2, color='b', **step_kwargs)\n",
    "    plt.title('Curva Precision Exhaustividad (AUC = %0.2f)' % aps)\n",
    "    plt.legend(loc=\"lower right\")\n",
    "    plt.xlabel('Exhaustividad')\n",
    "    plt.ylabel('Precision')\n",
    "    plt.show()"
   ]
  },
  {
   "cell_type": "markdown",
   "metadata": {},
   "source": [
    "#### Clasificador Bayesiano Ingenuo"
   ]
  },
  {
   "cell_type": "code",
   "execution_count": 64,
   "metadata": {
    "scrolled": true
   },
   "outputs": [
    {
     "data": {
      "image/png": "[encoded data removed]",
      "text/plain": [
       "<Figure size 432x288 with 1 Axes>"
      ]
     },
     "metadata": {
      "needs_background": "light"
     },
     "output_type": "display_data"
    },
    {
     "data": {
      "image/png": "[encoded data removed]",
      "text/plain": [
       "<Figure size 432x288 with 1 Axes>"
      ]
     },
     "metadata": {
      "needs_background": "light"
     },
     "output_type": "display_data"
    }
   ],
   "source": [
    "YtProb = mnb.predict_proba(Xt)\n",
    "plot_ROC(Yt, YtProb[:,1])\n",
    "plot_PE(Yt, YtProb[:,1])"
   ]
  },
  {
   "cell_type": "markdown",
   "metadata": {},
   "source": [
    "#### Regresión Logística (lambda = 0.01)"
   ]
  },
  {
   "cell_type": "code",
   "execution_count": 48,
   "metadata": {
    "scrolled": false
   },
   "outputs": [
    {
     "data": {
      "image/png": "[encoded data removed]",
      "text/plain": [
       "<Figure size 432x288 with 1 Axes>"
      ]
     },
     "metadata": {
      "needs_background": "light"
     },
     "output_type": "display_data"
    },
    {
     "data": {
      "image/png": "[encoded data removed]",
      "text/plain": [
       "<Figure size 432x288 with 1 Axes>"
      ]
     },
     "metadata": {
      "needs_background": "light"
     },
     "output_type": "display_data"
    }
   ],
   "source": [
    "theta = logistic_regression(Xt, Yt, 0.01, 0.1, 1000)\n",
    "YtProb = get_probabilities(Xt, theta)\n",
    "plot_ROC(Yt, YtProb)\n",
    "plot_PE(Yt, YtProb)"
   ]
  },
  {
   "cell_type": "markdown",
   "metadata": {},
   "source": [
    "### Cáncer de seno"
   ]
  },
  {
   "cell_type": "code",
   "execution_count": 12,
   "metadata": {},
   "outputs": [
    {
     "data": {
      "text/html": [
       "<div>\n",
       "<style scoped>\n",
       "    .dataframe tbody tr th:only-of-type {\n",
       "        vertical-align: middle;\n",
       "    }\n",
       "\n",
       "    .dataframe tbody tr th {\n",
       "        vertical-align: top;\n",
       "    }\n",
       "\n",
       "    .dataframe thead th {\n",
       "        text-align: right;\n",
       "    }\n",
       "</style>\n",
       "<table border=\"1\" class=\"dataframe\">\n",
       "  <thead>\n",
       "    <tr style=\"text-align: right;\">\n",
       "      <th></th>\n",
       "      <th>0</th>\n",
       "      <th>1</th>\n",
       "      <th>2</th>\n",
       "      <th>3</th>\n",
       "      <th>4</th>\n",
       "      <th>5</th>\n",
       "      <th>6</th>\n",
       "      <th>7</th>\n",
       "      <th>8</th>\n",
       "      <th>9</th>\n",
       "      <th>10</th>\n",
       "    </tr>\n",
       "  </thead>\n",
       "  <tbody>\n",
       "    <tr>\n",
       "      <th>0</th>\n",
       "      <td>1000025</td>\n",
       "      <td>5</td>\n",
       "      <td>1</td>\n",
       "      <td>1</td>\n",
       "      <td>1</td>\n",
       "      <td>2</td>\n",
       "      <td>1</td>\n",
       "      <td>3</td>\n",
       "      <td>1</td>\n",
       "      <td>1</td>\n",
       "      <td>2</td>\n",
       "    </tr>\n",
       "    <tr>\n",
       "      <th>1</th>\n",
       "      <td>1002945</td>\n",
       "      <td>5</td>\n",
       "      <td>4</td>\n",
       "      <td>4</td>\n",
       "      <td>5</td>\n",
       "      <td>7</td>\n",
       "      <td>10</td>\n",
       "      <td>3</td>\n",
       "      <td>2</td>\n",
       "      <td>1</td>\n",
       "      <td>2</td>\n",
       "    </tr>\n",
       "    <tr>\n",
       "      <th>2</th>\n",
       "      <td>1015425</td>\n",
       "      <td>3</td>\n",
       "      <td>1</td>\n",
       "      <td>1</td>\n",
       "      <td>1</td>\n",
       "      <td>2</td>\n",
       "      <td>2</td>\n",
       "      <td>3</td>\n",
       "      <td>1</td>\n",
       "      <td>1</td>\n",
       "      <td>2</td>\n",
       "    </tr>\n",
       "    <tr>\n",
       "      <th>3</th>\n",
       "      <td>1016277</td>\n",
       "      <td>6</td>\n",
       "      <td>8</td>\n",
       "      <td>8</td>\n",
       "      <td>1</td>\n",
       "      <td>3</td>\n",
       "      <td>4</td>\n",
       "      <td>3</td>\n",
       "      <td>7</td>\n",
       "      <td>1</td>\n",
       "      <td>2</td>\n",
       "    </tr>\n",
       "    <tr>\n",
       "      <th>4</th>\n",
       "      <td>1017023</td>\n",
       "      <td>4</td>\n",
       "      <td>1</td>\n",
       "      <td>1</td>\n",
       "      <td>3</td>\n",
       "      <td>2</td>\n",
       "      <td>1</td>\n",
       "      <td>3</td>\n",
       "      <td>1</td>\n",
       "      <td>1</td>\n",
       "      <td>2</td>\n",
       "    </tr>\n",
       "  </tbody>\n",
       "</table>\n",
       "</div>"
      ],
      "text/plain": [
       "        0   1   2   3   4   5   6   7   8   9   10\n",
       "0  1000025   5   1   1   1   2   1   3   1   1   2\n",
       "1  1002945   5   4   4   5   7  10   3   2   1   2\n",
       "2  1015425   3   1   1   1   2   2   3   1   1   2\n",
       "3  1016277   6   8   8   1   3   4   3   7   1   2\n",
       "4  1017023   4   1   1   3   2   1   3   1   1   2"
      ]
     },
     "execution_count": 12,
     "metadata": {},
     "output_type": "execute_result"
    }
   ],
   "source": [
    "cancer = pd.read_csv('cancer.csv', header=None)\n",
    "c = cancer.values\n",
    "cancer.head()"
   ]
  },
  {
   "cell_type": "markdown",
   "metadata": {},
   "source": [
    "Primero hay que arreglar los datos faltantes."
   ]
  },
  {
   "cell_type": "code",
   "execution_count": 13,
   "metadata": {},
   "outputs": [],
   "source": [
    "def fixMissingValues(array, method):\n",
    "    \n",
    "    arr = np.copy(array)\n",
    "    \n",
    "    if method == 'mean':\n",
    "        means = []\n",
    "\n",
    "        sumv = 0\n",
    "        count = 0\n",
    "        for j in range(len(arr[0])):\n",
    "            for i in range(len(arr)):\n",
    "                if arr[i][j] == '?':\n",
    "                    continue\n",
    "                else:\n",
    "                    sumv = sumv + int(arr[i][j])\n",
    "                    count = count + 1  \n",
    "            means.append(int(1.0*sumv/count))\n",
    "            sumv = 0\n",
    "            count = 0\n",
    "\n",
    "        for i in range(len(arr)):\n",
    "            for j in range(len(arr[0])):\n",
    "                if arr[i][j] == '?':\n",
    "                    arr[i][j] = means[j]\n",
    "                else:\n",
    "                    arr[i][j] = int(arr[i][j])\n",
    "        return arr\n",
    "    \n",
    "    elif method == 'zero':\n",
    "        for i in range(len(arr)):\n",
    "            for j in range(len(arr[0])):\n",
    "                if arr[i][j] == '?':\n",
    "                    arr[i][j] = 0\n",
    "                else:\n",
    "                    arr[i][j] = int(arr[i][j])\n",
    "        return arr\n",
    "\n",
    "    return None"
   ]
  },
  {
   "cell_type": "markdown",
   "metadata": {},
   "source": [
    "Preparamos los valores."
   ]
  },
  {
   "cell_type": "code",
   "execution_count": 14,
   "metadata": {},
   "outputs": [],
   "source": [
    "cnmv = fixMissingValues(c, 'mean')\n",
    "training_data, test_data = tts(cnmv, test_size=0.30)\n",
    "Xt = training_data[:, 1:-1]\n",
    "Yt = np.transpose(training_data[:, 10:]).flatten()\n",
    "Xv = test_data[:, 1:-1]\n",
    "Yv = np.transpose(test_data[:, 10:]).flatten()\n",
    "\n",
    "Yt = np.array(list((Yt - 2)/2))\n",
    "Yv = np.array(list((Yv - 2)/2))"
   ]
  },
  {
   "cell_type": "markdown",
   "metadata": {},
   "source": [
    "#### Reparametrización de los vectores de entrada"
   ]
  },
  {
   "cell_type": "code",
   "execution_count": 24,
   "metadata": {},
   "outputs": [],
   "source": [
    "atts_categories = []\n",
    "for i in range(9):\n",
    "    atts_categories.append(np.arange(1,11))\n",
    "\n",
    "enct = OneHotEncoder(categories=atts_categories)\n",
    "# Training set\n",
    "enct.fit(Xt)\n",
    "Xte = enct.transform(Xt).toarray()\n",
    "# Validation set \n",
    "encv = OneHotEncoder(categories=atts_categories)\n",
    "encv.fit(Xv)\n",
    "Xve = encv.transform(Xv).toarray() "
   ]
  },
  {
   "cell_type": "markdown",
   "metadata": {},
   "source": [
    "### Clasificador bayesiano ingenuo"
   ]
  },
  {
   "cell_type": "code",
   "execution_count": 25,
   "metadata": {},
   "outputs": [
    {
     "name": "stdout",
     "output_type": "stream",
     "text": [
      "0.9713701431492843\n",
      "0.9761904761904762\n"
     ]
    }
   ],
   "source": [
    "from sklearn.naive_bayes import BernoulliNB\n",
    "bnb = BernoulliNB()\n",
    "bnb.fit(Xte, Yt)\n",
    "print bnb.score(Xte, Yt)\n",
    "print bnb.score(Xve, Yv)"
   ]
  },
  {
   "cell_type": "markdown",
   "metadata": {},
   "source": [
    "### Clasificador por regresión logística"
   ]
  },
  {
   "cell_type": "markdown",
   "metadata": {},
   "source": [
    "#### Lambdas pequeñas"
   ]
  },
  {
   "cell_type": "code",
   "execution_count": 29,
   "metadata": {
    "scrolled": false
   },
   "outputs": [
    {
     "name": "stdout",
     "output_type": "stream",
     "text": [
      "Performance (% of correct predictions) of the logistic regression for: \n",
      "lambda = 0.0001\n",
      "T. set - 0.9714\n",
      "V. set - 0.9714\n",
      "lambda = 0.0010\n",
      "T. set - 0.9714\n",
      "V. set - 0.9714\n",
      "lambda = 0.0100\n",
      "T. set - 0.9693\n",
      "V. set - 0.9714\n",
      "lambda = 0.1000\n",
      "T. set - 0.9427\n",
      "V. set - 0.9619\n",
      "lambda = 1.0000\n",
      "T. set - 0.8344\n",
      "V. set - 0.8381\n"
     ]
    }
   ],
   "source": [
    "test_lambdas_logistic_regression(Xte, Yt, Xve, Yv, 5, 0.0001)"
   ]
  },
  {
   "cell_type": "markdown",
   "metadata": {},
   "source": [
    "#### Lambdas grandes"
   ]
  },
  {
   "cell_type": "code",
   "execution_count": 32,
   "metadata": {
    "scrolled": false
   },
   "outputs": [
    {
     "name": "stdout",
     "output_type": "stream",
     "text": [
      "Performance (% of correct predictions) of the logistic regression for: \n",
      "lambda = 10.0000\n",
      "T. set - 0.3599\n",
      "V. set - 0.3095\n",
      "lambda = 100.0000\n",
      "T. set - 0.6401\n",
      "V. set - 0.6905\n",
      "lambda = 1000.0000\n",
      "T. set - 0.6401\n",
      "V. set - 0.6905\n",
      "lambda = 10000.0000\n",
      "T. set - 0.6401\n",
      "V. set - 0.6905\n",
      "lambda = 100000.0000\n",
      "T. set - 0.6401\n",
      "V. set - 0.6905\n"
     ]
    },
    {
     "name": "stderr",
     "output_type": "stream",
     "text": [
      "/home/vicente/anaconda2/lib/python2.7/site-packages/ipykernel_launcher.py:37: RuntimeWarning: overflow encountered in exp\n",
      "/home/vicente/anaconda2/lib/python2.7/site-packages/ipykernel_launcher.py:20: RuntimeWarning: overflow encountered in multiply\n"
     ]
    }
   ],
   "source": [
    "test_lambdas_logistic_regression(Xte, Yt, Xve, Yv, 5, 10)"
   ]
  },
  {
   "cell_type": "markdown",
   "metadata": {},
   "source": [
    "### ROC/Precisión Exhaustividad"
   ]
  },
  {
   "cell_type": "markdown",
   "metadata": {},
   "source": [
    "#### Clasificador Bayesiano Ingenuo"
   ]
  },
  {
   "cell_type": "code",
   "execution_count": 38,
   "metadata": {
    "scrolled": true
   },
   "outputs": [
    {
     "data": {
      "image/png": "[encoded data removed]",
      "text/plain": [
       "<Figure size 432x288 with 1 Axes>"
      ]
     },
     "metadata": {
      "needs_background": "light"
     },
     "output_type": "display_data"
    },
    {
     "data": {
      "image/png": "[encoded data removed]",
      "text/plain": [
       "<Figure size 432x288 with 1 Axes>"
      ]
     },
     "metadata": {
      "needs_background": "light"
     },
     "output_type": "display_data"
    }
   ],
   "source": [
    "YtProb = bnb.predict_proba(Xte)\n",
    "plot_ROC(Yt, YtProb[:,1])\n",
    "plot_PE(Yt, YtProb[:,1])"
   ]
  },
  {
   "cell_type": "markdown",
   "metadata": {},
   "source": [
    "#### Regresión Logística (lambda = 0.0001)"
   ]
  },
  {
   "cell_type": "code",
   "execution_count": 39,
   "metadata": {
    "scrolled": false
   },
   "outputs": [
    {
     "data": {
      "image/png": "[encoded data removed]",
      "text/plain": [
       "<Figure size 432x288 with 1 Axes>"
      ]
     },
     "metadata": {
      "needs_background": "light"
     },
     "output_type": "display_data"
    },
    {
     "data": {
      "image/png": "[encoded data removed]",
      "text/plain": [
       "<Figure size 432x288 with 1 Axes>"
      ]
     },
     "metadata": {
      "needs_background": "light"
     },
     "output_type": "display_data"
    }
   ],
   "source": [
    "theta = logistic_regression(Xte, Yt, 0.0001, 0.1, 1000)\n",
    "YtProb = get_probabilities(Xte, theta)\n",
    "plot_ROC(Yt, YtProb)\n",
    "plot_PE(Yt, YtProb)"
   ]
  }
 ],
 "metadata": {
  "kernelspec": {
   "display_name": "Python 2",
   "language": "python",
   "name": "python2"
  },
  "language_info": {
   "codemirror_mode": {
    "name": "ipython",
    "version": 2
   },
   "file_extension": ".py",
   "mimetype": "text/x-python",
   "name": "python",
   "nbconvert_exporter": "python",
   "pygments_lexer": "ipython2",
   "version": "2.7.15"
  }
 },
 "nbformat": 4,
 "nbformat_minor": 2
}

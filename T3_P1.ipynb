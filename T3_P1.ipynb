{
 "cells": [
  {
   "cell_type": "markdown",
   "metadata": {},
   "source": [
    "## Problema 1"
   ]
  },
  {
   "cell_type": "code",
   "execution_count": 124,
   "metadata": {},
   "outputs": [],
   "source": [
    "import pandas as pd\n",
    "import numpy as np\n",
    "import matplotlib.pyplot as plt\n",
    "from sklearn.preprocessing import PolynomialFeatures\n",
    "from sklearn.model_selection import KFold"
   ]
  },
  {
   "cell_type": "code",
   "execution_count": 125,
   "metadata": {},
   "outputs": [
    {
     "data": {
      "text/html": [
       "<div>\n",
       "<style scoped>\n",
       "    .dataframe tbody tr th:only-of-type {\n",
       "        vertical-align: middle;\n",
       "    }\n",
       "\n",
       "    .dataframe tbody tr th {\n",
       "        vertical-align: top;\n",
       "    }\n",
       "\n",
       "    .dataframe thead th {\n",
       "        text-align: right;\n",
       "    }\n",
       "</style>\n",
       "<table border=\"1\" class=\"dataframe\">\n",
       "  <thead>\n",
       "    <tr style=\"text-align: right;\">\n",
       "      <th></th>\n",
       "      <th>0</th>\n",
       "      <th>1</th>\n",
       "      <th>2</th>\n",
       "      <th>3</th>\n",
       "      <th>4</th>\n",
       "      <th>5</th>\n",
       "      <th>6</th>\n",
       "      <th>7</th>\n",
       "      <th>8</th>\n",
       "      <th>9</th>\n",
       "      <th>10</th>\n",
       "      <th>11</th>\n",
       "      <th>12</th>\n",
       "      <th>13</th>\n",
       "    </tr>\n",
       "  </thead>\n",
       "  <tbody>\n",
       "    <tr>\n",
       "      <th>0</th>\n",
       "      <td>0.00632</td>\n",
       "      <td>18.0</td>\n",
       "      <td>2.31</td>\n",
       "      <td>0</td>\n",
       "      <td>0.538</td>\n",
       "      <td>6.575</td>\n",
       "      <td>65.2</td>\n",
       "      <td>4.0900</td>\n",
       "      <td>1</td>\n",
       "      <td>296</td>\n",
       "      <td>15.3</td>\n",
       "      <td>396.90</td>\n",
       "      <td>4.98</td>\n",
       "      <td>24.0</td>\n",
       "    </tr>\n",
       "    <tr>\n",
       "      <th>1</th>\n",
       "      <td>0.02731</td>\n",
       "      <td>0.0</td>\n",
       "      <td>7.07</td>\n",
       "      <td>0</td>\n",
       "      <td>0.469</td>\n",
       "      <td>6.421</td>\n",
       "      <td>78.9</td>\n",
       "      <td>4.9671</td>\n",
       "      <td>2</td>\n",
       "      <td>242</td>\n",
       "      <td>17.8</td>\n",
       "      <td>396.90</td>\n",
       "      <td>9.14</td>\n",
       "      <td>21.6</td>\n",
       "    </tr>\n",
       "    <tr>\n",
       "      <th>2</th>\n",
       "      <td>0.02729</td>\n",
       "      <td>0.0</td>\n",
       "      <td>7.07</td>\n",
       "      <td>0</td>\n",
       "      <td>0.469</td>\n",
       "      <td>7.185</td>\n",
       "      <td>61.1</td>\n",
       "      <td>4.9671</td>\n",
       "      <td>2</td>\n",
       "      <td>242</td>\n",
       "      <td>17.8</td>\n",
       "      <td>392.83</td>\n",
       "      <td>4.03</td>\n",
       "      <td>34.7</td>\n",
       "    </tr>\n",
       "    <tr>\n",
       "      <th>3</th>\n",
       "      <td>0.03237</td>\n",
       "      <td>0.0</td>\n",
       "      <td>2.18</td>\n",
       "      <td>0</td>\n",
       "      <td>0.458</td>\n",
       "      <td>6.998</td>\n",
       "      <td>45.8</td>\n",
       "      <td>6.0622</td>\n",
       "      <td>3</td>\n",
       "      <td>222</td>\n",
       "      <td>18.7</td>\n",
       "      <td>394.63</td>\n",
       "      <td>2.94</td>\n",
       "      <td>33.4</td>\n",
       "    </tr>\n",
       "    <tr>\n",
       "      <th>4</th>\n",
       "      <td>0.06905</td>\n",
       "      <td>0.0</td>\n",
       "      <td>2.18</td>\n",
       "      <td>0</td>\n",
       "      <td>0.458</td>\n",
       "      <td>7.147</td>\n",
       "      <td>54.2</td>\n",
       "      <td>6.0622</td>\n",
       "      <td>3</td>\n",
       "      <td>222</td>\n",
       "      <td>18.7</td>\n",
       "      <td>396.90</td>\n",
       "      <td>5.33</td>\n",
       "      <td>36.2</td>\n",
       "    </tr>\n",
       "  </tbody>\n",
       "</table>\n",
       "</div>"
      ],
      "text/plain": [
       "        0     1     2   3      4      5     6       7   8    9     10      11  \\\n",
       "0  0.00632  18.0  2.31   0  0.538  6.575  65.2  4.0900   1  296  15.3  396.90   \n",
       "1  0.02731   0.0  7.07   0  0.469  6.421  78.9  4.9671   2  242  17.8  396.90   \n",
       "2  0.02729   0.0  7.07   0  0.469  7.185  61.1  4.9671   2  242  17.8  392.83   \n",
       "3  0.03237   0.0  2.18   0  0.458  6.998  45.8  6.0622   3  222  18.7  394.63   \n",
       "4  0.06905   0.0  2.18   0  0.458  7.147  54.2  6.0622   3  222  18.7  396.90   \n",
       "\n",
       "     12    13  \n",
       "0  4.98  24.0  \n",
       "1  9.14  21.6  \n",
       "2  4.03  34.7  \n",
       "3  2.94  33.4  \n",
       "4  5.33  36.2  "
      ]
     },
     "execution_count": 125,
     "metadata": {},
     "output_type": "execute_result"
    }
   ],
   "source": [
    "data = pd.read_csv(\"housing.csv\", header=None)\n",
    "data.head()"
   ]
  },
  {
   "cell_type": "code",
   "execution_count": 126,
   "metadata": {},
   "outputs": [
    {
     "data": {
      "text/plain": [
       "array([2.7310e-02, 0.0000e+00, 7.0700e+00, 0.0000e+00, 4.6900e-01,\n",
       "       6.4210e+00, 7.8900e+01, 4.9671e+00, 2.0000e+00, 2.4200e+02,\n",
       "       1.7800e+01, 3.9690e+02, 9.1400e+00])"
      ]
     },
     "execution_count": 126,
     "metadata": {},
     "output_type": "execute_result"
    }
   ],
   "source": [
    "houses = data.values\n",
    "X = houses[:, :-1]\n",
    "Y = houses[:, -1:]\n",
    "X[1]"
   ]
  },
  {
   "cell_type": "markdown",
   "metadata": {},
   "source": [
    "### Definición de funciones importantes"
   ]
  },
  {
   "cell_type": "code",
   "execution_count": 165,
   "metadata": {},
   "outputs": [],
   "source": [
    "# Scikit-learn Lasso (L1) and Ridge (L2) functions for LS linear regression\n",
    "from sklearn.linear_model import LinearRegression\n",
    "from sklearn.linear_model import Lasso\n",
    "from sklearn.linear_model import Ridge"
   ]
  },
  {
   "cell_type": "code",
   "execution_count": 166,
   "metadata": {},
   "outputs": [],
   "source": [
    "def polynomial_expansion(X, degree):\n",
    "    phi_X = X\n",
    "    for i in range(degree - 1):\n",
    "        powerX = np.power(X, i + 2)\n",
    "        phi_X = np.column_stack((phi_X, powerX))\n",
    "    return phi_X"
   ]
  },
  {
   "cell_type": "code",
   "execution_count": 218,
   "metadata": {},
   "outputs": [],
   "source": [
    "# Performs a linear regression over the training set Xt/Yt using LS without regularization\n",
    "def lsq(Xt, Yt, degree):\n",
    "    Xt = polynomial_expansion(Xt, degree)\n",
    "    clf = LinearRegression()\n",
    "    linreg = clf.fit(Xt, Yt)\n",
    "    return np.column_stack((linreg.intercept_, linreg.coef_)).T\n",
    "\n",
    "# Performs a linear regression over the training set Xt/Yt using LS with L1\n",
    "def regularized_lsq_l1(Xt, Yt, alpha, degree):\n",
    "    Xt = polynomial_expansion(Xt, degree)\n",
    "    clf = Lasso(alpha, copy_X=True, fit_intercept=True, normalize=True)\n",
    "    lasso = clf.fit(Xt, Yt)\n",
    "    return np.column_stack((lasso.intercept_, np.array([list(lasso.coef_)]))).T\n",
    "\n",
    "# Performs a linear regression over the training set Xt/Yt using LS with L2\n",
    "def regularized_lsq_l2(Xt, Yt, alpha, degree):\n",
    "    Xt = polynomial_expansion(Xt, degree)\n",
    "    clf = Ridge(alpha, copy_X=True, fit_intercept=True, normalize=True)\n",
    "    ridge = clf.fit(Xt, Yt)\n",
    "    return np.column_stack((ridge.intercept_, ridge.coef_)).T"
   ]
  },
  {
   "cell_type": "code",
   "execution_count": 186,
   "metadata": {},
   "outputs": [],
   "source": [
    "# Given the X test inputs, with their corresponding Y labels, and a vector of parameters theta, calculate\n",
    "# the MSE\n",
    "def mse_error(X, Y, theta):\n",
    "    phi_X = np.column_stack((np.ones(X.shape[0]), X))\n",
    "    Yh = np.dot(phi_X, theta)\n",
    "    sse_training = np.square(Y - Yh).sum()\n",
    "    mse_training = sse_training / Y.size\n",
    "    return mse_training"
   ]
  },
  {
   "cell_type": "code",
   "execution_count": 237,
   "metadata": {},
   "outputs": [],
   "source": [
    "def lsq_errors_for_pexpansion(Xt, Yt, Xv, Yv, lambda_val, degree, rule): \n",
    "    \n",
    "    if rule == 0:\n",
    "        theta = lsq(Xt, Yt, degree)\n",
    "    elif rule == 1:\n",
    "        theta = regularized_lsq_l1(Xt, Yt, lambda_val, degree)\n",
    "    elif rule == 2:\n",
    "        theta = regularized_lsq_l2(Xt, Yt, lambda_val, degree)\n",
    "\n",
    "     #Training set\n",
    "    phi_Xt = polynomial_expansion(Xt, degree)\n",
    "    mse_training = mse_error(phi_Xt, Yt, theta)\n",
    "        \n",
    "    # Validation set\n",
    "    phi_Xv = polynomial_expansion(Xv, degree)\n",
    "    mse_validation = mse_error(phi_Xv, Yv, theta)\n",
    "    \n",
    "    return mse_training, mse_validation"
   ]
  },
  {
   "cell_type": "code",
   "execution_count": 254,
   "metadata": {},
   "outputs": [],
   "source": [
    "def plot_generalization_errors(gmse_t, gmse_v, lambda_val, min_degree, max_degree, rule):\n",
    "    degree = np.arange(min_degree, max_degree + 1)\n",
    "    train_plot = plt.plot(degree, gmse_t, 'rs', label= 'Entrenamiento', linestyle='-')\n",
    "    valid_plot = plt.plot(degree, gmse_v, 'bs', label= u'Validación', linestyle='-')\n",
    "    plt.legend()\n",
    "    plt.grid(True)\n",
    "    plt.xlabel('Degree of the polynomial expansion')\n",
    "    plt.ylabel('MSE')\n",
    "    if rule == 0:\n",
    "        plt.title('Generalized MSE - LSQ')\n",
    "    elif rule == 1:\n",
    "        plt.title('Generalized MSE - LSQ with L1 reg. Alpha = ' + str(lambda_val))\n",
    "    elif rule == 2:\n",
    "        plt.title('Generalized MSE - LSQ with L2 reg. Alpha = ' + str(lambda_val))\n",
    "    plt.show()"
   ]
  },
  {
   "cell_type": "code",
   "execution_count": 255,
   "metadata": {},
   "outputs": [],
   "source": [
    "# Perform a 10-fold cross validation for several polynomial degrees, and plot the\n",
    "# generalized MSE resulting of each polynomial degree\n",
    "def run_model_with_cv(data, folds, alpha, min_degree, max_degree, rule):\n",
    "    kf = KFold(n_splits=folds, shuffle=True)\n",
    "    \n",
    "    gmse_t = []\n",
    "    gmse_v = []\n",
    "    mse_t = 0\n",
    "    mse_v = 0\n",
    "    \n",
    "    for degree in range(min_degree, max_degree + 1):\n",
    "        for train_index, test_index in kf.split(data):\n",
    "            train = []\n",
    "            test = []\n",
    "            for index in train_index:\n",
    "                train.append(list(data[index]))\n",
    "            train = np.array(train)\n",
    "            for index in test_index:\n",
    "                test.append(list(data[index]))\n",
    "            test = np.array(test)\n",
    "            Xt = train[:, :-1]\n",
    "            Yt = train[:, -1:]\n",
    "            Xv = test[:, :-1]\n",
    "            Yv = test[:, -1:]\n",
    "            bfmse_t, bfmse_v = lsq_errors_for_pexpansion(Xt, Yt, Xv, Yv, alpha, degree, rule)\n",
    "            mse_t += bfmse_t\n",
    "            mse_v += bfmse_v\n",
    "        gmse_t.append(mse_t/folds)\n",
    "        gmse_v.append(mse_v/folds)\n",
    "    plot_generalization_errors(gmse_t, gmse_v, alpha, min_degree, max_degree, rule)\n"
   ]
  },
  {
   "cell_type": "markdown",
   "metadata": {},
   "source": [
    "#### a) Regresión por mínimos cuadrados"
   ]
  },
  {
   "cell_type": "code",
   "execution_count": 256,
   "metadata": {},
   "outputs": [
    {
     "data": {
      "image/png": "[encoded data removed]",
      "text/plain": [
       "<Figure size 432x288 with 1 Axes>"
      ]
     },
     "metadata": {
      "needs_background": "light"
     },
     "output_type": "display_data"
    }
   ],
   "source": [
    "min_degree = 1\n",
    "max_degree = 20\n",
    "folds = 10\n",
    "alpha = 0.0\n",
    "run_model_with_cv(houses, folds, alpha, min_degree, max_degree, 0)"
   ]
  },
  {
   "cell_type": "markdown",
   "metadata": {},
   "source": [
    "#### b) Regresión aplicando regularización L1 y L2"
   ]
  },
  {
   "cell_type": "code",
   "execution_count": 257,
   "metadata": {
    "scrolled": false
   },
   "outputs": [
    {
     "data": {
      "image/png": "[encoded data removed]",
      "text/plain": [
       "<Figure size 432x288 with 1 Axes>"
      ]
     },
     "metadata": {
      "needs_background": "light"
     },
     "output_type": "display_data"
    }
   ],
   "source": [
    "# Linear regression using L1 regularization\n",
    "alpha = 0.001\n",
    "run_model_with_cv(houses, folds, alpha, min_degree, max_degree, 1)"
   ]
  },
  {
   "cell_type": "code",
   "execution_count": 258,
   "metadata": {
    "scrolled": true
   },
   "outputs": [
    {
     "data": {
      "image/png": "[encoded data removed]",
      "text/plain": [
       "<Figure size 432x288 with 1 Axes>"
      ]
     },
     "metadata": {
      "needs_background": "light"
     },
     "output_type": "display_data"
    }
   ],
   "source": [
    "run_model_with_cv(houses, folds, alpha, min_degree, max_degree, 2)"
   ]
  },
  {
   "cell_type": "markdown",
   "metadata": {},
   "source": [
    "#### c) Selección de mejores atributos"
   ]
  }
 ],
 "metadata": {
  "kernelspec": {
   "display_name": "Python 2",
   "language": "python",
   "name": "python2"
  },
  "language_info": {
   "codemirror_mode": {
    "name": "ipython",
    "version": 2
   },
   "file_extension": ".py",
   "mimetype": "text/x-python",
   "name": "python",
   "nbconvert_exporter": "python",
   "pygments_lexer": "ipython2",
   "version": "2.7.15"
  }
 },
 "nbformat": 4,
 "nbformat_minor": 2
}

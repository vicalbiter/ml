{
 "cells": [
  {
   "cell_type": "markdown",
   "metadata": {},
   "source": [
    "## Problema 4"
   ]
  },
  {
   "cell_type": "code",
   "execution_count": 1,
   "metadata": {},
   "outputs": [],
   "source": [
    "import pandas as pd\n",
    "import numpy as np\n",
    "import matplotlib.pyplot as plt\n",
    "from sklearn.preprocessing import OneHotEncoder\n",
    "from sklearn.model_selection import train_test_split as tts\n",
    "from sklearn import metrics\n",
    "from sklearn.utils.fixes import signature"
   ]
  },
  {
   "cell_type": "markdown",
   "metadata": {},
   "source": [
    "Comenzamos importando los datos pre-procesados en las matrices de atributos $X_t$ (entrenamiento) y $X_v$ (validación) y los vectores de etiquetas $Y_t$ (entrenamiento) y $Y_v$ (validación)."
   ]
  },
  {
   "cell_type": "code",
   "execution_count": 2,
   "metadata": {},
   "outputs": [],
   "source": [
    "spam = pd.read_csv('spam.csv', header=None, delimiter=\" \")\n",
    "sval = spam.values\n",
    "training_data, test_data = tts(sval, test_size=0.30)\n",
    "Xt = training_data[:, :-1]\n",
    "Yt = training_data[:, -1]\n",
    "Xv = test_data[:, :-1]\n",
    "Yv = test_data[:, -1]"
   ]
  },
  {
   "cell_type": "markdown",
   "metadata": {},
   "source": [
    "### SPAM"
   ]
  },
  {
   "cell_type": "markdown",
   "metadata": {},
   "source": [
    "#### Clasificador bayesiano ingenuo"
   ]
  },
  {
   "cell_type": "markdown",
   "metadata": {},
   "source": [
    "Ya que en este caso el vector de entrada está separado de tal forma que la presencia/ausencia de una palabra es un atributo, no hay que hacer ningún encoding de la matriz de entrada. Procedemos a calcular el desempeño del clasificador tal y como se hizo en el problema anterior."
   ]
  },
  {
   "cell_type": "code",
   "execution_count": 3,
   "metadata": {},
   "outputs": [
    {
     "name": "stdout",
     "output_type": "stream",
     "text": [
      "Tasa de predicciones correctas para:\n",
      "Datos de entrenamiento: 0.9544\n",
      "Datos de validación: 0.9504\n"
     ]
    }
   ],
   "source": [
    "from sklearn.naive_bayes import MultinomialNB\n",
    "mnb = MultinomialNB()\n",
    "mnb.fit(Xt, Yt)\n",
    "print 'Tasa de predicciones correctas para:'\n",
    "print 'Datos de entrenamiento: %0.04f' % mnb.score(Xt, Yt)\n",
    "print 'Datos de validación: %0.04f' % mnb.score(Xv, Yv)"
   ]
  },
  {
   "cell_type": "markdown",
   "metadata": {},
   "source": [
    "#### Regresión Logística"
   ]
  },
  {
   "cell_type": "markdown",
   "metadata": {},
   "source": [
    "Nuevamente colocamos las funciones definidas en el problema anterior, para obtener el vector de parámetros por medio de un descenso de gradiente. La única diferencia es que en esta ocasión, al gradiente la añadimos un término de regularización (con el fin de evitar el overfitting, como en los problemas 1 y 2)."
   ]
  },
  {
   "cell_type": "code",
   "execution_count": 4,
   "metadata": {},
   "outputs": [],
   "source": [
    "def logistic_regression(Xt, Yt, lambda_val, rate, n):\n",
    "    # Create design matrix\n",
    "    phi_Xt = np.column_stack((np.ones(Xt.shape[0]), Xt))\n",
    "    # Initialize theta\n",
    "    theta = np.ones(Xt.shape[1] + 1)\n",
    "    # Return vector of parameters theta\n",
    "    return fit(phi_Xt, Yt, theta, lambda_val, rate, n)\n",
    "    \n",
    "# Perform a gradient descent in order to find, given a set of inputs Xt and labels Yt, the\n",
    "# parameters theta. This gradient descent uses a learning rate \"rate\", through n iterations\n",
    "def fit(Xt, Yt, theta, lambda_val, rate, n):\n",
    "    for i in range(n):\n",
    "        theta = update_theta(Xt, Yt, theta, lambda_val, rate)\n",
    "    return theta\n",
    "\n",
    "# Helper function for gradient descent\n",
    "def update_theta(Xt, Yt, theta, lambda_val, rate):\n",
    "    Yh = predict(Xt, theta)\n",
    "    # Calculate the gradient descent\n",
    "    gradient = (1.0/Xt.shape[0])*np.dot(Xt.T, Yh - Yt) + 2*lambda_val*theta\n",
    "    gradient *= rate\n",
    "    theta -= gradient\n",
    "    return theta\n",
    "\n",
    "# Make predictions over X inputs with parameters theta\n",
    "def predict(X, theta):\n",
    "    z = np.dot(X, theta)\n",
    "    return sigmoid(z)\n",
    "\n",
    "def get_probabilities(X, theta):\n",
    "    phi_X = np.column_stack((np.ones(X.shape[0]), X))\n",
    "    z = np.dot(phi_X, theta)\n",
    "    return sigmoid(z)\n",
    "\n",
    "# Calculate the sigmoid of z (where z is a vector)\n",
    "def sigmoid(z):\n",
    "    return 1 / (1 + np.exp(-1*z))\n",
    "\n",
    "# Classify the probabilities vector Y (if Y(i)>0.5, then Y'(i)=1)\n",
    "def classify(Y):\n",
    "    Yc = []\n",
    "    for p in Y:\n",
    "        if p > 0.5:\n",
    "            Yc.append(1)\n",
    "        else:\n",
    "            Yc.append(0)\n",
    "    return Yc\n",
    "\n",
    "# Calculate the % of correct predictions given a set of actual labels Y, and a set of\n",
    "# predicted labels Yc\n",
    "def error(Y, Yc):\n",
    "    diff = Y - Yc\n",
    "    return 1.0 - np.count_nonzero(diff) / float(len(diff))\n",
    "\n",
    "# Calculate the performace of the parameteres theta with the set X/Y\n",
    "def performance(X, Y, theta):\n",
    "    Yh = predict(np.column_stack((np.ones(X.shape[0]), X)), theta)\n",
    "    Yc = classify(Yh)\n",
    "    return error(Y, Yc)"
   ]
  },
  {
   "cell_type": "code",
   "execution_count": 5,
   "metadata": {},
   "outputs": [],
   "source": [
    "# Perform several logistic regressions with different values for the regularization paramenter \"lambda\"\n",
    "# This function performs a LR with lambda = min_lambda and then it subsequently begins increasing lambda\n",
    "# by a factor of 10, n times\n",
    "def test_lambdas_logistic_regression(Xt, Yt, Xv, Yv, n, min_lambda):\n",
    "    print 'Performance (% of correct predictions) of the logistic regression for: '\n",
    "    for i in range(n):\n",
    "        current_lambda = min_lambda*pow(10, i)\n",
    "        theta = logistic_regression(Xt, Yt, current_lambda, 0.1, 1000)\n",
    "        print 'lambda = %0.4f' % current_lambda\n",
    "        print 'T. set - %0.4f' % performance(Xt, Yt, theta)\n",
    "        print 'V. set - %0.4f' % performance(Xv, Yv, theta)"
   ]
  },
  {
   "cell_type": "markdown",
   "metadata": {},
   "source": [
    "#### Lambdas pequeñas"
   ]
  },
  {
   "cell_type": "markdown",
   "metadata": {},
   "source": [
    "Definimos la función _test-lambdas-logistic-regression_ para facilitar el cálculo del desempeño de los clasificadores, bajo distintos valores del parámetro de regularización."
   ]
  },
  {
   "cell_type": "code",
   "execution_count": 6,
   "metadata": {
    "scrolled": false
   },
   "outputs": [
    {
     "name": "stdout",
     "output_type": "stream",
     "text": [
      "Performance (% of correct predictions) of the logistic regression for: \n",
      "lambda = 0.0001\n",
      "T. set - 0.9207\n",
      "V. set - 0.8976\n",
      "lambda = 0.0010\n",
      "T. set - 0.9240\n",
      "V. set - 0.9001\n",
      "lambda = 0.0100\n",
      "T. set - 0.9572\n",
      "V. set - 0.9349\n",
      "lambda = 0.1000\n",
      "T. set - 0.8602\n",
      "V. set - 0.8524\n",
      "lambda = 1.0000\n",
      "T. set - 0.7533\n",
      "V. set - 0.7461\n"
     ]
    }
   ],
   "source": [
    "test_lambdas_logistic_regression(Xt, Yt, Xv, Yv, 5, 0.0001)"
   ]
  },
  {
   "cell_type": "markdown",
   "metadata": {},
   "source": [
    "Observamos que se obtiene un mejor desempeño del clasificador para valores pequeños del parámetro de regularización, siendo el mejor $\\lambda = 0.001$."
   ]
  },
  {
   "cell_type": "markdown",
   "metadata": {},
   "source": [
    "#### Lambdas grandes"
   ]
  },
  {
   "cell_type": "markdown",
   "metadata": {},
   "source": [
    "Probamos ahora con configuraciones de $\\lambda$ superiores a 10."
   ]
  },
  {
   "cell_type": "code",
   "execution_count": 7,
   "metadata": {
    "scrolled": false
   },
   "outputs": [
    {
     "name": "stdout",
     "output_type": "stream",
     "text": [
      "Performance (% of correct predictions) of the logistic regression for: \n"
     ]
    },
    {
     "name": "stderr",
     "output_type": "stream",
     "text": [
      "/home/vicente/anaconda2/lib/python2.7/site-packages/ipykernel_launcher.py:37: RuntimeWarning: overflow encountered in exp\n"
     ]
    },
    {
     "name": "stdout",
     "output_type": "stream",
     "text": [
      "lambda = 10.0000\n",
      "T. set - 0.2898\n",
      "V. set - 0.2906\n"
     ]
    },
    {
     "name": "stderr",
     "output_type": "stream",
     "text": [
      "/home/vicente/anaconda2/lib/python2.7/site-packages/ipykernel_launcher.py:20: RuntimeWarning: overflow encountered in multiply\n"
     ]
    },
    {
     "name": "stdout",
     "output_type": "stream",
     "text": [
      "lambda = 100.0000\n",
      "T. set - 0.7102\n",
      "V. set - 0.7094\n",
      "lambda = 1000.0000\n",
      "T. set - 0.7102\n",
      "V. set - 0.7094\n",
      "lambda = 10000.0000\n",
      "T. set - 0.7102\n",
      "V. set - 0.7094\n",
      "lambda = 100000.0000\n",
      "T. set - 0.7102\n",
      "V. set - 0.7094\n"
     ]
    }
   ],
   "source": [
    "test_lambdas_logistic_regression(Xt, Yt, Xv, Yv, 5, 10)"
   ]
  },
  {
   "cell_type": "markdown",
   "metadata": {},
   "source": [
    "Se observa que el desempeño es, en todos los casos, muy inferior a todos los modelos entrenados con valores de regularización pequeños."
   ]
  },
  {
   "cell_type": "markdown",
   "metadata": {},
   "source": [
    "### ROC/Precisión Exhaustividad"
   ]
  },
  {
   "cell_type": "code",
   "execution_count": 8,
   "metadata": {},
   "outputs": [],
   "source": [
    "def plot_ROC(Y, YProb):\n",
    "    fpr, tpr, thresholds = metrics.roc_curve(Y, YProb)\n",
    "    auc = metrics.roc_auc_score(Y, YProb)\n",
    "    plt.plot(fpr, tpr)\n",
    "    plt.title('Curva ROC (AUC = %0.2f)' % auc)\n",
    "    plt.plot(np.arange(0, 1, 0.01), np.arange(0, 1, 0.01),linestyle='--', color='g')\n",
    "    plt.legend(loc=\"lower right\")\n",
    "    plt.xlabel('Tasa de falsos positivos')\n",
    "    plt.ylabel('Tasa de verdaderos positivos')\n",
    "    plt.show()\n",
    "\n",
    "def plot_PE(Y, YProb):\n",
    "    pr, ex, thresholds = metrics.precision_recall_curve(Y, YProb)\n",
    "    aps = metrics.average_precision_score(Y, YProb)\n",
    "    step_kwargs = ({'step': 'post'}\n",
    "               if 'step' in signature(plt.fill_between).parameters\n",
    "               else {})\n",
    "    plt.step(ex, pr, color='b',alpha=0.2, where='post')\n",
    "    plt.fill_between(ex, pr, alpha=0.2, color='b', **step_kwargs)\n",
    "    plt.title('Curva Precision Exhaustividad (AUC = %0.2f)' % aps)\n",
    "    plt.legend(loc=\"lower right\")\n",
    "    plt.xlabel('Exhaustividad')\n",
    "    plt.ylabel('Precision')\n",
    "    plt.show()"
   ]
  },
  {
   "cell_type": "markdown",
   "metadata": {},
   "source": [
    "#### Clasificador Bayesiano Ingenuo"
   ]
  },
  {
   "cell_type": "code",
   "execution_count": 9,
   "metadata": {
    "scrolled": true
   },
   "outputs": [
    {
     "data": {
      "image/png": "[encoded data removed]",
      "text/plain": [
       "<Figure size 432x288 with 1 Axes>"
      ]
     },
     "metadata": {
      "needs_background": "light"
     },
     "output_type": "display_data"
    },
    {
     "data": {
      "image/png": "[encoded data removed]",
      "text/plain": [
       "<Figure size 432x288 with 1 Axes>"
      ]
     },
     "metadata": {
      "needs_background": "light"
     },
     "output_type": "display_data"
    }
   ],
   "source": [
    "YtProb = mnb.predict_proba(Xt)\n",
    "plot_ROC(Yt, YtProb[:,1])\n",
    "plot_PE(Yt, YtProb[:,1])"
   ]
  },
  {
   "cell_type": "markdown",
   "metadata": {},
   "source": [
    "#### Regresión Logística (lambda = 0.01)"
   ]
  },
  {
   "cell_type": "code",
   "execution_count": 10,
   "metadata": {
    "scrolled": false
   },
   "outputs": [
    {
     "data": {
      "image/png": "[encoded data removed]",
      "text/plain": [
       "<Figure size 432x288 with 1 Axes>"
      ]
     },
     "metadata": {
      "needs_background": "light"
     },
     "output_type": "display_data"
    },
    {
     "data": {
      "image/png": "[encoded data removed]",
      "text/plain": [
       "<Figure size 432x288 with 1 Axes>"
      ]
     },
     "metadata": {
      "needs_background": "light"
     },
     "output_type": "display_data"
    }
   ],
   "source": [
    "theta = logistic_regression(Xt, Yt, 0.01, 0.1, 1000)\n",
    "YtProb = get_probabilities(Xt, theta)\n",
    "plot_ROC(Yt, YtProb)\n",
    "plot_PE(Yt, YtProb)"
   ]
  },
  {
   "cell_type": "markdown",
   "metadata": {},
   "source": [
    "### Cáncer de seno"
   ]
  },
  {
   "cell_type": "markdown",
   "metadata": {},
   "source": [
    "Comenzamos importando los datos de la base _cancer_."
   ]
  },
  {
   "cell_type": "code",
   "execution_count": 11,
   "metadata": {},
   "outputs": [
    {
     "data": {
      "text/html": [
       "<div>\n",
       "<style scoped>\n",
       "    .dataframe tbody tr th:only-of-type {\n",
       "        vertical-align: middle;\n",
       "    }\n",
       "\n",
       "    .dataframe tbody tr th {\n",
       "        vertical-align: top;\n",
       "    }\n",
       "\n",
       "    .dataframe thead th {\n",
       "        text-align: right;\n",
       "    }\n",
       "</style>\n",
       "<table border=\"1\" class=\"dataframe\">\n",
       "  <thead>\n",
       "    <tr style=\"text-align: right;\">\n",
       "      <th></th>\n",
       "      <th>0</th>\n",
       "      <th>1</th>\n",
       "      <th>2</th>\n",
       "      <th>3</th>\n",
       "      <th>4</th>\n",
       "      <th>5</th>\n",
       "      <th>6</th>\n",
       "      <th>7</th>\n",
       "      <th>8</th>\n",
       "      <th>9</th>\n",
       "      <th>10</th>\n",
       "    </tr>\n",
       "  </thead>\n",
       "  <tbody>\n",
       "    <tr>\n",
       "      <th>0</th>\n",
       "      <td>1000025</td>\n",
       "      <td>5</td>\n",
       "      <td>1</td>\n",
       "      <td>1</td>\n",
       "      <td>1</td>\n",
       "      <td>2</td>\n",
       "      <td>1</td>\n",
       "      <td>3</td>\n",
       "      <td>1</td>\n",
       "      <td>1</td>\n",
       "      <td>2</td>\n",
       "    </tr>\n",
       "    <tr>\n",
       "      <th>1</th>\n",
       "      <td>1002945</td>\n",
       "      <td>5</td>\n",
       "      <td>4</td>\n",
       "      <td>4</td>\n",
       "      <td>5</td>\n",
       "      <td>7</td>\n",
       "      <td>10</td>\n",
       "      <td>3</td>\n",
       "      <td>2</td>\n",
       "      <td>1</td>\n",
       "      <td>2</td>\n",
       "    </tr>\n",
       "    <tr>\n",
       "      <th>2</th>\n",
       "      <td>1015425</td>\n",
       "      <td>3</td>\n",
       "      <td>1</td>\n",
       "      <td>1</td>\n",
       "      <td>1</td>\n",
       "      <td>2</td>\n",
       "      <td>2</td>\n",
       "      <td>3</td>\n",
       "      <td>1</td>\n",
       "      <td>1</td>\n",
       "      <td>2</td>\n",
       "    </tr>\n",
       "    <tr>\n",
       "      <th>3</th>\n",
       "      <td>1016277</td>\n",
       "      <td>6</td>\n",
       "      <td>8</td>\n",
       "      <td>8</td>\n",
       "      <td>1</td>\n",
       "      <td>3</td>\n",
       "      <td>4</td>\n",
       "      <td>3</td>\n",
       "      <td>7</td>\n",
       "      <td>1</td>\n",
       "      <td>2</td>\n",
       "    </tr>\n",
       "    <tr>\n",
       "      <th>4</th>\n",
       "      <td>1017023</td>\n",
       "      <td>4</td>\n",
       "      <td>1</td>\n",
       "      <td>1</td>\n",
       "      <td>3</td>\n",
       "      <td>2</td>\n",
       "      <td>1</td>\n",
       "      <td>3</td>\n",
       "      <td>1</td>\n",
       "      <td>1</td>\n",
       "      <td>2</td>\n",
       "    </tr>\n",
       "  </tbody>\n",
       "</table>\n",
       "</div>"
      ],
      "text/plain": [
       "        0   1   2   3   4   5   6   7   8   9   10\n",
       "0  1000025   5   1   1   1   2   1   3   1   1   2\n",
       "1  1002945   5   4   4   5   7  10   3   2   1   2\n",
       "2  1015425   3   1   1   1   2   2   3   1   1   2\n",
       "3  1016277   6   8   8   1   3   4   3   7   1   2\n",
       "4  1017023   4   1   1   3   2   1   3   1   1   2"
      ]
     },
     "execution_count": 11,
     "metadata": {},
     "output_type": "execute_result"
    }
   ],
   "source": [
    "cancer = pd.read_csv('cancer.csv', header=None)\n",
    "c = cancer.values\n",
    "cancer.head()"
   ]
  },
  {
   "cell_type": "markdown",
   "metadata": {},
   "source": [
    "Sabemos que los valores de esta base de datos tiene datos faltantes. Por ese motivo, antes de operar con estos datos, rellenamos los faltantes por medio del método del promedio, descrito y programado ya en la tarea 2."
   ]
  },
  {
   "cell_type": "code",
   "execution_count": 12,
   "metadata": {},
   "outputs": [],
   "source": [
    "def fixMissingValues(array, method):\n",
    "    \n",
    "    arr = np.copy(array)\n",
    "    \n",
    "    if method == 'mean':\n",
    "        means = []\n",
    "\n",
    "        sumv = 0\n",
    "        count = 0\n",
    "        for j in range(len(arr[0])):\n",
    "            for i in range(len(arr)):\n",
    "                if arr[i][j] == '?':\n",
    "                    continue\n",
    "                else:\n",
    "                    sumv = sumv + int(arr[i][j])\n",
    "                    count = count + 1  \n",
    "            means.append(int(1.0*sumv/count))\n",
    "            sumv = 0\n",
    "            count = 0\n",
    "\n",
    "        for i in range(len(arr)):\n",
    "            for j in range(len(arr[0])):\n",
    "                if arr[i][j] == '?':\n",
    "                    arr[i][j] = means[j]\n",
    "                else:\n",
    "                    arr[i][j] = int(arr[i][j])\n",
    "        return arr\n",
    "    \n",
    "    elif method == 'zero':\n",
    "        for i in range(len(arr)):\n",
    "            for j in range(len(arr[0])):\n",
    "                if arr[i][j] == '?':\n",
    "                    arr[i][j] = 0\n",
    "                else:\n",
    "                    arr[i][j] = int(arr[i][j])\n",
    "        return arr\n",
    "\n",
    "    return None"
   ]
  },
  {
   "cell_type": "markdown",
   "metadata": {},
   "source": [
    "Una vez que los valores faltantes han sido \"rellenados\", podemos separar los datos en las matrices de atributos $X_t$ (entrenamiento) y $X_v$ (validación) y los vectores de etiquetas $Y_t$ (entrenamiento) y $Y_v$ (validación)."
   ]
  },
  {
   "cell_type": "code",
   "execution_count": 13,
   "metadata": {},
   "outputs": [],
   "source": [
    "cnmv = fixMissingValues(c, 'mean')\n",
    "training_data, test_data = tts(cnmv, test_size=0.30)\n",
    "Xt = training_data[:, 1:-1]\n",
    "Yt = np.transpose(training_data[:, 10:]).flatten()\n",
    "Xv = test_data[:, 1:-1]\n",
    "Yv = np.transpose(test_data[:, 10:]).flatten()\n",
    "\n",
    "Yt = np.array(list((Yt - 2)/2))\n",
    "Yv = np.array(list((Yv - 2)/2))"
   ]
  },
  {
   "cell_type": "markdown",
   "metadata": {},
   "source": [
    "#### Reparametrización de los vectores de entrada"
   ]
  },
  {
   "cell_type": "markdown",
   "metadata": {},
   "source": [
    "Para esta base de datos, tenemos nuevamente un caso donde cada atributo toma valores enteros del 1-10, pero estos valores no implican un orden. Para evitar que nuestro clasificador dé peso a este orden inexistente, realizamos un One Hot Encoding de forma similar a como se hizo en el problema 3. Los 9 atributos de la base original se convertiran en 9 x 10 = 90 atributos totales, pues para cada atributo hay 10 categorías distintas."
   ]
  },
  {
   "cell_type": "code",
   "execution_count": 14,
   "metadata": {},
   "outputs": [],
   "source": [
    "atts_categories = []\n",
    "for i in range(9):\n",
    "    atts_categories.append(np.arange(1,11))\n",
    "\n",
    "enct = OneHotEncoder(categories=atts_categories)\n",
    "# Training set\n",
    "enct.fit(Xt)\n",
    "Xte = enct.transform(Xt).toarray()\n",
    "# Validation set \n",
    "encv = OneHotEncoder(categories=atts_categories)\n",
    "encv.fit(Xv)\n",
    "Xve = encv.transform(Xv).toarray() "
   ]
  },
  {
   "cell_type": "markdown",
   "metadata": {},
   "source": [
    "### Clasificador bayesiano ingenuo"
   ]
  },
  {
   "cell_type": "markdown",
   "metadata": {},
   "source": [
    "Ya que hemos pre-procesado nuestros datos de manera que tanto los datos de entrada como los datos de salida son binarios, podemos utilizar un clasificador bayesiano ingenuo de distribución binomial. Usamos pues la clase _BernoulliNB_ para este fin."
   ]
  },
  {
   "cell_type": "code",
   "execution_count": 15,
   "metadata": {},
   "outputs": [
    {
     "name": "stdout",
     "output_type": "stream",
     "text": [
      "Tasa de predicciones correctas para:\n",
      "Datos de entrenamiento: 0.9652\n",
      "Datos de validación: 0.9905\n"
     ]
    }
   ],
   "source": [
    "from sklearn.naive_bayes import BernoulliNB\n",
    "bnb = BernoulliNB()\n",
    "bnb.fit(Xte, Yt)\n",
    "print 'Tasa de predicciones correctas para:'\n",
    "print 'Datos de entrenamiento: %0.04f' % bnb.score(Xte, Yt)\n",
    "print 'Datos de validación: %0.04f' % bnb.score(Xve, Yv)"
   ]
  },
  {
   "cell_type": "markdown",
   "metadata": {},
   "source": [
    "### Clasificador por regresión logística"
   ]
  },
  {
   "cell_type": "markdown",
   "metadata": {},
   "source": [
    "Utilizando la misma función empleada para la base de datos de SPAM, medimos el desempeño de nuestro modelo usando parámetros de regularización pequeños y grandes."
   ]
  },
  {
   "cell_type": "markdown",
   "metadata": {},
   "source": [
    "#### Lambdas pequeñas"
   ]
  },
  {
   "cell_type": "code",
   "execution_count": 16,
   "metadata": {
    "scrolled": false
   },
   "outputs": [
    {
     "name": "stdout",
     "output_type": "stream",
     "text": [
      "Performance (% of correct predictions) of the logistic regression for: \n",
      "lambda = 0.0001\n",
      "T. set - 0.9632\n",
      "V. set - 0.9810\n",
      "lambda = 0.0010\n",
      "T. set - 0.9652\n",
      "V. set - 0.9810\n",
      "lambda = 0.0100\n",
      "T. set - 0.9652\n",
      "V. set - 0.9762\n",
      "lambda = 0.1000\n",
      "T. set - 0.9407\n",
      "V. set - 0.9667\n",
      "lambda = 1.0000\n",
      "T. set - 0.8200\n",
      "V. set - 0.8571\n"
     ]
    }
   ],
   "source": [
    "test_lambdas_logistic_regression(Xte, Yt, Xve, Yv, 5, 0.0001)"
   ]
  },
  {
   "cell_type": "markdown",
   "metadata": {},
   "source": [
    "#### Lambdas grandes"
   ]
  },
  {
   "cell_type": "code",
   "execution_count": 17,
   "metadata": {
    "scrolled": false
   },
   "outputs": [
    {
     "name": "stdout",
     "output_type": "stream",
     "text": [
      "Performance (% of correct predictions) of the logistic regression for: \n",
      "lambda = 10.0000\n",
      "T. set - 0.3538\n",
      "V. set - 0.3238\n",
      "lambda = 100.0000\n",
      "T. set - 0.6462\n",
      "V. set - 0.6762\n",
      "lambda = 1000.0000\n",
      "T. set - 0.6462\n",
      "V. set - 0.6762\n",
      "lambda = 10000.0000\n",
      "T. set - 0.6462\n",
      "V. set - 0.6762\n",
      "lambda = 100000.0000\n",
      "T. set - 0.6462\n",
      "V. set - 0.6762\n"
     ]
    },
    {
     "name": "stderr",
     "output_type": "stream",
     "text": [
      "/home/vicente/anaconda2/lib/python2.7/site-packages/ipykernel_launcher.py:37: RuntimeWarning: overflow encountered in exp\n",
      "/home/vicente/anaconda2/lib/python2.7/site-packages/ipykernel_launcher.py:20: RuntimeWarning: overflow encountered in multiply\n"
     ]
    }
   ],
   "source": [
    "test_lambdas_logistic_regression(Xte, Yt, Xve, Yv, 5, 10)"
   ]
  },
  {
   "cell_type": "markdown",
   "metadata": {},
   "source": [
    "### ROC/Precisión Exhaustividad"
   ]
  },
  {
   "cell_type": "markdown",
   "metadata": {},
   "source": [
    "#### Clasificador Bayesiano Ingenuo"
   ]
  },
  {
   "cell_type": "code",
   "execution_count": 18,
   "metadata": {
    "scrolled": true
   },
   "outputs": [
    {
     "data": {
      "image/png": "[encoded data removed]",
      "text/plain": [
       "<Figure size 432x288 with 1 Axes>"
      ]
     },
     "metadata": {
      "needs_background": "light"
     },
     "output_type": "display_data"
    },
    {
     "data": {
      "image/png": "[encoded data removed]",
      "text/plain": [
       "<Figure size 432x288 with 1 Axes>"
      ]
     },
     "metadata": {
      "needs_background": "light"
     },
     "output_type": "display_data"
    }
   ],
   "source": [
    "YtProb = bnb.predict_proba(Xte)\n",
    "plot_ROC(Yt, YtProb[:,1])\n",
    "plot_PE(Yt, YtProb[:,1])"
   ]
  },
  {
   "cell_type": "markdown",
   "metadata": {},
   "source": [
    "#### Regresión Logística (lambda = 0.0001)"
   ]
  },
  {
   "cell_type": "code",
   "execution_count": 19,
   "metadata": {
    "scrolled": false
   },
   "outputs": [
    {
     "data": {
      "image/png": "[encoded data removed]",
      "text/plain": [
       "<Figure size 432x288 with 1 Axes>"
      ]
     },
     "metadata": {
      "needs_background": "light"
     },
     "output_type": "display_data"
    },
    {
     "data": {
      "image/png": "[encoded data removed]",
      "text/plain": [
       "<Figure size 432x288 with 1 Axes>"
      ]
     },
     "metadata": {
      "needs_background": "light"
     },
     "output_type": "display_data"
    }
   ],
   "source": [
    "theta = logistic_regression(Xte, Yt, 0.0001, 0.1, 1000)\n",
    "YtProb = get_probabilities(Xte, theta)\n",
    "plot_ROC(Yt, YtProb)\n",
    "plot_PE(Yt, YtProb)"
   ]
  }
 ],
 "metadata": {
  "kernelspec": {
   "display_name": "Python 2",
   "language": "python",
   "name": "python2"
  },
  "language_info": {
   "codemirror_mode": {
    "name": "ipython",
    "version": 2
   },
   "file_extension": ".py",
   "mimetype": "text/x-python",
   "name": "python",
   "nbconvert_exporter": "python",
   "pygments_lexer": "ipython2",
   "version": "2.7.15"
  }
 },
 "nbformat": 4,
 "nbformat_minor": 2
}

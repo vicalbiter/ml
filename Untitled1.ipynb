{
 "cells": [
  {
   "cell_type": "markdown",
   "metadata": {},
   "source": [
    "## Problema 1"
   ]
  },
  {
   "cell_type": "code",
   "execution_count": 1,
   "metadata": {},
   "outputs": [],
   "source": [
    "import pandas as pd\n",
    "import numpy as np\n",
    "import matplotlib.pyplot as plt\n",
    "from sklearn.preprocessing import PolynomialFeatures"
   ]
  },
  {
   "cell_type": "code",
   "execution_count": 11,
   "metadata": {},
   "outputs": [],
   "source": [
    "all_data = pd.read_csv(\"housing.csv\", header=None)\n",
    "all_data.head()\n",
    "\n",
    "x_training = pd.read_csv('x_entrenamiento.csv', header=None)\n",
    "Xt = x_training.values\n",
    "y_training = pd.read_csv('y_entrenamiento.csv', header=None)\n",
    "Yt = y_training.values\n",
    "x_validation = pd.read_csv('x_validacion.csv', header=None)\n",
    "Xv = x_validation.values\n",
    "y_validation = pd.read_csv('y_validacion.csv', header=None)\n",
    "Yv = y_validation.values"
   ]
  },
  {
   "cell_type": "markdown",
   "metadata": {},
   "source": [
    "### Definición de funciones importantes"
   ]
  },
  {
   "cell_type": "code",
   "execution_count": 12,
   "metadata": {},
   "outputs": [],
   "source": [
    "# Scikit-learn Lasso (L1) and Ridge (L2) functions for LS linear regression\n",
    "from sklearn.linear_model import Lasso\n",
    "from sklearn.linear_model import Ridge"
   ]
  },
  {
   "cell_type": "code",
   "execution_count": null,
   "metadata": {},
   "outputs": [],
   "source": [
    "# Performs a linear regression over the training set Xt/Yt using LS with L2\n",
    "def regularized_lq(Xt, Yt, alpha, degree):\n",
    "        clf = Ridge(alpha, copy_X=True, fit_intercept=True, normalize=True)\n",
    "        ridge = clf.fit(Xt, Yt)\n",
    "        return ridge.get_params()"
   ]
  },
  {
   "cell_type": "code",
   "execution_count": 4,
   "metadata": {},
   "outputs": [],
   "source": [
    "# Given the X test inputs, with their corresponding Y labels, and a vector of parameters theta, calculate\n",
    "# the MSE\n",
    "def mse_error(X, Y, theta):\n",
    "    phi_X = np.column_stack((np.ones(X.shape[0]), X))\n",
    "    Yh = np.dot(phi_X, theta)\n",
    "    sse_training = np.square(Y - Yh).sum()\n",
    "    mse_training = sse_training / Y.size\n",
    "    return mse_training"
   ]
  },
  {
   "cell_type": "code",
   "execution_count": 5,
   "metadata": {},
   "outputs": [],
   "source": [
    "# Performs several regularized_lq regressions over the sets, by using a different \n",
    "# set of basis functions (resulting from a polynomial expansion)\n",
    "# Returns the MSE for the training and validations sets, and the resulting theta parameters\n",
    "def regularized_lq_errors(Xt, Yt, Xv, Yv, lambda_val, min_degree, max_degree, rule):\n",
    "    \n",
    "    mse_training_values = []\n",
    "    mse_validation_values = []\n",
    "    \n",
    "    for i in range(min_degree, max_degree + 1):\n",
    "        if rule == 1:\n",
    "            theta = regularized_lq_l1(Xt, Yt, Xv, Yv, lambda_val, i)\n",
    "        elif rule == 2:\n",
    "            theta = regularized_lq_l2(Xt, Yt, Xv, Yv, lambda_val, i)\n",
    "        \n",
    "        #Training set\n",
    "        phi_Xt = polynomial_expansion(Xt, i)\n",
    "        mse_training = mse_error(phi_Xt, Yt, theta)\n",
    "        mse_training_values.append(mse_training)\n",
    "        \n",
    "        # Validation set\n",
    "        phi_Xv = polynomial_expansion(Xv, i)\n",
    "        mse_validation = mse_error(phi_Xv, Yv, theta)\n",
    "        mse_validation_values.append(mse_validation)\n",
    "    \n",
    "    return mse_training_values, mse_validation_values"
   ]
  },
  {
   "cell_type": "code",
   "execution_count": 6,
   "metadata": {},
   "outputs": [],
   "source": [
    "# Plot a comparison between the Training MSE and the Validation MSE, given the min and max\n",
    "# degrees, and the lambda parameters\n",
    "def plot_errors(Xt, Xv, Yt, Yv, lambda_val, min_degree, max_degree):\n",
    "    mse_t, mse_v = regularized_lq_errors(Xt, Yt, Xv, Yv, lambda_val, min_degree, max_degree)\n",
    "    degree = np.arange(min_degree, max_degree + 1)\n",
    "    train_plot = plt.plot(degree, mse_t, 'rs', label= 'Entrenamiento', linestyle='-')\n",
    "    valid_plot = plt.plot(degree, mse_v, 'bs', label= u'Validación', linestyle='-')\n",
    "    plt.legend()\n",
    "    plt.grid(True)\n",
    "    plt.xlabel('Degree of the polynomial expansion')\n",
    "    plt.ylabel('MSE')\n",
    "    plt.title('MSE for lambda = ' + str(lambda_val))\n",
    "    plt.show()"
   ]
  },
  {
   "cell_type": "code",
   "execution_count": null,
   "metadata": {},
   "outputs": [],
   "source": []
  }
 ],
 "metadata": {
  "kernelspec": {
   "display_name": "Python 2",
   "language": "python",
   "name": "python2"
  },
  "language_info": {
   "codemirror_mode": {
    "name": "ipython",
    "version": 2
   },
   "file_extension": ".py",
   "mimetype": "text/x-python",
   "name": "python",
   "nbconvert_exporter": "python",
   "pygments_lexer": "ipython2",
   "version": "2.7.15"
  }
 },
 "nbformat": 4,
 "nbformat_minor": 2
}
